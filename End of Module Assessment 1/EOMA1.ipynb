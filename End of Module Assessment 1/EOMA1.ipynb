{
 "cells": [
  {
   "cell_type": "markdown",
   "metadata": {},
   "source": [
    "# End-of-Module Assessment 1"
   ]
  },
  {
   "cell_type": "markdown",
   "metadata": {},
   "source": [
    "## Instructions\n",
    "\n",
    "Please read and follow these instructions and specifications carefully.  \n",
    "\n",
    "1. This test is available from July 22 to 11:59 PM of July 27. We will only grade this test after July 27, and we will only grade it once.\n",
    "2. This test covers Modules 2 to 4. At this point in the course, you are expected to be familiar enough with Python to use the concepts from these modules with finesse. \n",
    "3. Unless otherwise specified, you are not allowed to use any non-standard (i.e., not in the standard library) modules for this test. We must be strict about this on principle. For example, if you use NumPy or Pandas without permission on problems which ask you to process data, we reserve the right to give your answer no credit. If you are unsure whether you are allowed to use a library, ask. (Yes, you can use the csv and json libraries.)\n",
    "4. Answers to problems that are hard-coded, done in another program such as Excel, or go against the learning outcomes in any other manner will be given no credit. If you are unsure whether your approach to a problem goes against the learning outcomes, ask.  \n",
    "5. You are encouraged to use only the provided code cell for each number. However, if you _need_ more cells, you may add them. If you do add more cells, make sure to label them very clearly. Code cells that are not clearly labelled will not be checked.\n",
    "6. If you are asked to output files, please write them all to the `output` folder, even if we forget to specify the ./output prefix.\n",
    "7. If we ask you to use an input file, please find the file in the appropriate section's folder. If it is not there, let us know.\n",
    "\n",
    "Submission instructions:\n",
    "1. Create a NEW GitHub repository. This repository is what you will submit to the Canvas assignment to indicate that you have submitted. Name your repository SECTION-IDNUM-LASTNAME-EOMA1 (e.g., A-199999-ILAGAN-EOMA1).\n",
    "2. Upload the contents of this folder to your repository. This includes the EOMA1.ipynb file, the output folder, and all three section folders.\n",
    "3. To officially submit your assignment, upload the link to your GitHub repository and your duly accomplished COA to the Canvas assignment (just like the normal assignments).\n",
    "\n",
    "Some notes:\n",
    "1. Joe made some of these items, and Joben made the others. The items will likely have different conventions in the context/briefs. Please follow them carefully anyway.\n"
   ]
  },
  {
   "cell_type": "markdown",
   "metadata": {},
   "source": [
    "## Section 1: Rudimentary Data Processing (30 points)"
   ]
  },
  {
   "cell_type": "markdown",
   "metadata": {},
   "source": [
    "### Context\n",
    "\n",
    "One extremely common form of data is the data shared between applications. Nowadays, when applications talk to each other, they send data in the form of JSON using Hypertext Transfer Protocol (HTTP). You will learn more about this in the next module.  \n",
    "\n",
    "For this section, you are to process data from Twitter's API. The results of several requests to Twitter's API about tweets with the keyword \"SONA\" have been pre-saved in a `.json` file called `./section1/tweets.json`. Please run the following cell to ensure that the file loads properly. "
   ]
  },
  {
   "cell_type": "code",
   "execution_count": 2,
   "metadata": {},
   "outputs": [],
   "source": [
    "# execute this cell to load the file\n",
    "\n",
    "import json\n",
    "# If the tweets do not load properly, change this path as necessary.\n",
    "tweets_file = './section1/tweets.json'\n",
    "\n",
    "with open(tweets_file, \"r\") as json_file:\n",
    "    tweets = json.loads(json_file.read())\n",
    "\n",
    "# Print contents of tweets to make sure things are okay."
   ]
  },
  {
   "cell_type": "markdown",
   "metadata": {},
   "source": [
    "### 1.1  \n",
    "\n",
    "Print out the number of tweets."
   ]
  },
  {
   "cell_type": "code",
   "execution_count": 21,
   "metadata": {},
   "outputs": [
    {
     "name": "stdout",
     "output_type": "stream",
     "text": [
      "100\n"
     ]
    }
   ],
   "source": [
    "# CODE CELL\n",
    "count = 0\n",
    "# CODE START\n",
    "for x in tweets: \n",
    "    count += 1\n",
    "print(count)\n",
    "# CODE END"
   ]
  },
  {
   "cell_type": "markdown",
   "metadata": {},
   "source": [
    "### 1.2\n",
    "\n",
    "Create a list variable called `tweet_texts` that contains the text of the tweets contained in `tweets`.  \n",
    "\n",
    "Afterwards, print `tweet_texts`."
   ]
  },
  {
   "cell_type": "code",
   "execution_count": 20,
   "metadata": {},
   "outputs": [
    {
     "name": "stdout",
     "output_type": "stream",
     "text": [
      "['RT @watchmejayjay: Ay di ka nakanood ng SONA? Wag ka mag-alala, ito yung summary ng mga plano ni tatay laban sa COVID 19: A thread', 'RT @TOWER_Namba: 【#ジェジュン】\\n\\n\\\\カバーアルバムを引っさげたツアー映像🎥/\\n\\nツアー映像『J-JUN LIVE 2019～Love Covers～』本日入荷しました🙌\\n2日間のみのプレミアムライヴを映像とCDでお楽しみいただける豪華盤!!!\\n\\nCDがあれば…', '@kapilkolotya @kharaa_sona_ Bhai jo le liya hai mene 3saal pehle usko me Boycott kr duga. But\\n\\nMujy Made in india IPHONE dedo.', 'RT @TOWER_Namba: 【#ジェジュン】\\n\\n\\\\ジェジュンの優しく、深い歌声がしみわたる..../\\n\\nカバーアルバム『Love Covers Ⅱ』本日入荷しました🙌\\n原曲の良さをひきたてるだけでなく、ジェジュンらしさも全開のアルバムです♪\\n\\n🎁タワレコ特典はアナザージャ…', 'RT @JaDineTrash: Her own time. \\nHer own thoughts. \\nHer own style. \\n\\nThank you, Nadine. The battles you fight have always been for a bigger…', 'RT @Absolutalbert: VP isn’t invited to SONA? \\n\\nDesignated Survivor.', 'RT @cnnphilippines: THREAD: Duterte pushed for the reimposition of capital punishment, specifying the method of lethal injection, for heino…', 'RT @quarkhenares: WHY. WHY DO THEY EVEN GET FILMMAKERS TO SHOOT THE FUCKING SONA', 'RT @Hashtag_nikko13: Di ko nakita yung sona😢😢\\nHayaan ko na nga di rin naman nila tayo nakikita', \"I hope that we can get some or the same treatment of clarity, purpose &amp; the fastness to support the passage of the Bayanihan [to Recover as One Act], which will supplement funds for recovery &amp; response against the impact of the #COVID-19 pandemic.\\n\\n-President #Duterte's 5th #SONA\", 'RT @gmanews: Philippine neighbors standing up to China without war, Carpio tells Duterte after SONA https://t.co/nieAExKbCu', '@ReaperSZN__ Stupid no-maskers ruining the fun for everyone, online &amp; off 😭😭', 'RT @iamkarendavila: Okay, clearly Senator Franklin Drilon is in the President’s consciousness. Mentioning him again in the SONA. Calls him…', 'OUR MARAWI:  Fake News: Walang Human rights Violation sa Martial Law ni Duterte sabi nya sa kanyang SONA https://t.co/YDt5a7f6KI \\n\\n#ThisIsOurMindanao', \"RT @Joseph_Morong: Tadah! Highlights of Pres. Duterte's 5th SONA @gmanews https://t.co/bc4vfGyRpq\", '@marvsmodel Maliban sa war sila ni vice, nasa SONA pala siya. 😁', '@serahphymn Totally a 5 🥺 If my sona met him they would totally vibe', '@Fahmiraza1Raza @ajmaljami Bhai kachra dumping ka name sona  hy kbhi??? Kachra paida hona ha gvt na osko dispose krna ha jab ni hoga ya hoga log kahan dumpkry batao', 'RT @HMV_Kawasaki: 【#ジェジュン】大ヒットしたカバーアルバムの第2弾「Love Covers II」入荷しました✨CDの2形態には先着ご購入特典で「アナザージャケット（HMV絵柄）」をお付けしています🌹プレミアムライブを収録した映像作品「J-JUN LIVE…', 'RT @rapplerdotcom: \"The message seems clear: Smart and Globe go the way of ABS-CBN if they cannot clear the creative legal hurdles that wil…', 'RT @Absolutalbert: VP isn’t invited to SONA? \\n\\nDesignated Survivor.', 'Evanu thala kaga varala elan fc page ku tha fans ya erkanga yaru tag sona enada kiruiu ko🔥gala\\n#valimai #ThalaAjith #Ajithkumar https://t.co/hQ14YGO6lU', 'LIST: 21 priority bills of Duterte in SONA 2020 | by @maracepeda \\n\\nhttps://t.co/CSiWT3lZ3O', '@ABSCBNNews @_katrinadomingo did we watch the same version of SONA?? Iba ata napanood ni Imee', 'RT @ItsACsLife: the fact that this year’s SONA won’t reach the whole nation because the only station that can reach everyone nationwide was…', 'RT @HanssensAnthony: Here is my sona ^^ https://t.co/x0aw68yuY5', 'DDS: \"Mag SONA kayo ng inyo\"\\n\\nLIKE ANO NA NAMAN YAN? AMPOTA HAHAHA', \"May I again reiterate my thanks to you, the men and women of Congress, for the effort you invested into passing that law.\\n\\n-President Rodrigo Roa #Duterte's 5th #SONA\", 'Quédate con la persona que no te deje ir a dormir sin antes decirte \"decansa,soña bonito y recuerda que te quiero mucho\".', 'RT @gmanews: LOOK: Pati mga health worker, sumali sa anti-SONA rally kaninang umaga sa UP Diliman. \\n\\nAyon sa mga dumalo, malala ang mga pro…', \"RT @leamaine2019: Hello there, my Queen @mainedcm!\\xa0 I'll be attending PRRD's SONA w/ leaders across the globe so I won't be able to tweet f…\", 'RT @heroangel17: SONA\\nState Of No Accomplishment\\n\\n🤭✊', 'Difficult step .\\nMere liye kar lega rohit....me kar lunga sona ko step pasand he 🙂.\\n\\n#KahaanHumKahaanTum #Ronakshi \\n #KarPika #KaranVGrover #DipikaKakar \\nTum jao ghar pe sona mujhe sikha degi 😂😂😂 \\nMujhe maza aaya tha 😂😂 https://t.co/aqRFuujs0I', 'RT @SB19TrendsPH: [TAG UPDATE]\\n\\nTo give way to discussions related to SONA 2020 held earlier this afternoon, we would like to request to dr…', \"Ria Atayde sends strong message, shares angry quote before Pres. Duterte's 5th SONA \\n#RiaAtayde\\n#SONA2020 \\nRead more: https://t.co/wTfCJZZE1l\", 'RT @AltABSCBN: Galit tayong lahat kahapon eh. Panoorin niyo yung SONA ulit. Mukha siyang grade 4 na inutusan magbasa sa pahina 35.', 'Was that a SONA?', 'RT @inquirerdotnet: LOOK: Groups from different sectors gather at UP Diliman, Quezon City on Monday, July 27, to protest hours before the f…', 'RT @JeevanParihar15: #RT must💯💯💯💯\\n #9_अगस्त_विश्व_आदिवासी_दिवस \\n\\n@Bhagvateebheel @RoshniDamor5 @Tribal_sona @BheelNandu @Vijeshbheel @BtpRa…', 'RT @MikeDefensor: The historical COVID SONA 2020. Limited attendance in plenary with everyone else watching in ZOOM. Listened to Pres Duter…', 'RT @heroangel17: SONA\\nState Of No Accomplishment\\n\\n🤭✊', 'RT @kaisipangabitan: SONA 2020 (Dir. Joyce Bernal) https://t.co/dX9oeSFbW2', 'RT @heroangel17: SONA\\nState Of No Accomplishment\\n\\n🤭✊', 'RT @kbrosas: May joke ako about SA sona.. kaso wag na Lang pala kc walang kwenta 😜', 'Nanga @ThalaAjith_FC  tag sona tha tweets poduvom . \\n\\nNanga @ThalaAjith_FC  tag sona tweet poda matom. \\n\\nEpudiye soltu suthunga nalaiku danush &amp; sl fans la namba record ya beat panitu povanga ukanthu avungaluku pidicha fc page ku pooja podunga 😊\\n#valimai #ThalaAjith #Ajithkumar', \"This health emergency stretched the government’s resources to its limits. In response, the Office of the President worked closely with Congress for the quick passage of the Bayanihan to Heal as One Act.\\n\\n-President Rodrigo Roa #Duterte's 5th #SONA\", '@Chaiharvest OPEN YOUR PURSE SHOW ME YOUR SONA', 'Mabuti na sa UP Campus @UPSystem &amp; @CHRgovph naganap ang mga kilos-protesta sa #SONA\\n\\nAt HINDI sa Commonwealth Ave kung saan PERWISYO &amp; SALOT lang ang mga protesta sa aming taongbayan\\n\\nBAWAL dapat ang mga protesta sa lansangan\\n\\n#SONA2020\\n#SONAgKAISA\\n#SONAgkaisa2020\\n#SONAtotoo', \"RT @cnnphilippines: Globe and PLDT shares are down at the first hour of trading today. It's the first time for market players to react to P…\", '#verivery_asc hi! please make sure to take care of yourselves! verivery! fighting!', 'RT @ANCALERTS: Senate Minority Leader Franklin Drilon, which drew ire from President Duterte during his 5th SONA, said that he had \"nothing…', 'RT @shujoprime: 『#週刊女性』8/4/11合併号が好評発売中！ 表紙は #ジェジュン さん☆ ソウルでの独占インタビュー＆美麗写真をお見逃しなく! #三浦春馬 さんが本誌に見せてくれた素顔の数々をグラビアで振り返ります。毎年恒例「#好きなジャニーズ #嫌いなジャ…', 'RT @sb19nized: [TAG UPDATE]\\n\\nTo give way to discussions related to SONA 2020 held earlier this afternoon, we would like to request to drop…', 'RT @mariaressa: “Walang sustansya”: Celebrities react to Duterte’s 5th SONA https://t.co/pvuEZoILCj', 'RT @JethroGamez: Tapos na ang SONA trends. Balik na tayo sa normal Twitter.\\n\\nAnd most especially, si Duterte pa rin ang Pangulo ng Republik…', \"We also provided temporary wage employment [opportunities] to displaced marginalized workers through the TUPAD Project. Our indigent senior citizens were also provided with a stipend for the [first] semester of the current year.\\n\\n-President Rodrigo Roa #Duterte's 5th #SONA\", \"RT @Delzolll: Lemme post my first anthro attempt on here 😌 @bratbIush 's sona Harley!! Artfight keeping me busy lol https://t.co/4mH3Xw4kNc\", '@ProIndian3 @kharaa_sona_ @IndianPandaa @theexwhogothot @BrahmaandKiMaa @caustic_kanya 😯😯 billi', 'RT @Plaridel_DLSU: Ngayong araw isasagawa ang ikalimang SONA na nagkaroon ng mga pagbabago dahil sa pandemyang idinulot ng COVID-19. #SONA2…', 'RT @1969Enigma: $SONA $SONA.CA #SONA @SonaNanotech @SONA_CSO \\n\\nhttps://t.co/gNUeg7g1LG', 'Marcos: \"Many decry the lack of an elaborate and all-encompassing economic plan in yesterday\\'s SONA... What PRRD declared however, loud and clear... was his government\\'s readiness to lead the way out of this pandemic.\" | via @_katrinadomingo', '@Neko_Sona https://t.co/HKJzWDY1x5', 'RT @gigiesguerra: shet bagong dilig na naman po wooo tapos na ba yung sona?', 'RT @dailyguardianph: Neither the lingering threat of the COVID-19 nor the pouring rain failed to stop groups from protesting the policies o…', 'RT @quarkhenares: WHY. WHY DO THEY EVEN GET FILMMAKERS TO SHOOT THE FUCKING SONA', 'RT @itsJayEMD: Buti pa ang mga pupunta sa SONA, may mandatory RT-PCR. KAming mga humaharap sa pandemya, pahirapan pa. Taena nyo.', 'RT @rapplerdotcom: \"The message seems clear: Smart and Globe go the way of ABS-CBN if they cannot clear the creative legal hurdles that wil…', 'RT @boymejo: Replay of my YouTube livestream on my reaction to the SONA esp with regard to #FranklinDrilon https://t.co/7acRwA6X6Q', 'RT @michellemmanese: SONA stands for State of Neverending Audacity 🤷\\u200d♀️', 'RT @CIRE41: Sabi ng mga wokes, hindi raw sila na-inspire sa SONA.\\nAkala ko ba may panawagan sila na i-boycott ang pakikinig?\\n\\nAnyare?', 'RT @kaisipangabitan: SONA 2020 (Dir. Joyce Bernal) https://t.co/dX9oeSFbW2', 'RT @heroangel17: SONA\\nState Of No Accomplishment\\n\\n🤭✊', 'Nakalimang SONA na ako, di ka pa rin INSURED.\\nPRES: DUTERTE\\nSONA 2020 https://t.co/lAiuKKFKXJ', '@DrawzSona If its Sona, we roll with it B)', '@Per_sona__ おちつきましｳﾞｵｵｵｵｪｱｱｱ', 'RT @ParladeJr: On SONA..the Chinese is in possession of the WPS, they have the arms and we dont. Tama si PRRD..my question is WHO ALLOWED t…', '@ReaperSZN__ Soooo..... probably never 😅 https://t.co/TM83uYrE5e', 'RT @charli_sctex: Duterte reading his SONA script https://t.co/Q9eEr67bIz', \"RT @macoydubs1: Uy ang napaka-petty ng SONA na 'to. Para tayong High School student council na nagpaparinig sa kalaban sa Miting de Avance.…\", 'RT @michellemmanese: SONA stands for State of Neverending Audacity 🤷\\u200d♀️', \"Yo, with all the attractive female OCs I've seen seeing (and falling for) lately, I might need to draw my sona doing one of these sometime soon. https://t.co/m2bdQVkqRt\", 'RT @itsJayEMD: Buti pa ang mga pupunta sa SONA, may mandatory RT-PCR. KAming mga humaharap sa pandemya, pahirapan pa. Taena nyo.', 'RT @michellemmanese: SONA stands for State of Neverending Audacity 🤷\\u200d♀️', \"RT @ANCALERTS: 'Usually full of rants and excuses': What public officials said about Duterte's 5th SONA #SONA2020 https://t.co/uliLmrYgV4\", 'RT @avcimucahit: Ali Erbaş, kendisinin Papa ya da Patrik gibi ruhani bir lider olduğunu falan sanıyor olmalı. Birisi beyefendiye 657’ye tab…', \"We came up with the COVID-19 Adjustment Measures Program. We extended financial assistance to over 650,000 affected individuals in the formal sector, 110,000 OFWs abroad, and almost 83,000 repatriated OFWs.\\n\\n-President Rodrigo Roa #Duterte's 5th #SONA\", 'RT @rapplerdotcom: “Hindi patas ang batas sa atin.”\\n\\nAfter the President’s 5th SONA, Human rights lawyer and staunch admin critic Chel Diok…', 'RT @usapinglacson: DAPAT UMAYOS na ang mga telcos matapos pagsabihan ng Pangulo sa kanyang SONA; dapat may babala rin ang Presidente sa ila…', 'RT @rapplerdotcom: Presidential Spokesman Harry Roque pushing through with holding his post-SONA press briefing in New Executive Bldg despi…', 'RT @benok_castillo: Ikumpara ang SONA sa testimonya ni Nanay.', 'Nagnegatibo sa COVID-19 si Senate Majority Leader Juan Miguel Zubiri matapos sumailalim sa swab test. Posible daw na remnants lang ng coronavirus ang nakita sa una niyang test bago ang SONA ni Pres. Duterte.\\n\\nMarso nang tamaan ng COVID-19 si Zubiri pero gumaling din siya kalaunan https://t.co/YveoXwq0gT', \"RT @AnakbayanUST: READ:\\n\\nOfficial Statement of Anakbayan-UST on President Duterte's 5th State of the Nation Address (SONA)\\n\\n#WakaSONA2020\\n#…\", 'RT @preenph: Nadine Lustre #SONAgKAISA protest art? Yes, please!\\n\\n#SONA2020 https://t.co/RXplFca9Da', 'Ni-lockdown sa loob ng siyam na araw para sa disinfection ang New Executive Building sa Malacañang kung saan idinaraos ang press briefings ng Palasyo. Sa kabila nito, tuloy sa NEB ang post-SONA press conference ngayong araw. https://t.co/FjltiqiW82', 'Rep. @sarahelago of @KabataanPL recounts the recent arrests and harassment of state forces against protesters and student activists both before and during the 5th SONA. #SONAgKAISA #WakaSONA2020 https://t.co/Sjcnu8qtuO', '@kharaa_sona_ @aadyamishraa @hiteshm09 @explorerhoon @Chandra_gupt7 @Zero_humour @aryaeddardstark @Man_isssh @nice_girl09 @vishal_saini_vs @ladywithflaws @sagarcasm @vaderakash @LoyalSachinFan @oldschoolmonk @tree_lochan @Singhlicious @nishacharr @pubgkadeewana @roooossshhiiiii', 'Ang SONA na parang speech lng ng student council. Mabuti pa yong student council may sense pero sa kanya nonsense.. duhhhh', \"I actually watched the SONA attentively, but I don't recall him saying this???? is this even true??? https://t.co/pFoUCUwxiA\", 'RT @itsyaboiraff: Joseph Morong listening while typing the minutes of SONA 2020. https://t.co/NQ0ZQWKJ2d', 'Duterte asks Congress to pass 21 bills during the remainder of his presidency. Only 5 were specifically designed to respond to the COVID-19 crisis, reports @maracepeda \\n\\nhttps://t.co/6F8GGFl7GU']\n"
     ]
    }
   ],
   "source": [
    "# CODE CELL\n",
    "tweet_texts = []\n",
    "# CODE START\n",
    "for tweet in tweets:\n",
    "    tweet_texts.append(tweet[\"full_text\"])\n",
    "print(tweet_texts)\n",
    "# CODE END\n",
    "# The output should look like this."
   ]
  },
  {
   "cell_type": "markdown",
   "metadata": {},
   "source": [
    "### 1.3\n",
    "\n",
    "Remove duplicate tweet text lines and save the resulting (cleaned-up) list in the same variable `tweet_texts`.  "
   ]
  },
  {
   "cell_type": "code",
   "execution_count": 16,
   "metadata": {},
   "outputs": [
    {
     "name": "stdout",
     "output_type": "stream",
     "text": [
      "['RT MARIARESSA: “WALANG SUSTANSYA”: CELEBRITIES REACT TO DUTERTES 5TH SONA HTTPS://TCO/PVUEZOILCJ', 'NAGNEGATIBO SA COVID19 SI SENATE MAJORITY LEADER JUAN MIGUEL ZUBIRI MATAPOS SUMAILALIM SA SWAB TEST POSIBLE DAW NA REMNANTS LANG NG CORONAVIRUS ANG NAKITA SA UNA NIYANG TEST BAGO ANG SONA NI PRES DUTERTE\\n\\nMARSO NANG TAMAAN NG COVID19 SI ZUBIRI PERO GUMALING DIN SIYA KALAUNAN HTTPS://TCO/YVEOXWQ0GT', 'RT PREENPH: NADINE LUSTRE SONAGKAISA PROTEST ART YES PLEASE\\n\\nSONA2020 HTTPS://TCO/RXPLFCA9DA', 'CHAIHARVEST OPEN YOUR PURSE SHOW ME YOUR SONA', 'RT ANCALERTS: SENATE MINORITY LEADER FRANKLIN DRILON WHICH DREW IRE FROM PRESIDENT DUTERTE DURING HIS 5TH SONA SAID THAT HE HAD NOTHING…', 'DDS: MAG SONA KAYO NG INYO\\n\\nLIKE ANO NA NAMAN YAN AMPOTA HAHAHA', 'RT ITSJAYEMD: BUTI PA ANG MGA PUPUNTA SA SONA MAY MANDATORY RTPCR KAMING MGA HUMAHARAP SA PANDEMYA PAHIRAPAN PA TAENA NYO', 'WE ALSO PROVIDED TEMPORARY WAGE EMPLOYMENT OPPORTUNITIES TO DISPLACED MARGINALIZED WORKERS THROUGH THE TUPAD PROJECT OUR INDIGENT SENIOR CITIZENS WERE ALSO PROVIDED WITH A STIPEND FOR THE FIRST SEMESTER OF THE CURRENT YEAR\\n\\nPRESIDENT RODRIGO ROA DUTERTES 5TH SONA', 'RT CHARLISCTEX: DUTERTE READING HIS SONA SCRIPT HTTPS://TCO/Q9EER67BIZ', 'RT ITSACSLIFE: THE FACT THAT THIS YEARS SONA WONT REACH THE WHOLE NATION BECAUSE THE ONLY STATION THAT CAN REACH EVERYONE NATIONWIDE WAS…', 'RT RAPPLERDOTCOM: PRESIDENTIAL SPOKESMAN HARRY ROQUE PUSHING THROUGH WITH HOLDING HIS POSTSONA PRESS BRIEFING IN NEW EXECUTIVE BLDG DESPI…', 'RT JOSEPHMORONG: TADAH HIGHLIGHTS OF PRES DUTERTES 5TH SONA GMANEWS HTTPS://TCO/BC4VFGYRPQ', 'FAHMIRAZA1RAZA AJMALJAMI BHAI KACHRA DUMPING KA NAME SONA  HY KBHI KACHRA PAIDA HONA HA GVT NA OSKO DISPOSE KRNA HA JAB NI HOGA YA HOGA LOG KAHAN DUMPKRY BATAO', 'RT ALTABSCBN: GALIT TAYONG LAHAT KAHAPON EH PANOORIN NIYO YUNG SONA ULIT MUKHA SIYANG GRADE 4 NA INUTUSAN MAGBASA SA PAHINA 35', 'RT GMANEWS: LOOK: PATI MGA HEALTH WORKER SUMALI SA ANTISONA RALLY KANINANG UMAGA SA UP DILIMAN \\n\\nAYON SA MGA DUMALO MALALA ANG MGA PRO…', 'RT BENOKCASTILLO: IKUMPARA ANG SONA SA TESTIMONYA NI NANAY', 'MAY I AGAIN REITERATE MY THANKS TO YOU THE MEN AND WOMEN OF CONGRESS FOR THE EFFORT YOU INVESTED INTO PASSING THAT LAW\\n\\nPRESIDENT RODRIGO ROA DUTERTES 5TH SONA', 'RT RAPPLERDOTCOM: “HINDI PATAS ANG BATAS SA ATIN”\\n\\nAFTER THE PRESIDENTS 5TH SONA HUMAN RIGHTS LAWYER AND STAUNCH ADMIN CRITIC CHEL DIOK…', 'MARCOS: MANY DECRY THE LACK OF AN ELABORATE AND ALLENCOMPASSING ECONOMIC PLAN IN YESTERDAYS SONA WHAT PRRD DECLARED HOWEVER LOUD AND CLEAR WAS HIS GOVERNMENTS READINESS TO LEAD THE WAY OUT OF THIS PANDEMIC | VIA KATRINADOMINGO', 'RT HMVKAWASAKI: 【ジェジュン】大ヒットしたカバーアルバムの第2弾「LOVE COVERS II」入荷しました✨CDの2形態には先着ご購入特典で「アナザージャケット（HMV絵柄）」をお付けしています🌹プレミアムライブを収録した映像作品「JJUN LIVE…', 'REAPERSZN SOOOO PROBABLY NEVER 😅 HTTPS://TCO/TM83UYRE5E', 'RT KBROSAS: MAY JOKE AKO ABOUT SA SONA KASO WAG NA LANG PALA KC WALANG KWENTA 😜', 'QUÉDATE CON LA PERSONA QUE NO TE DEJE IR A DORMIR SIN ANTES DECIRTE DECANSASOÑA BONITO Y RECUERDA QUE TE QUIERO MUCHO', 'RT PLARIDELDLSU: NGAYONG ARAW ISASAGAWA ANG IKALIMANG SONA NA NAGKAROON NG MGA PAGBABAGO DAHIL SA PANDEMYANG IDINULOT NG COVID19 SONA2…', 'MABUTI NA SA UP CAMPUS UPSYSTEM AMP; CHRGOVPH NAGANAP ANG MGA KILOSPROTESTA SA SONA\\n\\nAT HINDI SA COMMONWEALTH AVE KUNG SAAN PERWISYO AMP; SALOT LANG ANG MGA PROTESTA SA AMING TAONGBAYAN\\n\\nBAWAL DAPAT ANG MGA PROTESTA SA LANSANGAN\\n\\nSONA2020\\nSONAGKAISA\\nSONAGKAISA2020\\nSONATOTOO', 'ANG SONA NA PARANG SPEECH LNG NG STUDENT COUNCIL MABUTI PA YONG STUDENT COUNCIL MAY SENSE PERO SA KANYA NONSENSE DUHHHH', 'LIST: 21 PRIORITY BILLS OF DUTERTE IN SONA 2020 | BY MARACEPEDA \\n\\nHTTPS://TCO/CSIWT3LZ3O', 'RT JEEVANPARIHAR15: RT MUST💯💯💯💯\\n 9अगस्तविश्वआदिवासीदिवस \\n\\nBHAGVATEEBHEEL ROSHNIDAMOR5 TRIBALSONA BHEELNANDU VIJESHBHEEL BTPRA…', 'PROINDIAN3 KHARAASONA INDIANPANDAA THEEXWHOGOTHOT BRAHMAANDKIMAA CAUSTICKANYA 😯😯 BILLI', 'VERIVERYASC HI PLEASE MAKE SURE TO TAKE CARE OF YOURSELVES VERIVERY FIGHTING', 'REAPERSZN STUPID NOMASKERS RUINING THE FUN FOR EVERYONE ONLINE AMP; OFF 😭😭', 'THIS HEALTH EMERGENCY STRETCHED THE GOVERNMENTS RESOURCES TO ITS LIMITS IN RESPONSE THE OFFICE OF THE PRESIDENT WORKED CLOSELY WITH CONGRESS FOR THE QUICK PASSAGE OF THE BAYANIHAN TO HEAL AS ONE ACT\\n\\nPRESIDENT RODRIGO ROA DUTERTES 5TH SONA', 'RT TOWERNAMBA: 【ジェジュン】\\n\\n\\\\カバーアルバムを引っさげたツアー映像🎥/\\n\\nツアー映像『JJUN LIVE 2019～LOVE COVERS～』本日入荷しました🙌\\n2日間のみのプレミアムライヴを映像とCDでお楽しみいただける豪華盤\\n\\nCDがあれば…', 'RT DAILYGUARDIANPH: NEITHER THE LINGERING THREAT OF THE COVID19 NOR THE POURING RAIN FAILED TO STOP GROUPS FROM PROTESTING THE POLICIES O…', 'REP SARAHELAGO OF KABATAANPL RECOUNTS THE RECENT ARRESTS AND HARASSMENT OF STATE FORCES AGAINST PROTESTERS AND STUDENT ACTIVISTS BOTH BEFORE AND DURING THE 5TH SONA SONAGKAISA WAKASONA2020 HTTPS://TCO/SJCNU8QTUO', 'RIA ATAYDE SENDS STRONG MESSAGE SHARES ANGRY QUOTE BEFORE PRES DUTERTES 5TH SONA \\nRIAATAYDE\\nSONA2020 \\nREAD MORE: HTTPS://TCO/WTFCJZZE1L', 'RT ITSYABOIRAFF: JOSEPH MORONG LISTENING WHILE TYPING THE MINUTES OF SONA 2020 HTTPS://TCO/NQ0ZQWKJ2D', 'RT IAMKARENDAVILA: OKAY CLEARLY SENATOR FRANKLIN DRILON IS IN THE PRESIDENTS CONSCIOUSNESS MENTIONING HIM AGAIN IN THE SONA CALLS HIM…', 'WE CAME UP WITH THE COVID19 ADJUSTMENT MEASURES PROGRAM WE EXTENDED FINANCIAL ASSISTANCE TO OVER 650000 AFFECTED INDIVIDUALS IN THE FORMAL SECTOR 110000 OFWS ABROAD AND ALMOST 83000 REPATRIATED OFWS\\n\\nPRESIDENT RODRIGO ROA DUTERTES 5TH SONA', 'RT MACOYDUBS1: UY ANG NAPAKAPETTY NG SONA NA TO PARA TAYONG HIGH SCHOOL STUDENT COUNCIL NA NAGPAPARINIG SA KALABAN SA MITING DE AVANCE…', 'RT INQUIRERDOTNET: LOOK: GROUPS FROM DIFFERENT SECTORS GATHER AT UP DILIMAN QUEZON CITY ON MONDAY JULY 27 TO PROTEST HOURS BEFORE THE F…', 'YO WITH ALL THE ATTRACTIVE FEMALE OCS IVE SEEN SEEING AND FALLING FOR LATELY I MIGHT NEED TO DRAW MY SONA DOING ONE OF THESE SOMETIME SOON HTTPS://TCO/M2BDQVKQRT', 'RT HANSSENSANTHONY: HERE IS MY SONA ^^ HTTPS://TCO/X0AW68YUY5', 'RT HASHTAGNIKKO13: DI KO NAKITA YUNG SONA😢😢\\nHAYAAN KO NA NGA DI RIN NAMAN NILA TAYO NAKIKITA', 'RT RAPPLERDOTCOM: THE MESSAGE SEEMS CLEAR: SMART AND GLOBE GO THE WAY OF ABSCBN IF THEY CANNOT CLEAR THE CREATIVE LEGAL HURDLES THAT WIL…', 'PERSONA おちつきましｳﾞｵｵｵｵｪｱｱｱ', 'RT PARLADEJR: ON SONATHE CHINESE IS IN POSSESSION OF THE WPS THEY HAVE THE ARMS AND WE DONT TAMA SI PRRDMY QUESTION IS WHO ALLOWED T…', 'RT GIGIESGUERRA: SHET BAGONG DILIG NA NAMAN PO WOOO TAPOS NA BA YUNG SONA', 'RT MIKEDEFENSOR: THE HISTORICAL COVID SONA 2020 LIMITED ATTENDANCE IN PLENARY WITH EVERYONE ELSE WATCHING IN ZOOM LISTENED TO PRES DUTER…', 'DIFFICULT STEP \\nMERE LIYE KAR LEGA ROHITME KAR LUNGA SONA KO STEP PASAND HE 🙂\\n\\nKAHAANHUMKAHAANTUM RONAKSHI \\n KARPIKA KARANVGROVER DIPIKAKAKAR \\nTUM JAO GHAR PE SONA MUJHE SIKHA DEGI 😂😂😂 \\nMUJHE MAZA AAYA THA 😂😂 HTTPS://TCO/AQRFUUJS0I', 'NANGA THALAAJITHFC  TAG SONA THA TWEETS PODUVOM  \\n\\nNANGA THALAAJITHFC  TAG SONA TWEET PODA MATOM \\n\\nEPUDIYE SOLTU SUTHUNGA NALAIKU DANUSH AMP; SL FANS LA NAMBA RECORD YA BEAT PANITU POVANGA UKANTHU AVUNGALUKU PIDICHA FC PAGE KU POOJA PODUNGA 😊\\nVALIMAI THALAAJITH AJITHKUMAR', 'RT CNNPHILIPPINES: THREAD: DUTERTE PUSHED FOR THE REIMPOSITION OF CAPITAL PUNISHMENT SPECIFYING THE METHOD OF LETHAL INJECTION FOR HEINO…', 'RT MICHELLEMMANESE: SONA STANDS FOR STATE OF NEVERENDING AUDACITY 🤷\\u200d♀️', 'SERAHPHYMN TOTALLY A 5 🥺 IF MY SONA MET HIM THEY WOULD TOTALLY VIBE', 'RT DELZOLLL: LEMME POST MY FIRST ANTHRO ATTEMPT ON HERE 😌 BRATBIUSH S SONA HARLEY ARTFIGHT KEEPING ME BUSY LOL HTTPS://TCO/4MH3XW4KNC', 'DUTERTE ASKS CONGRESS TO PASS 21 BILLS DURING THE REMAINDER OF HIS PRESIDENCY ONLY 5 WERE SPECIFICALLY DESIGNED TO RESPOND TO THE COVID19 CRISIS REPORTS MARACEPEDA \\n\\nHTTPS://TCO/6F8GGFL7GU', 'I ACTUALLY WATCHED THE SONA ATTENTIVELY BUT I DONT RECALL HIM SAYING THIS IS THIS EVEN TRUE HTTPS://TCO/PFOUCUWXIA', 'KHARAASONA AADYAMISHRAA HITESHM09 EXPLORERHOON CHANDRAGUPT7 ZEROHUMOUR ARYAEDDARDSTARK MANISSSH NICEGIRL09 VISHALSAINIVS LADYWITHFLAWS SAGARCASM VADERAKASH LOYALSACHINFAN OLDSCHOOLMONK TREELOCHAN SINGHLICIOUS NISHACHARR PUBGKADEEWANA ROOOOSSSHHIIIII', 'RT JADINETRASH: HER OWN TIME \\nHER OWN THOUGHTS \\nHER OWN STYLE \\n\\nTHANK YOU NADINE THE BATTLES YOU FIGHT HAVE ALWAYS BEEN FOR A BIGGER…', 'DRAWZSONA IF ITS SONA WE ROLL WITH IT B', 'RT ANCALERTS: USUALLY FULL OF RANTS AND EXCUSES: WHAT PUBLIC OFFICIALS SAID ABOUT DUTERTES 5TH SONA SONA2020 HTTPS://TCO/ULILMRYGV4', 'RT ABSOLUTALBERT: VP ISNT INVITED TO SONA \\n\\nDESIGNATED SURVIVOR', 'ABSCBNNEWS KATRINADOMINGO DID WE WATCH THE SAME VERSION OF SONA IBA ATA NAPANOOD NI IMEE', 'RT ANAKBAYANUST: READ:\\n\\nOFFICIAL STATEMENT OF ANAKBAYANUST ON PRESIDENT DUTERTES 5TH STATE OF THE NATION ADDRESS SONA\\n\\nWAKASONA2020\\n…', 'EVANU THALA KAGA VARALA ELAN FC PAGE KU THA FANS YA ERKANGA YARU TAG SONA ENADA KIRUIU KO🔥GALA\\nVALIMAI THALAAJITH AJITHKUMAR HTTPS://TCO/HQ14YGO6LU', 'MARVSMODEL MALIBAN SA WAR SILA NI VICE NASA SONA PALA SIYA 😁', 'RT CIRE41: SABI NG MGA WOKES HINDI RAW SILA NAINSPIRE SA SONA\\nAKALA KO BA MAY PANAWAGAN SILA NA IBOYCOTT ANG PAKIKINIG\\n\\nANYARE', 'RT 1969ENIGMA: SONA SONACA SONA SONANANOTECH SONACSO \\n\\nHTTPS://TCO/GNUEG7G1LG', 'NEKOSONA HTTPS://TCO/HKJZWDY1X5', 'RT HEROANGEL17: SONA\\nSTATE OF NO ACCOMPLISHMENT\\n\\n🤭✊', 'RT CNNPHILIPPINES: GLOBE AND PLDT SHARES ARE DOWN AT THE FIRST HOUR OF TRADING TODAY ITS THE FIRST TIME FOR MARKET PLAYERS TO REACT TO P…', 'RT QUARKHENARES: WHY WHY DO THEY EVEN GET FILMMAKERS TO SHOOT THE FUCKING SONA', 'OUR MARAWI:  FAKE NEWS: WALANG HUMAN RIGHTS VIOLATION SA MARTIAL LAW NI DUTERTE SABI NYA SA KANYANG SONA HTTPS://TCO/YDT5A7F6KI \\n\\nTHISISOURMINDANAO', 'RT JETHROGAMEZ: TAPOS NA ANG SONA TRENDS BALIK NA TAYO SA NORMAL TWITTER\\n\\nAND MOST ESPECIALLY SI DUTERTE PA RIN ANG PANGULO NG REPUBLIK…', 'RT BOYMEJO: REPLAY OF MY YOUTUBE LIVESTREAM ON MY REACTION TO THE SONA ESP WITH REGARD TO FRANKLINDRILON HTTPS://TCO/7ACRWA6X6Q', 'I HOPE THAT WE CAN GET SOME OR THE SAME TREATMENT OF CLARITY PURPOSE AMP; THE FASTNESS TO SUPPORT THE PASSAGE OF THE BAYANIHAN TO RECOVER AS ONE ACT WHICH WILL SUPPLEMENT FUNDS FOR RECOVERY AMP; RESPONSE AGAINST THE IMPACT OF THE COVID19 PANDEMIC\\n\\nPRESIDENT DUTERTES 5TH SONA', 'RT SB19TRENDSPH: TAG UPDATE\\n\\nTO GIVE WAY TO DISCUSSIONS RELATED TO SONA 2020 HELD EARLIER THIS AFTERNOON WE WOULD LIKE TO REQUEST TO DR…', 'NAKALIMANG SONA NA AKO DI KA PA RIN INSURED\\nPRES: DUTERTE\\nSONA 2020 HTTPS://TCO/LAIUKKFKXJ', 'RT AVCIMUCAHIT: ALI ERBAŞ KENDISININ PAPA YA DA PATRIK GIBI RUHANI BIR LIDER OLDUĞUNU FALAN SANIYOR OLMALI BIRISI BEYEFENDIYE 657YE TAB…', 'RT TOWERNAMBA: 【ジェジュン】\\n\\n\\\\ジェジュンの優しく、深い歌声がしみわたる/\\n\\nカバーアルバム『LOVE COVERS Ⅱ』本日入荷しました🙌\\n原曲の良さをひきたてるだけでなく、ジェジュンらしさも全開のアルバムです♪\\n\\n🎁タワレコ特典はアナザージャ…', 'RT SHUJOPRIME: 『週刊女性』8/4/11合併号が好評発売中！ 表紙は ジェジュン さん☆ ソウルでの独占インタビュー＆美麗写真をお見逃しなく 三浦春馬 さんが本誌に見せてくれた素顔の数々をグラビアで振り返ります。毎年恒例「好きなジャニーズ 嫌いなジャ…', 'RT LEAMAINE2019: HELLO THERE MY QUEEN MAINEDCM\\xa0 ILL BE ATTENDING PRRDS SONA W/ LEADERS ACROSS THE GLOBE SO I WONT BE ABLE TO TWEET F…', 'RT GMANEWS: PHILIPPINE NEIGHBORS STANDING UP TO CHINA WITHOUT WAR CARPIO TELLS DUTERTE AFTER SONA HTTPS://TCO/NIEAEXKBCU', 'RT KAISIPANGABITAN: SONA 2020 DIR JOYCE BERNAL HTTPS://TCO/DX9OESFBW2', 'RT SB19NIZED: TAG UPDATE\\n\\nTO GIVE WAY TO DISCUSSIONS RELATED TO SONA 2020 HELD EARLIER THIS AFTERNOON WE WOULD LIKE TO REQUEST TO DROP…', 'RT USAPINGLACSON: DAPAT UMAYOS NA ANG MGA TELCOS MATAPOS PAGSABIHAN NG PANGULO SA KANYANG SONA; DAPAT MAY BABALA RIN ANG PRESIDENTE SA ILA…', 'KAPILKOLOTYA KHARAASONA BHAI JO LE LIYA HAI MENE 3SAAL PEHLE USKO ME BOYCOTT KR DUGA BUT\\n\\nMUJY MADE IN INDIA IPHONE DEDO', 'WAS THAT A SONA', 'RT WATCHMEJAYJAY: AY DI KA NAKANOOD NG SONA WAG KA MAGALALA ITO YUNG SUMMARY NG MGA PLANO NI TATAY LABAN SA COVID 19: A THREAD', 'NILOCKDOWN SA LOOB NG SIYAM NA ARAW PARA SA DISINFECTION ANG NEW EXECUTIVE BUILDING SA MALACAÑANG KUNG SAAN IDINARAOS ANG PRESS BRIEFINGS NG PALASYO SA KABILA NITO TULOY SA NEB ANG POSTSONA PRESS CONFERENCE NGAYONG ARAW HTTPS://TCO/FJLTIQIW82']\n"
     ]
    }
   ],
   "source": [
    "# CODE CELL\n",
    "\n",
    "# CODE START\n",
    "tweet_texts = list(set(tweet_texts))\n",
    "print(tweet_texts)\n",
    "# CODE END\n",
    "# The output should look like this."
   ]
  },
  {
   "cell_type": "markdown",
   "metadata": {},
   "source": [
    "### 1.4\n",
    "\n",
    "We will now perform a very simple word count on the texts.  \n",
    "\n",
    "We have provided a dictionary called `words_dict`. Your code in the next cell should process the tweets such that `words_dict` will contain key-value pairs where the key is a unique word and where the value is the number of times the word appears across all of the texts.  \n",
    "\n",
    "For each text, remove the characters contained in the following string:  \n",
    "\n",
    "`\"&$@[].,'#()-\\\"!?’_\"`  \n",
    "\n",
    "Please ignore the newline (`\\n`) character.  "
   ]
  },
  {
   "cell_type": "code",
   "execution_count": 17,
   "metadata": {},
   "outputs": [
    {
     "name": "stdout",
     "output_type": "stream",
     "text": [
      "{'RT': 53, 'MARIARESSA:': 1, '“WALANG': 1, 'SUSTANSYA”:': 1, 'CELEBRITIES': 1, 'REACT': 2, 'TO': 36, 'DUTERTES': 10, '5TH': 13, 'SONA': 65, 'HTTPS://TCO/PVUEZOILCJ': 1, 'NAGNEGATIBO': 1, 'SA': 34, 'COVID19': 7, 'SI': 4, 'SENATE': 2, 'MAJORITY': 1, 'LEADER': 2, 'JUAN': 1, 'MIGUEL': 1, 'ZUBIRI': 2, 'MATAPOS': 2, 'SUMAILALIM': 1, 'SWAB': 1, 'TEST': 2, 'POSIBLE': 1, 'DAW': 1, 'NA': 19, 'REMNANTS': 1, 'LANG': 3, 'NG': 14, 'CORONAVIRUS': 1, 'ANG': 20, 'NAKITA': 2, 'UNA': 1, 'NIYANG': 1, 'BAGO': 1, 'NI': 7, 'PRES': 4, 'DUTERTE': 10, 'MARSO': 1, 'NANG': 1, 'TAMAAN': 1, 'PERO': 2, 'GUMALING': 1, 'DIN': 1, 'SIYA': 2, 'KALAUNAN': 1, 'HTTPS://TCO/YVEOXWQ0GT': 1, 'PREENPH:': 1, 'NADINE': 2, 'LUSTRE': 1, 'SONAGKAISA': 3, 'PROTEST': 2, 'ART': 1, 'YES': 1, 'PLEASE': 2, 'SONA2020': 4, 'HTTPS://TCO/RXPLFCA9DA': 1, 'CHAIHARVEST': 1, 'OPEN': 1, 'YOUR': 2, 'PURSE': 1, 'SHOW': 1, 'ME': 3, 'ANCALERTS:': 2, 'MINORITY': 1, 'FRANKLIN': 2, 'DRILON': 2, 'WHICH': 2, 'DREW': 1, 'IRE': 1, 'FROM': 3, 'PRESIDENT': 8, 'DURING': 3, 'HIS': 5, 'SAID': 2, 'THAT': 7, 'HE': 2, 'HAD': 1, 'NOTHING…': 1, 'DDS:': 1, 'MAG': 1, 'KAYO': 1, 'INYO': 1, 'LIKE': 3, 'ANO': 1, 'NAMAN': 3, 'YAN': 1, 'AMPOTA': 1, 'HAHAHA': 1, 'ITSJAYEMD:': 1, 'BUTI': 1, 'PA': 5, 'MGA': 12, 'PUPUNTA': 1, 'MAY': 6, 'MANDATORY': 1, 'RTPCR': 1, 'KAMING': 1, 'HUMAHARAP': 1, 'PANDEMYA': 1, 'PAHIRAPAN': 1, 'TAENA': 1, 'NYO': 1, 'WE': 9, 'ALSO': 2, 'PROVIDED': 2, 'TEMPORARY': 1, 'WAGE': 1, 'EMPLOYMENT': 1, 'OPPORTUNITIES': 1, 'DISPLACED': 1, 'MARGINALIZED': 1, 'WORKERS': 1, 'THROUGH': 2, 'THE': 55, 'TUPAD': 1, 'PROJECT': 1, 'OUR': 2, 'INDIGENT': 1, 'SENIOR': 1, 'CITIZENS': 1, 'WERE': 2, 'WITH': 8, 'A': 6, 'STIPEND': 1, 'FOR': 11, 'FIRST': 4, 'SEMESTER': 1, 'OF': 30, 'CURRENT': 1, 'YEAR': 1, 'RODRIGO': 4, 'ROA': 4, 'CHARLISCTEX:': 1, 'READING': 1, 'SCRIPT': 1, 'HTTPS://TCO/Q9EER67BIZ': 1, 'ITSACSLIFE:': 1, 'FACT': 1, 'THIS': 7, 'YEARS': 1, 'WONT': 2, 'REACH': 2, 'WHOLE': 1, 'NATION': 2, 'BECAUSE': 1, 'ONLY': 2, 'STATION': 1, 'CAN': 2, 'EVERYONE': 3, 'NATIONWIDE': 1, 'WAS…': 1, 'RAPPLERDOTCOM:': 3, 'PRESIDENTIAL': 1, 'SPOKESMAN': 1, 'HARRY': 1, 'ROQUE': 1, 'PUSHING': 1, 'HOLDING': 1, 'POSTSONA': 2, 'PRESS': 3, 'BRIEFING': 1, 'IN': 11, 'NEW': 2, 'EXECUTIVE': 2, 'BLDG': 1, 'DESPI…': 1, 'JOSEPHMORONG:': 1, 'TADAH': 1, 'HIGHLIGHTS': 1, 'GMANEWS': 1, 'HTTPS://TCO/BC4VFGYRPQ': 1, 'FAHMIRAZA1RAZA': 1, 'AJMALJAMI': 1, 'BHAI': 2, 'KACHRA': 2, 'DUMPING': 1, 'KA': 4, 'NAME': 1, 'HY': 1, 'KBHI': 1, 'PAIDA': 1, 'HONA': 1, 'HA': 2, 'GVT': 1, 'OSKO': 1, 'DISPOSE': 1, 'KRNA': 1, 'JAB': 1, 'HOGA': 2, 'YA': 4, 'LOG': 1, 'KAHAN': 1, 'DUMPKRY': 1, 'BATAO': 1, 'ALTABSCBN:': 1, 'GALIT': 1, 'TAYONG': 2, 'LAHAT': 1, 'KAHAPON': 1, 'EH': 1, 'PANOORIN': 1, 'NIYO': 1, 'YUNG': 4, 'ULIT': 1, 'MUKHA': 1, 'SIYANG': 1, 'GRADE': 1, '4': 1, 'INUTUSAN': 1, 'MAGBASA': 1, 'PAHINA': 1, '35': 1, 'GMANEWS:': 2, 'LOOK:': 2, 'PATI': 1, 'HEALTH': 2, 'WORKER': 1, 'SUMALI': 1, 'ANTISONA': 1, 'RALLY': 1, 'KANINANG': 1, 'UMAGA': 1, 'UP': 5, 'DILIMAN': 2, 'AYON': 1, 'DUMALO': 1, 'MALALA': 1, 'PRO…': 1, 'BENOKCASTILLO:': 1, 'IKUMPARA': 1, 'TESTIMONYA': 1, 'NANAY': 1, 'I': 6, 'AGAIN': 2, 'REITERATE': 1, 'MY': 8, 'THANKS': 1, 'YOU': 4, 'MEN': 1, 'AND': 14, 'WOMEN': 1, 'CONGRESS': 3, 'EFFORT': 1, 'INVESTED': 1, 'INTO': 1, 'PASSING': 1, 'LAW': 2, '“HINDI': 1, 'PATAS': 1, 'BATAS': 1, 'ATIN”': 1, 'AFTER': 2, 'PRESIDENTS': 2, 'HUMAN': 2, 'RIGHTS': 2, 'LAWYER': 1, 'STAUNCH': 1, 'ADMIN': 1, 'CRITIC': 1, 'CHEL': 1, 'DIOK…': 1, 'MARCOS:': 1, 'MANY': 1, 'DECRY': 1, 'LACK': 1, 'AN': 1, 'ELABORATE': 1, 'ALLENCOMPASSING': 1, 'ECONOMIC': 1, 'PLAN': 1, 'YESTERDAYS': 1, 'WHAT': 2, 'PRRD': 1, 'DECLARED': 1, 'HOWEVER': 1, 'LOUD': 1, 'CLEAR': 2, 'WAS': 2, 'GOVERNMENTS': 2, 'READINESS': 1, 'LEAD': 1, 'WAY': 4, 'OUT': 1, 'PANDEMIC': 2, '|': 2, 'VIA': 1, 'KATRINADOMINGO': 2, 'HMVKAWASAKI:': 1, '【ジェジュン】大ヒットしたカバーアルバムの第2弾「LOVE': 1, 'COVERS': 2, 'II」入荷しました✨CDの2形態には先着ご購入特典で「アナザージャケット（HMV絵柄）」をお付けしています🌹プレミアムライブを収録した映像作品「JJUN': 1, 'LIVE…': 1, 'REAPERSZN': 2, 'SOOOO': 1, 'PROBABLY': 1, 'NEVER': 1, '😅': 1, 'HTTPS://TCO/TM83UYRE5E': 1, 'KBROSAS:': 1, 'JOKE': 1, 'AKO': 2, 'ABOUT': 2, 'KASO': 1, 'WAG': 2, 'PALA': 2, 'KC': 1, 'WALANG': 2, 'KWENTA': 1, '😜': 1, 'QUÉDATE': 1, 'CON': 1, 'LA': 2, 'PERSONA': 2, 'QUE': 2, 'NO': 2, 'TE': 2, 'DEJE': 1, 'IR': 1, 'DORMIR': 1, 'SIN': 1, 'ANTES': 1, 'DECIRTE': 1, 'DECANSASOÑA': 1, 'BONITO': 1, 'Y': 1, 'RECUERDA': 1, 'QUIERO': 1, 'MUCHO': 1, 'PLARIDELDLSU:': 1, 'NGAYONG': 2, 'ARAW': 3, 'ISASAGAWA': 1, 'IKALIMANG': 1, 'NAGKAROON': 1, 'PAGBABAGO': 1, 'DAHIL': 1, 'PANDEMYANG': 1, 'IDINULOT': 1, 'SONA2…': 1, 'MABUTI': 2, 'CAMPUS': 1, 'UPSYSTEM': 1, 'AMP;': 6, 'CHRGOVPH': 1, 'NAGANAP': 1, 'KILOSPROTESTA': 1, 'AT': 3, 'HINDI': 2, 'COMMONWEALTH': 1, 'AVE': 1, 'KUNG': 2, 'SAAN': 2, 'PERWISYO': 1, 'SALOT': 1, 'PROTESTA': 2, 'AMING': 1, 'TAONGBAYAN': 1, 'BAWAL': 1, 'DAPAT': 3, 'LANSANGAN': 1, 'SONAGKAISA2020': 1, 'SONATOTOO': 1, 'PARANG': 1, 'SPEECH': 1, 'LNG': 1, 'STUDENT': 4, 'COUNCIL': 3, 'YONG': 1, 'SENSE': 1, 'KANYA': 1, 'NONSENSE': 1, 'DUHHHH': 1, 'LIST:': 1, '21': 2, 'PRIORITY': 1, 'BILLS': 2, '2020': 7, 'BY': 1, 'MARACEPEDA': 2, 'HTTPS://TCO/CSIWT3LZ3O': 1, 'JEEVANPARIHAR15:': 1, 'MUST💯💯💯💯': 1, '9अगस्तविश्वआदिवासीदिवस': 1, 'BHAGVATEEBHEEL': 1, 'ROSHNIDAMOR5': 1, 'TRIBALSONA': 1, 'BHEELNANDU': 1, 'VIJESHBHEEL': 1, 'BTPRA…': 1, 'PROINDIAN3': 1, 'KHARAASONA': 3, 'INDIANPANDAA': 1, 'THEEXWHOGOTHOT': 1, 'BRAHMAANDKIMAA': 1, 'CAUSTICKANYA': 1, '😯😯': 1, 'BILLI': 1, 'VERIVERYASC': 1, 'HI': 1, 'MAKE': 1, 'SURE': 1, 'TAKE': 1, 'CARE': 1, 'YOURSELVES': 1, 'VERIVERY': 1, 'FIGHTING': 1, 'STUPID': 1, 'NOMASKERS': 1, 'RUINING': 1, 'FUN': 1, 'ONLINE': 1, 'OFF': 1, '😭😭': 1, 'EMERGENCY': 1, 'STRETCHED': 1, 'RESOURCES': 1, 'ITS': 3, 'LIMITS': 1, 'RESPONSE': 2, 'OFFICE': 1, 'WORKED': 1, 'CLOSELY': 1, 'QUICK': 1, 'PASSAGE': 2, 'BAYANIHAN': 2, 'HEAL': 1, 'AS': 2, 'ONE': 3, 'ACT': 2, 'TOWERNAMBA:': 2, '【ジェジュン】': 2, '\\\\カバーアルバムを引っさげたツアー映像🎥/': 1, 'ツアー映像『JJUN': 1, 'LIVE': 1, '2019～LOVE': 1, 'COVERS～』本日入荷しました🙌': 1, '2日間のみのプレミアムライヴを映像とCDでお楽しみいただける豪華盤': 1, 'CDがあれば…': 1, 'DAILYGUARDIANPH:': 1, 'NEITHER': 1, 'LINGERING': 1, 'THREAT': 1, 'NOR': 1, 'POURING': 1, 'RAIN': 1, 'FAILED': 1, 'STOP': 1, 'GROUPS': 2, 'PROTESTING': 1, 'POLICIES': 1, 'O…': 1, 'REP': 1, 'SARAHELAGO': 1, 'KABATAANPL': 1, 'RECOUNTS': 1, 'RECENT': 1, 'ARRESTS': 1, 'HARASSMENT': 1, 'STATE': 4, 'FORCES': 1, 'AGAINST': 2, 'PROTESTERS': 1, 'ACTIVISTS': 1, 'BOTH': 1, 'BEFORE': 3, 'WAKASONA2020': 2, 'HTTPS://TCO/SJCNU8QTUO': 1, 'RIA': 1, 'ATAYDE': 1, 'SENDS': 1, 'STRONG': 1, 'MESSAGE': 2, 'SHARES': 2, 'ANGRY': 1, 'QUOTE': 1, 'RIAATAYDE': 1, 'READ': 1, 'MORE:': 1, 'HTTPS://TCO/WTFCJZZE1L': 1, 'ITSYABOIRAFF:': 1, 'JOSEPH': 1, 'MORONG': 1, 'LISTENING': 1, 'WHILE': 1, 'TYPING': 1, 'MINUTES': 1, 'HTTPS://TCO/NQ0ZQWKJ2D': 1, 'IAMKARENDAVILA:': 1, 'OKAY': 1, 'CLEARLY': 1, 'SENATOR': 1, 'IS': 5, 'CONSCIOUSNESS': 1, 'MENTIONING': 1, 'HIM': 3, 'CALLS': 1, 'HIM…': 1, 'CAME': 1, 'ADJUSTMENT': 1, 'MEASURES': 1, 'PROGRAM': 1, 'EXTENDED': 1, 'FINANCIAL': 1, 'ASSISTANCE': 1, 'OVER': 1, '650000': 1, 'AFFECTED': 1, 'INDIVIDUALS': 1, 'FORMAL': 1, 'SECTOR': 1, '110000': 1, 'OFWS': 2, 'ABROAD': 1, 'ALMOST': 1, '83000': 1, 'REPATRIATED': 1, 'MACOYDUBS1:': 1, 'UY': 1, 'NAPAKAPETTY': 1, 'PARA': 2, 'HIGH': 1, 'SCHOOL': 1, 'NAGPAPARINIG': 1, 'KALABAN': 1, 'MITING': 1, 'DE': 1, 'AVANCE…': 1, 'INQUIRERDOTNET:': 1, 'DIFFERENT': 1, 'SECTORS': 1, 'GATHER': 1, 'QUEZON': 1, 'CITY': 1, 'ON': 5, 'MONDAY': 1, 'JULY': 1, '27': 1, 'HOURS': 1, 'F…': 2, 'YO': 1, 'ALL': 1, 'ATTRACTIVE': 1, 'FEMALE': 1, 'OCS': 1, 'IVE': 1, 'SEEN': 1, 'SEEING': 1, 'FALLING': 1, 'LATELY': 1, 'MIGHT': 1, 'NEED': 1, 'DRAW': 1, 'DOING': 1, 'THESE': 1, 'SOMETIME': 1, 'SOON': 1, 'HTTPS://TCO/M2BDQVKQRT': 1, 'HANSSENSANTHONY:': 1, 'HERE': 2, '^^': 1, 'HTTPS://TCO/X0AW68YUY5': 1, 'HASHTAGNIKKO13:': 1, 'DI': 4, 'KO': 4, 'SONA😢😢': 1, 'HAYAAN': 1, 'NGA': 1, 'RIN': 4, 'NILA': 1, 'TAYO': 2, 'NAKIKITA': 1, 'SEEMS': 1, 'CLEAR:': 1, 'SMART': 1, 'GLOBE': 3, 'GO': 1, 'ABSCBN': 1, 'IF': 3, 'THEY': 4, 'CANNOT': 1, 'CREATIVE': 1, 'LEGAL': 1, 'HURDLES': 1, 'WIL…': 1, 'おちつきましｳﾞｵｵｵｵｪｱｱｱ': 1, 'PARLADEJR:': 1, 'SONATHE': 1, 'CHINESE': 1, 'POSSESSION': 1, 'WPS': 1, 'HAVE': 2, 'ARMS': 1, 'DONT': 2, 'TAMA': 1, 'PRRDMY': 1, 'QUESTION': 1, 'WHO': 1, 'ALLOWED': 1, 'T…': 1, 'GIGIESGUERRA:': 1, 'SHET': 1, 'BAGONG': 1, 'DILIG': 1, 'PO': 1, 'WOOO': 1, 'TAPOS': 2, 'BA': 2, 'MIKEDEFENSOR:': 1, 'HISTORICAL': 1, 'COVID': 2, 'LIMITED': 1, 'ATTENDANCE': 1, 'PLENARY': 1, 'ELSE': 1, 'WATCHING': 1, 'ZOOM': 1, 'LISTENED': 1, 'DUTER…': 1, 'DIFFICULT': 1, 'STEP': 2, 'MERE': 1, 'LIYE': 1, 'KAR': 2, 'LEGA': 1, 'ROHITME': 1, 'LUNGA': 1, 'PASAND': 1, '🙂': 1, 'KAHAANHUMKAHAANTUM': 1, 'RONAKSHI': 1, 'KARPIKA': 1, 'KARANVGROVER': 1, 'DIPIKAKAKAR': 1, 'TUM': 1, 'JAO': 1, 'GHAR': 1, 'PE': 1, 'MUJHE': 2, 'SIKHA': 1, 'DEGI': 1, '😂😂😂': 1, 'MAZA': 1, 'AAYA': 1, 'THA': 3, '😂😂': 1, 'HTTPS://TCO/AQRFUUJS0I': 1, 'NANGA': 2, 'THALAAJITHFC': 2, 'TAG': 5, 'TWEETS': 1, 'PODUVOM': 1, 'TWEET': 2, 'PODA': 1, 'MATOM': 1, 'EPUDIYE': 1, 'SOLTU': 1, 'SUTHUNGA': 1, 'NALAIKU': 1, 'DANUSH': 1, 'SL': 1, 'FANS': 2, 'NAMBA': 1, 'RECORD': 1, 'BEAT': 1, 'PANITU': 1, 'POVANGA': 1, 'UKANTHU': 1, 'AVUNGALUKU': 1, 'PIDICHA': 1, 'FC': 2, 'PAGE': 2, 'KU': 2, 'POOJA': 1, 'PODUNGA': 1, '😊': 1, 'VALIMAI': 2, 'THALAAJITH': 2, 'AJITHKUMAR': 2, 'CNNPHILIPPINES:': 2, 'THREAD:': 1, 'PUSHED': 1, 'REIMPOSITION': 1, 'CAPITAL': 1, 'PUNISHMENT': 1, 'SPECIFYING': 1, 'METHOD': 1, 'LETHAL': 1, 'INJECTION': 1, 'HEINO…': 1, 'MICHELLEMMANESE:': 1, 'STANDS': 1, 'NEVERENDING': 1, 'AUDACITY': 1, '🤷\\u200d♀️': 1, 'SERAHPHYMN': 1, 'TOTALLY': 2, '5': 2, '🥺': 1, 'MET': 1, 'WOULD': 3, 'VIBE': 1, 'DELZOLLL:': 1, 'LEMME': 1, 'POST': 1, 'ANTHRO': 1, 'ATTEMPT': 1, '😌': 1, 'BRATBIUSH': 1, 'S': 1, 'HARLEY': 1, 'ARTFIGHT': 1, 'KEEPING': 1, 'BUSY': 1, 'LOL': 1, 'HTTPS://TCO/4MH3XW4KNC': 1, 'ASKS': 1, 'PASS': 1, 'REMAINDER': 1, 'PRESIDENCY': 1, 'SPECIFICALLY': 1, 'DESIGNED': 1, 'RESPOND': 1, 'CRISIS': 1, 'REPORTS': 1, 'HTTPS://TCO/6F8GGFL7GU': 1, 'ACTUALLY': 1, 'WATCHED': 1, 'ATTENTIVELY': 1, 'BUT': 2, 'RECALL': 1, 'SAYING': 1, 'EVEN': 2, 'TRUE': 1, 'HTTPS://TCO/PFOUCUWXIA': 1, 'AADYAMISHRAA': 1, 'HITESHM09': 1, 'EXPLORERHOON': 1, 'CHANDRAGUPT7': 1, 'ZEROHUMOUR': 1, 'ARYAEDDARDSTARK': 1, 'MANISSSH': 1, 'NICEGIRL09': 1, 'VISHALSAINIVS': 1, 'LADYWITHFLAWS': 1, 'SAGARCASM': 1, 'VADERAKASH': 1, 'LOYALSACHINFAN': 1, 'OLDSCHOOLMONK': 1, 'TREELOCHAN': 1, 'SINGHLICIOUS': 1, 'NISHACHARR': 1, 'PUBGKADEEWANA': 1, 'ROOOOSSSHHIIIII': 1, 'JADINETRASH:': 1, 'HER': 3, 'OWN': 3, 'TIME': 2, 'THOUGHTS': 1, 'STYLE': 1, 'THANK': 1, 'BATTLES': 1, 'FIGHT': 1, 'ALWAYS': 1, 'BEEN': 1, 'BIGGER…': 1, 'DRAWZSONA': 1, 'ROLL': 1, 'IT': 1, 'B': 1, 'USUALLY': 1, 'FULL': 1, 'RANTS': 1, 'EXCUSES:': 1, 'PUBLIC': 1, 'OFFICIALS': 1, 'HTTPS://TCO/ULILMRYGV4': 1, 'ABSOLUTALBERT:': 1, 'VP': 1, 'ISNT': 1, 'INVITED': 1, 'DESIGNATED': 1, 'SURVIVOR': 1, 'ABSCBNNEWS': 1, 'DID': 1, 'WATCH': 1, 'SAME': 2, 'VERSION': 1, 'IBA': 1, 'ATA': 1, 'NAPANOOD': 1, 'IMEE': 1, 'ANAKBAYANUST:': 1, 'READ:': 1, 'OFFICIAL': 1, 'STATEMENT': 1, 'ANAKBAYANUST': 1, 'ADDRESS': 1, '…': 1, 'EVANU': 1, 'THALA': 1, 'KAGA': 1, 'VARALA': 1, 'ELAN': 1, 'ERKANGA': 1, 'YARU': 1, 'ENADA': 1, 'KIRUIU': 1, 'KO🔥GALA': 1, 'HTTPS://TCO/HQ14YGO6LU': 1, 'MARVSMODEL': 1, 'MALIBAN': 1, 'WAR': 2, 'SILA': 3, 'VICE': 1, 'NASA': 1, '😁': 1, 'CIRE41:': 1, 'SABI': 2, 'WOKES': 1, 'RAW': 1, 'NAINSPIRE': 1, 'AKALA': 1, 'PANAWAGAN': 1, 'IBOYCOTT': 1, 'PAKIKINIG': 1, 'ANYARE': 1, '1969ENIGMA:': 1, 'SONACA': 1, 'SONANANOTECH': 1, 'SONACSO': 1, 'HTTPS://TCO/GNUEG7G1LG': 1, 'NEKOSONA': 1, 'HTTPS://TCO/HKJZWDY1X5': 1, 'HEROANGEL17:': 1, 'ACCOMPLISHMENT': 1, '🤭✊': 1, 'PLDT': 1, 'ARE': 1, 'DOWN': 1, 'HOUR': 1, 'TRADING': 1, 'TODAY': 1, 'MARKET': 1, 'PLAYERS': 1, 'P…': 1, 'QUARKHENARES:': 1, 'WHY': 2, 'DO': 1, 'GET': 2, 'FILMMAKERS': 1, 'SHOOT': 1, 'FUCKING': 1, 'MARAWI:': 1, 'FAKE': 1, 'NEWS:': 1, 'VIOLATION': 1, 'MARTIAL': 1, 'NYA': 1, 'KANYANG': 2, 'HTTPS://TCO/YDT5A7F6KI': 1, 'THISISOURMINDANAO': 1, 'JETHROGAMEZ:': 1, 'TRENDS': 1, 'BALIK': 1, 'NORMAL': 1, 'TWITTER': 1, 'MOST': 1, 'ESPECIALLY': 1, 'PANGULO': 2, 'REPUBLIK…': 1, 'BOYMEJO:': 1, 'REPLAY': 1, 'YOUTUBE': 1, 'LIVESTREAM': 1, 'REACTION': 1, 'ESP': 1, 'REGARD': 1, 'FRANKLINDRILON': 1, 'HTTPS://TCO/7ACRWA6X6Q': 1, 'HOPE': 1, 'SOME': 1, 'OR': 1, 'TREATMENT': 1, 'CLARITY': 1, 'PURPOSE': 1, 'FASTNESS': 1, 'SUPPORT': 1, 'RECOVER': 1, 'WILL': 1, 'SUPPLEMENT': 1, 'FUNDS': 1, 'RECOVERY': 1, 'IMPACT': 1, 'SB19TRENDSPH:': 1, 'UPDATE': 2, 'GIVE': 2, 'DISCUSSIONS': 2, 'RELATED': 2, 'HELD': 2, 'EARLIER': 2, 'AFTERNOON': 2, 'REQUEST': 2, 'DR…': 1, 'NAKALIMANG': 1, 'INSURED': 1, 'PRES:': 1, 'HTTPS://TCO/LAIUKKFKXJ': 1, 'AVCIMUCAHIT:': 1, 'ALI': 1, 'ERBAŞ': 1, 'KENDISININ': 1, 'PAPA': 1, 'DA': 1, 'PATRIK': 1, 'GIBI': 1, 'RUHANI': 1, 'BIR': 1, 'LIDER': 1, 'OLDUĞUNU': 1, 'FALAN': 1, 'SANIYOR': 1, 'OLMALI': 1, 'BIRISI': 1, 'BEYEFENDIYE': 1, '657YE': 1, 'TAB…': 1, '\\\\ジェジュンの優しく、深い歌声がしみわたる/': 1, 'カバーアルバム『LOVE': 1, 'Ⅱ』本日入荷しました🙌': 1, '原曲の良さをひきたてるだけでなく、ジェジュンらしさも全開のアルバムです♪': 1, '🎁タワレコ特典はアナザージャ…': 1, 'SHUJOPRIME:': 1, '『週刊女性』8/4/11合併号が好評発売中！': 1, '表紙は': 1, 'ジェジュン': 1, 'さん☆': 1, 'ソウルでの独占インタビュー＆美麗写真をお見逃しなく': 1, '三浦春馬': 1, 'さんが本誌に見せてくれた素顔の数々をグラビアで振り返ります。毎年恒例「好きなジャニーズ': 1, '嫌いなジャ…': 1, 'LEAMAINE2019:': 1, 'HELLO': 1, 'THERE': 1, 'QUEEN': 1, 'MAINEDCM': 1, 'ILL': 1, 'BE': 2, 'ATTENDING': 1, 'PRRDS': 1, 'W/': 1, 'LEADERS': 1, 'ACROSS': 1, 'SO': 1, 'ABLE': 1, 'PHILIPPINE': 1, 'NEIGHBORS': 1, 'STANDING': 1, 'CHINA': 1, 'WITHOUT': 1, 'CARPIO': 1, 'TELLS': 1, 'HTTPS://TCO/NIEAEXKBCU': 1, 'KAISIPANGABITAN:': 1, 'DIR': 1, 'JOYCE': 1, 'BERNAL': 1, 'HTTPS://TCO/DX9OESFBW2': 1, 'SB19NIZED:': 1, 'DROP…': 1, 'USAPINGLACSON:': 1, 'UMAYOS': 1, 'TELCOS': 1, 'PAGSABIHAN': 1, 'SONA;': 1, 'BABALA': 1, 'PRESIDENTE': 1, 'ILA…': 1, 'KAPILKOLOTYA': 1, 'JO': 1, 'LE': 1, 'LIYA': 1, 'HAI': 1, 'MENE': 1, '3SAAL': 1, 'PEHLE': 1, 'USKO': 1, 'BOYCOTT': 1, 'KR': 1, 'DUGA': 1, 'MUJY': 1, 'MADE': 1, 'INDIA': 1, 'IPHONE': 1, 'DEDO': 1, 'WATCHMEJAYJAY:': 1, 'AY': 1, 'NAKANOOD': 1, 'MAGALALA': 1, 'ITO': 1, 'SUMMARY': 1, 'PLANO': 1, 'TATAY': 1, 'LABAN': 1, '19:': 1, 'THREAD': 1, 'NILOCKDOWN': 1, 'LOOB': 1, 'SIYAM': 1, 'DISINFECTION': 1, 'BUILDING': 1, 'MALACAÑANG': 1, 'IDINARAOS': 1, 'BRIEFINGS': 1, 'PALASYO': 1, 'KABILA': 1, 'NITO': 1, 'TULOY': 1, 'NEB': 1, 'CONFERENCE': 1, 'HTTPS://TCO/FJLTIQIW82': 1}\n"
     ]
    }
   ],
   "source": [
    "# CODE CELL\n",
    "words_dict = {}\n",
    "remove_chars = \"&$@[].,'#()-\\\"!?’_\"\n",
    "# CODE START\n",
    "for symbol in remove_chars:\n",
    "    tweet_texts = [s.replace(symbol, \"\") for s in tweet_texts]\n",
    "tweet_texts = [x.upper() for x in tweet_texts]\n",
    "for text in tweet_texts:\n",
    "    words = text.split()\n",
    "    for w in words: \n",
    "        if w in words_dict:\n",
    "            words_dict[(w)] = words_dict[(w)] + 1\n",
    "        else: \n",
    "            words_dict[(w)] = 1\n",
    "print(words_dict)\n",
    "# CODE END\n",
    "# Your output should look like this."
   ]
  },
  {
   "cell_type": "markdown",
   "metadata": {},
   "source": [
    "### 1.5\n",
    "\n",
    "Now, we would like to have a list of words and counts sorted by count in descending order.  \n",
    "\n",
    "Define a new list variable named `words_list` containing **tuples**, where each tuple is as follows:  \n",
    "\n",
    "`(word, count)`\n",
    "\n",
    "Print the contents of `words_list`.  \n",
    "\n",
    "Sample output is provided below."
   ]
  },
  {
   "cell_type": "code",
   "execution_count": 18,
   "metadata": {},
   "outputs": [
    {
     "name": "stdout",
     "output_type": "stream",
     "text": [
      "[('RT', 53), ('MARIARESSA:', 1), ('“WALANG', 1), ('SUSTANSYA”:', 1), ('CELEBRITIES', 1), ('REACT', 2), ('TO', 36), ('DUTERTES', 10), ('5TH', 13), ('SONA', 65), ('HTTPS://TCO/PVUEZOILCJ', 1), ('NAGNEGATIBO', 1), ('SA', 34), ('COVID19', 7), ('SI', 4), ('SENATE', 2), ('MAJORITY', 1), ('LEADER', 2), ('JUAN', 1), ('MIGUEL', 1), ('ZUBIRI', 2), ('MATAPOS', 2), ('SUMAILALIM', 1), ('SWAB', 1), ('TEST', 2), ('POSIBLE', 1), ('DAW', 1), ('NA', 19), ('REMNANTS', 1), ('LANG', 3), ('NG', 14), ('CORONAVIRUS', 1), ('ANG', 20), ('NAKITA', 2), ('UNA', 1), ('NIYANG', 1), ('BAGO', 1), ('NI', 7), ('PRES', 4), ('DUTERTE', 10), ('MARSO', 1), ('NANG', 1), ('TAMAAN', 1), ('PERO', 2), ('GUMALING', 1), ('DIN', 1), ('SIYA', 2), ('KALAUNAN', 1), ('HTTPS://TCO/YVEOXWQ0GT', 1), ('PREENPH:', 1), ('NADINE', 2), ('LUSTRE', 1), ('SONAGKAISA', 3), ('PROTEST', 2), ('ART', 1), ('YES', 1), ('PLEASE', 2), ('SONA2020', 4), ('HTTPS://TCO/RXPLFCA9DA', 1), ('CHAIHARVEST', 1), ('OPEN', 1), ('YOUR', 2), ('PURSE', 1), ('SHOW', 1), ('ME', 3), ('ANCALERTS:', 2), ('MINORITY', 1), ('FRANKLIN', 2), ('DRILON', 2), ('WHICH', 2), ('DREW', 1), ('IRE', 1), ('FROM', 3), ('PRESIDENT', 8), ('DURING', 3), ('HIS', 5), ('SAID', 2), ('THAT', 7), ('HE', 2), ('HAD', 1), ('NOTHING…', 1), ('DDS:', 1), ('MAG', 1), ('KAYO', 1), ('INYO', 1), ('LIKE', 3), ('ANO', 1), ('NAMAN', 3), ('YAN', 1), ('AMPOTA', 1), ('HAHAHA', 1), ('ITSJAYEMD:', 1), ('BUTI', 1), ('PA', 5), ('MGA', 12), ('PUPUNTA', 1), ('MAY', 6), ('MANDATORY', 1), ('RTPCR', 1), ('KAMING', 1), ('HUMAHARAP', 1), ('PANDEMYA', 1), ('PAHIRAPAN', 1), ('TAENA', 1), ('NYO', 1), ('WE', 9), ('ALSO', 2), ('PROVIDED', 2), ('TEMPORARY', 1), ('WAGE', 1), ('EMPLOYMENT', 1), ('OPPORTUNITIES', 1), ('DISPLACED', 1), ('MARGINALIZED', 1), ('WORKERS', 1), ('THROUGH', 2), ('THE', 55), ('TUPAD', 1), ('PROJECT', 1), ('OUR', 2), ('INDIGENT', 1), ('SENIOR', 1), ('CITIZENS', 1), ('WERE', 2), ('WITH', 8), ('A', 6), ('STIPEND', 1), ('FOR', 11), ('FIRST', 4), ('SEMESTER', 1), ('OF', 30), ('CURRENT', 1), ('YEAR', 1), ('RODRIGO', 4), ('ROA', 4), ('CHARLISCTEX:', 1), ('READING', 1), ('SCRIPT', 1), ('HTTPS://TCO/Q9EER67BIZ', 1), ('ITSACSLIFE:', 1), ('FACT', 1), ('THIS', 7), ('YEARS', 1), ('WONT', 2), ('REACH', 2), ('WHOLE', 1), ('NATION', 2), ('BECAUSE', 1), ('ONLY', 2), ('STATION', 1), ('CAN', 2), ('EVERYONE', 3), ('NATIONWIDE', 1), ('WAS…', 1), ('RAPPLERDOTCOM:', 3), ('PRESIDENTIAL', 1), ('SPOKESMAN', 1), ('HARRY', 1), ('ROQUE', 1), ('PUSHING', 1), ('HOLDING', 1), ('POSTSONA', 2), ('PRESS', 3), ('BRIEFING', 1), ('IN', 11), ('NEW', 2), ('EXECUTIVE', 2), ('BLDG', 1), ('DESPI…', 1), ('JOSEPHMORONG:', 1), ('TADAH', 1), ('HIGHLIGHTS', 1), ('GMANEWS', 1), ('HTTPS://TCO/BC4VFGYRPQ', 1), ('FAHMIRAZA1RAZA', 1), ('AJMALJAMI', 1), ('BHAI', 2), ('KACHRA', 2), ('DUMPING', 1), ('KA', 4), ('NAME', 1), ('HY', 1), ('KBHI', 1), ('PAIDA', 1), ('HONA', 1), ('HA', 2), ('GVT', 1), ('OSKO', 1), ('DISPOSE', 1), ('KRNA', 1), ('JAB', 1), ('HOGA', 2), ('YA', 4), ('LOG', 1), ('KAHAN', 1), ('DUMPKRY', 1), ('BATAO', 1), ('ALTABSCBN:', 1), ('GALIT', 1), ('TAYONG', 2), ('LAHAT', 1), ('KAHAPON', 1), ('EH', 1), ('PANOORIN', 1), ('NIYO', 1), ('YUNG', 4), ('ULIT', 1), ('MUKHA', 1), ('SIYANG', 1), ('GRADE', 1), ('4', 1), ('INUTUSAN', 1), ('MAGBASA', 1), ('PAHINA', 1), ('35', 1), ('GMANEWS:', 2), ('LOOK:', 2), ('PATI', 1), ('HEALTH', 2), ('WORKER', 1), ('SUMALI', 1), ('ANTISONA', 1), ('RALLY', 1), ('KANINANG', 1), ('UMAGA', 1), ('UP', 5), ('DILIMAN', 2), ('AYON', 1), ('DUMALO', 1), ('MALALA', 1), ('PRO…', 1), ('BENOKCASTILLO:', 1), ('IKUMPARA', 1), ('TESTIMONYA', 1), ('NANAY', 1), ('I', 6), ('AGAIN', 2), ('REITERATE', 1), ('MY', 8), ('THANKS', 1), ('YOU', 4), ('MEN', 1), ('AND', 14), ('WOMEN', 1), ('CONGRESS', 3), ('EFFORT', 1), ('INVESTED', 1), ('INTO', 1), ('PASSING', 1), ('LAW', 2), ('“HINDI', 1), ('PATAS', 1), ('BATAS', 1), ('ATIN”', 1), ('AFTER', 2), ('PRESIDENTS', 2), ('HUMAN', 2), ('RIGHTS', 2), ('LAWYER', 1), ('STAUNCH', 1), ('ADMIN', 1), ('CRITIC', 1), ('CHEL', 1), ('DIOK…', 1), ('MARCOS:', 1), ('MANY', 1), ('DECRY', 1), ('LACK', 1), ('AN', 1), ('ELABORATE', 1), ('ALLENCOMPASSING', 1), ('ECONOMIC', 1), ('PLAN', 1), ('YESTERDAYS', 1), ('WHAT', 2), ('PRRD', 1), ('DECLARED', 1), ('HOWEVER', 1), ('LOUD', 1), ('CLEAR', 2), ('WAS', 2), ('GOVERNMENTS', 2), ('READINESS', 1), ('LEAD', 1), ('WAY', 4), ('OUT', 1), ('PANDEMIC', 2), ('|', 2), ('VIA', 1), ('KATRINADOMINGO', 2), ('HMVKAWASAKI:', 1), ('【ジェジュン】大ヒットしたカバーアルバムの第2弾「LOVE', 1), ('COVERS', 2), ('II」入荷しました✨CDの2形態には先着ご購入特典で「アナザージャケット（HMV絵柄）」をお付けしています🌹プレミアムライブを収録した映像作品「JJUN', 1), ('LIVE…', 1), ('REAPERSZN', 2), ('SOOOO', 1), ('PROBABLY', 1), ('NEVER', 1), ('😅', 1), ('HTTPS://TCO/TM83UYRE5E', 1), ('KBROSAS:', 1), ('JOKE', 1), ('AKO', 2), ('ABOUT', 2), ('KASO', 1), ('WAG', 2), ('PALA', 2), ('KC', 1), ('WALANG', 2), ('KWENTA', 1), ('😜', 1), ('QUÉDATE', 1), ('CON', 1), ('LA', 2), ('PERSONA', 2), ('QUE', 2), ('NO', 2), ('TE', 2), ('DEJE', 1), ('IR', 1), ('DORMIR', 1), ('SIN', 1), ('ANTES', 1), ('DECIRTE', 1), ('DECANSASOÑA', 1), ('BONITO', 1), ('Y', 1), ('RECUERDA', 1), ('QUIERO', 1), ('MUCHO', 1), ('PLARIDELDLSU:', 1), ('NGAYONG', 2), ('ARAW', 3), ('ISASAGAWA', 1), ('IKALIMANG', 1), ('NAGKAROON', 1), ('PAGBABAGO', 1), ('DAHIL', 1), ('PANDEMYANG', 1), ('IDINULOT', 1), ('SONA2…', 1), ('MABUTI', 2), ('CAMPUS', 1), ('UPSYSTEM', 1), ('AMP;', 6), ('CHRGOVPH', 1), ('NAGANAP', 1), ('KILOSPROTESTA', 1), ('AT', 3), ('HINDI', 2), ('COMMONWEALTH', 1), ('AVE', 1), ('KUNG', 2), ('SAAN', 2), ('PERWISYO', 1), ('SALOT', 1), ('PROTESTA', 2), ('AMING', 1), ('TAONGBAYAN', 1), ('BAWAL', 1), ('DAPAT', 3), ('LANSANGAN', 1), ('SONAGKAISA2020', 1), ('SONATOTOO', 1), ('PARANG', 1), ('SPEECH', 1), ('LNG', 1), ('STUDENT', 4), ('COUNCIL', 3), ('YONG', 1), ('SENSE', 1), ('KANYA', 1), ('NONSENSE', 1), ('DUHHHH', 1), ('LIST:', 1), ('21', 2), ('PRIORITY', 1), ('BILLS', 2), ('2020', 7), ('BY', 1), ('MARACEPEDA', 2), ('HTTPS://TCO/CSIWT3LZ3O', 1), ('JEEVANPARIHAR15:', 1), ('MUST💯💯💯💯', 1), ('9अगस्तविश्वआदिवासीदिवस', 1), ('BHAGVATEEBHEEL', 1), ('ROSHNIDAMOR5', 1), ('TRIBALSONA', 1), ('BHEELNANDU', 1), ('VIJESHBHEEL', 1), ('BTPRA…', 1), ('PROINDIAN3', 1), ('KHARAASONA', 3), ('INDIANPANDAA', 1), ('THEEXWHOGOTHOT', 1), ('BRAHMAANDKIMAA', 1), ('CAUSTICKANYA', 1), ('😯😯', 1), ('BILLI', 1), ('VERIVERYASC', 1), ('HI', 1), ('MAKE', 1), ('SURE', 1), ('TAKE', 1), ('CARE', 1), ('YOURSELVES', 1), ('VERIVERY', 1), ('FIGHTING', 1), ('STUPID', 1), ('NOMASKERS', 1), ('RUINING', 1), ('FUN', 1), ('ONLINE', 1), ('OFF', 1), ('😭😭', 1), ('EMERGENCY', 1), ('STRETCHED', 1), ('RESOURCES', 1), ('ITS', 3), ('LIMITS', 1), ('RESPONSE', 2), ('OFFICE', 1), ('WORKED', 1), ('CLOSELY', 1), ('QUICK', 1), ('PASSAGE', 2), ('BAYANIHAN', 2), ('HEAL', 1), ('AS', 2), ('ONE', 3), ('ACT', 2), ('TOWERNAMBA:', 2), ('【ジェジュン】', 2), ('\\\\カバーアルバムを引っさげたツアー映像🎥/', 1), ('ツアー映像『JJUN', 1), ('LIVE', 1), ('2019～LOVE', 1), ('COVERS～』本日入荷しました🙌', 1), ('2日間のみのプレミアムライヴを映像とCDでお楽しみいただける豪華盤', 1), ('CDがあれば…', 1), ('DAILYGUARDIANPH:', 1), ('NEITHER', 1), ('LINGERING', 1), ('THREAT', 1), ('NOR', 1), ('POURING', 1), ('RAIN', 1), ('FAILED', 1), ('STOP', 1), ('GROUPS', 2), ('PROTESTING', 1), ('POLICIES', 1), ('O…', 1), ('REP', 1), ('SARAHELAGO', 1), ('KABATAANPL', 1), ('RECOUNTS', 1), ('RECENT', 1), ('ARRESTS', 1), ('HARASSMENT', 1), ('STATE', 4), ('FORCES', 1), ('AGAINST', 2), ('PROTESTERS', 1), ('ACTIVISTS', 1), ('BOTH', 1), ('BEFORE', 3), ('WAKASONA2020', 2), ('HTTPS://TCO/SJCNU8QTUO', 1), ('RIA', 1), ('ATAYDE', 1), ('SENDS', 1), ('STRONG', 1), ('MESSAGE', 2), ('SHARES', 2), ('ANGRY', 1), ('QUOTE', 1), ('RIAATAYDE', 1), ('READ', 1), ('MORE:', 1), ('HTTPS://TCO/WTFCJZZE1L', 1), ('ITSYABOIRAFF:', 1), ('JOSEPH', 1), ('MORONG', 1), ('LISTENING', 1), ('WHILE', 1), ('TYPING', 1), ('MINUTES', 1), ('HTTPS://TCO/NQ0ZQWKJ2D', 1), ('IAMKARENDAVILA:', 1), ('OKAY', 1), ('CLEARLY', 1), ('SENATOR', 1), ('IS', 5), ('CONSCIOUSNESS', 1), ('MENTIONING', 1), ('HIM', 3), ('CALLS', 1), ('HIM…', 1), ('CAME', 1), ('ADJUSTMENT', 1), ('MEASURES', 1), ('PROGRAM', 1), ('EXTENDED', 1), ('FINANCIAL', 1), ('ASSISTANCE', 1), ('OVER', 1), ('650000', 1), ('AFFECTED', 1), ('INDIVIDUALS', 1), ('FORMAL', 1), ('SECTOR', 1), ('110000', 1), ('OFWS', 2), ('ABROAD', 1), ('ALMOST', 1), ('83000', 1), ('REPATRIATED', 1), ('MACOYDUBS1:', 1), ('UY', 1), ('NAPAKAPETTY', 1), ('PARA', 2), ('HIGH', 1), ('SCHOOL', 1), ('NAGPAPARINIG', 1), ('KALABAN', 1), ('MITING', 1), ('DE', 1), ('AVANCE…', 1), ('INQUIRERDOTNET:', 1), ('DIFFERENT', 1), ('SECTORS', 1), ('GATHER', 1), ('QUEZON', 1), ('CITY', 1), ('ON', 5), ('MONDAY', 1), ('JULY', 1), ('27', 1), ('HOURS', 1), ('F…', 2), ('YO', 1), ('ALL', 1), ('ATTRACTIVE', 1), ('FEMALE', 1), ('OCS', 1), ('IVE', 1), ('SEEN', 1), ('SEEING', 1), ('FALLING', 1), ('LATELY', 1), ('MIGHT', 1), ('NEED', 1), ('DRAW', 1), ('DOING', 1), ('THESE', 1), ('SOMETIME', 1), ('SOON', 1), ('HTTPS://TCO/M2BDQVKQRT', 1), ('HANSSENSANTHONY:', 1), ('HERE', 2), ('^^', 1), ('HTTPS://TCO/X0AW68YUY5', 1), ('HASHTAGNIKKO13:', 1), ('DI', 4), ('KO', 4), ('SONA😢😢', 1), ('HAYAAN', 1), ('NGA', 1), ('RIN', 4), ('NILA', 1), ('TAYO', 2), ('NAKIKITA', 1), ('SEEMS', 1), ('CLEAR:', 1), ('SMART', 1), ('GLOBE', 3), ('GO', 1), ('ABSCBN', 1), ('IF', 3), ('THEY', 4), ('CANNOT', 1), ('CREATIVE', 1), ('LEGAL', 1), ('HURDLES', 1), ('WIL…', 1), ('おちつきましｳﾞｵｵｵｵｪｱｱｱ', 1), ('PARLADEJR:', 1), ('SONATHE', 1), ('CHINESE', 1), ('POSSESSION', 1), ('WPS', 1), ('HAVE', 2), ('ARMS', 1), ('DONT', 2), ('TAMA', 1), ('PRRDMY', 1), ('QUESTION', 1), ('WHO', 1), ('ALLOWED', 1), ('T…', 1), ('GIGIESGUERRA:', 1), ('SHET', 1), ('BAGONG', 1), ('DILIG', 1), ('PO', 1), ('WOOO', 1), ('TAPOS', 2), ('BA', 2), ('MIKEDEFENSOR:', 1), ('HISTORICAL', 1), ('COVID', 2), ('LIMITED', 1), ('ATTENDANCE', 1), ('PLENARY', 1), ('ELSE', 1), ('WATCHING', 1), ('ZOOM', 1), ('LISTENED', 1), ('DUTER…', 1), ('DIFFICULT', 1), ('STEP', 2), ('MERE', 1), ('LIYE', 1), ('KAR', 2), ('LEGA', 1), ('ROHITME', 1), ('LUNGA', 1), ('PASAND', 1), ('🙂', 1), ('KAHAANHUMKAHAANTUM', 1), ('RONAKSHI', 1), ('KARPIKA', 1), ('KARANVGROVER', 1), ('DIPIKAKAKAR', 1), ('TUM', 1), ('JAO', 1), ('GHAR', 1), ('PE', 1), ('MUJHE', 2), ('SIKHA', 1), ('DEGI', 1), ('😂😂😂', 1), ('MAZA', 1), ('AAYA', 1), ('THA', 3), ('😂😂', 1), ('HTTPS://TCO/AQRFUUJS0I', 1), ('NANGA', 2), ('THALAAJITHFC', 2), ('TAG', 5), ('TWEETS', 1), ('PODUVOM', 1), ('TWEET', 2), ('PODA', 1), ('MATOM', 1), ('EPUDIYE', 1), ('SOLTU', 1), ('SUTHUNGA', 1), ('NALAIKU', 1), ('DANUSH', 1), ('SL', 1), ('FANS', 2), ('NAMBA', 1), ('RECORD', 1), ('BEAT', 1), ('PANITU', 1), ('POVANGA', 1), ('UKANTHU', 1), ('AVUNGALUKU', 1), ('PIDICHA', 1), ('FC', 2), ('PAGE', 2), ('KU', 2), ('POOJA', 1), ('PODUNGA', 1), ('😊', 1), ('VALIMAI', 2), ('THALAAJITH', 2), ('AJITHKUMAR', 2), ('CNNPHILIPPINES:', 2), ('THREAD:', 1), ('PUSHED', 1), ('REIMPOSITION', 1), ('CAPITAL', 1), ('PUNISHMENT', 1), ('SPECIFYING', 1), ('METHOD', 1), ('LETHAL', 1), ('INJECTION', 1), ('HEINO…', 1), ('MICHELLEMMANESE:', 1), ('STANDS', 1), ('NEVERENDING', 1), ('AUDACITY', 1), ('🤷\\u200d♀️', 1), ('SERAHPHYMN', 1), ('TOTALLY', 2), ('5', 2), ('🥺', 1), ('MET', 1), ('WOULD', 3), ('VIBE', 1), ('DELZOLLL:', 1), ('LEMME', 1), ('POST', 1), ('ANTHRO', 1), ('ATTEMPT', 1), ('😌', 1), ('BRATBIUSH', 1), ('S', 1), ('HARLEY', 1), ('ARTFIGHT', 1), ('KEEPING', 1), ('BUSY', 1), ('LOL', 1), ('HTTPS://TCO/4MH3XW4KNC', 1), ('ASKS', 1), ('PASS', 1), ('REMAINDER', 1), ('PRESIDENCY', 1), ('SPECIFICALLY', 1), ('DESIGNED', 1), ('RESPOND', 1), ('CRISIS', 1), ('REPORTS', 1), ('HTTPS://TCO/6F8GGFL7GU', 1), ('ACTUALLY', 1), ('WATCHED', 1), ('ATTENTIVELY', 1), ('BUT', 2), ('RECALL', 1), ('SAYING', 1), ('EVEN', 2), ('TRUE', 1), ('HTTPS://TCO/PFOUCUWXIA', 1), ('AADYAMISHRAA', 1), ('HITESHM09', 1), ('EXPLORERHOON', 1), ('CHANDRAGUPT7', 1), ('ZEROHUMOUR', 1), ('ARYAEDDARDSTARK', 1), ('MANISSSH', 1), ('NICEGIRL09', 1), ('VISHALSAINIVS', 1), ('LADYWITHFLAWS', 1), ('SAGARCASM', 1), ('VADERAKASH', 1), ('LOYALSACHINFAN', 1), ('OLDSCHOOLMONK', 1), ('TREELOCHAN', 1), ('SINGHLICIOUS', 1), ('NISHACHARR', 1), ('PUBGKADEEWANA', 1), ('ROOOOSSSHHIIIII', 1), ('JADINETRASH:', 1), ('HER', 3), ('OWN', 3), ('TIME', 2), ('THOUGHTS', 1), ('STYLE', 1), ('THANK', 1), ('BATTLES', 1), ('FIGHT', 1), ('ALWAYS', 1), ('BEEN', 1), ('BIGGER…', 1), ('DRAWZSONA', 1), ('ROLL', 1), ('IT', 1), ('B', 1), ('USUALLY', 1), ('FULL', 1), ('RANTS', 1), ('EXCUSES:', 1), ('PUBLIC', 1), ('OFFICIALS', 1), ('HTTPS://TCO/ULILMRYGV4', 1), ('ABSOLUTALBERT:', 1), ('VP', 1), ('ISNT', 1), ('INVITED', 1), ('DESIGNATED', 1), ('SURVIVOR', 1), ('ABSCBNNEWS', 1), ('DID', 1), ('WATCH', 1), ('SAME', 2), ('VERSION', 1), ('IBA', 1), ('ATA', 1), ('NAPANOOD', 1), ('IMEE', 1), ('ANAKBAYANUST:', 1), ('READ:', 1), ('OFFICIAL', 1), ('STATEMENT', 1), ('ANAKBAYANUST', 1), ('ADDRESS', 1), ('…', 1), ('EVANU', 1), ('THALA', 1), ('KAGA', 1), ('VARALA', 1), ('ELAN', 1), ('ERKANGA', 1), ('YARU', 1), ('ENADA', 1), ('KIRUIU', 1), ('KO🔥GALA', 1), ('HTTPS://TCO/HQ14YGO6LU', 1), ('MARVSMODEL', 1), ('MALIBAN', 1), ('WAR', 2), ('SILA', 3), ('VICE', 1), ('NASA', 1), ('😁', 1), ('CIRE41:', 1), ('SABI', 2), ('WOKES', 1), ('RAW', 1), ('NAINSPIRE', 1), ('AKALA', 1), ('PANAWAGAN', 1), ('IBOYCOTT', 1), ('PAKIKINIG', 1), ('ANYARE', 1), ('1969ENIGMA:', 1), ('SONACA', 1), ('SONANANOTECH', 1), ('SONACSO', 1), ('HTTPS://TCO/GNUEG7G1LG', 1), ('NEKOSONA', 1), ('HTTPS://TCO/HKJZWDY1X5', 1), ('HEROANGEL17:', 1), ('ACCOMPLISHMENT', 1), ('🤭✊', 1), ('PLDT', 1), ('ARE', 1), ('DOWN', 1), ('HOUR', 1), ('TRADING', 1), ('TODAY', 1), ('MARKET', 1), ('PLAYERS', 1), ('P…', 1), ('QUARKHENARES:', 1), ('WHY', 2), ('DO', 1), ('GET', 2), ('FILMMAKERS', 1), ('SHOOT', 1), ('FUCKING', 1), ('MARAWI:', 1), ('FAKE', 1), ('NEWS:', 1), ('VIOLATION', 1), ('MARTIAL', 1), ('NYA', 1), ('KANYANG', 2), ('HTTPS://TCO/YDT5A7F6KI', 1), ('THISISOURMINDANAO', 1), ('JETHROGAMEZ:', 1), ('TRENDS', 1), ('BALIK', 1), ('NORMAL', 1), ('TWITTER', 1), ('MOST', 1), ('ESPECIALLY', 1), ('PANGULO', 2), ('REPUBLIK…', 1), ('BOYMEJO:', 1), ('REPLAY', 1), ('YOUTUBE', 1), ('LIVESTREAM', 1), ('REACTION', 1), ('ESP', 1), ('REGARD', 1), ('FRANKLINDRILON', 1), ('HTTPS://TCO/7ACRWA6X6Q', 1), ('HOPE', 1), ('SOME', 1), ('OR', 1), ('TREATMENT', 1), ('CLARITY', 1), ('PURPOSE', 1), ('FASTNESS', 1), ('SUPPORT', 1), ('RECOVER', 1), ('WILL', 1), ('SUPPLEMENT', 1), ('FUNDS', 1), ('RECOVERY', 1), ('IMPACT', 1), ('SB19TRENDSPH:', 1), ('UPDATE', 2), ('GIVE', 2), ('DISCUSSIONS', 2), ('RELATED', 2), ('HELD', 2), ('EARLIER', 2), ('AFTERNOON', 2), ('REQUEST', 2), ('DR…', 1), ('NAKALIMANG', 1), ('INSURED', 1), ('PRES:', 1), ('HTTPS://TCO/LAIUKKFKXJ', 1), ('AVCIMUCAHIT:', 1), ('ALI', 1), ('ERBAŞ', 1), ('KENDISININ', 1), ('PAPA', 1), ('DA', 1), ('PATRIK', 1), ('GIBI', 1), ('RUHANI', 1), ('BIR', 1), ('LIDER', 1), ('OLDUĞUNU', 1), ('FALAN', 1), ('SANIYOR', 1), ('OLMALI', 1), ('BIRISI', 1), ('BEYEFENDIYE', 1), ('657YE', 1), ('TAB…', 1), ('\\\\ジェジュンの優しく、深い歌声がしみわたる/', 1), ('カバーアルバム『LOVE', 1), ('Ⅱ』本日入荷しました🙌', 1), ('原曲の良さをひきたてるだけでなく、ジェジュンらしさも全開のアルバムです♪', 1), ('🎁タワレコ特典はアナザージャ…', 1), ('SHUJOPRIME:', 1), ('『週刊女性』8/4/11合併号が好評発売中！', 1), ('表紙は', 1), ('ジェジュン', 1), ('さん☆', 1), ('ソウルでの独占インタビュー＆美麗写真をお見逃しなく', 1), ('三浦春馬', 1), ('さんが本誌に見せてくれた素顔の数々をグラビアで振り返ります。毎年恒例「好きなジャニーズ', 1), ('嫌いなジャ…', 1), ('LEAMAINE2019:', 1), ('HELLO', 1), ('THERE', 1), ('QUEEN', 1), ('MAINEDCM', 1), ('ILL', 1), ('BE', 2), ('ATTENDING', 1), ('PRRDS', 1), ('W/', 1), ('LEADERS', 1), ('ACROSS', 1), ('SO', 1), ('ABLE', 1), ('PHILIPPINE', 1), ('NEIGHBORS', 1), ('STANDING', 1), ('CHINA', 1), ('WITHOUT', 1), ('CARPIO', 1), ('TELLS', 1), ('HTTPS://TCO/NIEAEXKBCU', 1), ('KAISIPANGABITAN:', 1), ('DIR', 1), ('JOYCE', 1), ('BERNAL', 1), ('HTTPS://TCO/DX9OESFBW2', 1), ('SB19NIZED:', 1), ('DROP…', 1), ('USAPINGLACSON:', 1), ('UMAYOS', 1), ('TELCOS', 1), ('PAGSABIHAN', 1), ('SONA;', 1), ('BABALA', 1), ('PRESIDENTE', 1), ('ILA…', 1), ('KAPILKOLOTYA', 1), ('JO', 1), ('LE', 1), ('LIYA', 1), ('HAI', 1), ('MENE', 1), ('3SAAL', 1), ('PEHLE', 1), ('USKO', 1), ('BOYCOTT', 1), ('KR', 1), ('DUGA', 1), ('MUJY', 1), ('MADE', 1), ('INDIA', 1), ('IPHONE', 1), ('DEDO', 1), ('WATCHMEJAYJAY:', 1), ('AY', 1), ('NAKANOOD', 1), ('MAGALALA', 1), ('ITO', 1), ('SUMMARY', 1), ('PLANO', 1), ('TATAY', 1), ('LABAN', 1), ('19:', 1), ('THREAD', 1), ('NILOCKDOWN', 1), ('LOOB', 1), ('SIYAM', 1), ('DISINFECTION', 1), ('BUILDING', 1), ('MALACAÑANG', 1), ('IDINARAOS', 1), ('BRIEFINGS', 1), ('PALASYO', 1), ('KABILA', 1), ('NITO', 1), ('TULOY', 1), ('NEB', 1), ('CONFERENCE', 1), ('HTTPS://TCO/FJLTIQIW82', 1)]\n"
     ]
    }
   ],
   "source": [
    "# CODE CELL\n",
    "words_list = []\n",
    "# CODE START\n",
    "for key in words_dict:\n",
    "    words_list.append((key, words_dict[key]))\n",
    "print(words_list)\n",
    "# CODE END\n",
    "# The output should look like this. "
   ]
  },
  {
   "cell_type": "markdown",
   "metadata": {},
   "source": [
    "### 1.6\n",
    "\n",
    "Sort the list by count (which is the second element of each tuple) in descending (or reverse) order.  \n",
    "\n",
    "Print the contents of the newly-sorted list `words_list`.  \n",
    "\n",
    "Sample output shown below.  "
   ]
  },
  {
   "cell_type": "code",
   "execution_count": 19,
   "metadata": {},
   "outputs": [
    {
     "name": "stdout",
     "output_type": "stream",
     "text": [
      "[('SONA', 65), ('THE', 55), ('RT', 53), ('TO', 36), ('SA', 34), ('OF', 30), ('ANG', 20), ('NA', 19), ('AND', 14), ('NG', 14), ('5TH', 13), ('MGA', 12), ('IN', 11), ('FOR', 11), ('DUTERTE', 10), ('DUTERTES', 10), ('WE', 9), ('MY', 8), ('WITH', 8), ('PRESIDENT', 8), ('2020', 7), ('THIS', 7), ('THAT', 7), ('NI', 7), ('COVID19', 7), ('AMP;', 6), ('I', 6), ('A', 6), ('MAY', 6), ('TAG', 5), ('ON', 5), ('IS', 5), ('UP', 5), ('PA', 5), ('HIS', 5), ('THEY', 4), ('RIN', 4), ('KO', 4), ('DI', 4), ('STATE', 4), ('STUDENT', 4), ('WAY', 4), ('YOU', 4), ('YUNG', 4), ('YA', 4), ('KA', 4), ('ROA', 4), ('RODRIGO', 4), ('FIRST', 4), ('SONA2020', 4), ('PRES', 4), ('SI', 4), ('SILA', 3), ('OWN', 3), ('HER', 3), ('WOULD', 3), ('THA', 3), ('IF', 3), ('GLOBE', 3), ('HIM', 3), ('BEFORE', 3), ('ONE', 3), ('ITS', 3), ('KHARAASONA', 3), ('COUNCIL', 3), ('DAPAT', 3), ('AT', 3), ('ARAW', 3), ('CONGRESS', 3), ('PRESS', 3), ('RAPPLERDOTCOM:', 3), ('EVERYONE', 3), ('NAMAN', 3), ('LIKE', 3), ('DURING', 3), ('FROM', 3), ('ME', 3), ('SONAGKAISA', 3), ('LANG', 3), ('BE', 2), ('REQUEST', 2), ('AFTERNOON', 2), ('EARLIER', 2), ('HELD', 2), ('RELATED', 2), ('DISCUSSIONS', 2), ('GIVE', 2), ('UPDATE', 2), ('PANGULO', 2), ('KANYANG', 2), ('GET', 2), ('WHY', 2), ('SABI', 2), ('WAR', 2), ('SAME', 2), ('TIME', 2), ('EVEN', 2), ('BUT', 2), ('5', 2), ('TOTALLY', 2), ('CNNPHILIPPINES:', 2), ('AJITHKUMAR', 2), ('THALAAJITH', 2), ('VALIMAI', 2), ('KU', 2), ('PAGE', 2), ('FC', 2), ('FANS', 2), ('TWEET', 2), ('THALAAJITHFC', 2), ('NANGA', 2), ('MUJHE', 2), ('KAR', 2), ('STEP', 2), ('COVID', 2), ('BA', 2), ('TAPOS', 2), ('DONT', 2), ('HAVE', 2), ('TAYO', 2), ('HERE', 2), ('F…', 2), ('PARA', 2), ('OFWS', 2), ('SHARES', 2), ('MESSAGE', 2), ('WAKASONA2020', 2), ('AGAINST', 2), ('GROUPS', 2), ('【ジェジュン】', 2), ('TOWERNAMBA:', 2), ('ACT', 2), ('AS', 2), ('BAYANIHAN', 2), ('PASSAGE', 2), ('RESPONSE', 2), ('MARACEPEDA', 2), ('BILLS', 2), ('21', 2), ('PROTESTA', 2), ('SAAN', 2), ('KUNG', 2), ('HINDI', 2), ('MABUTI', 2), ('NGAYONG', 2), ('TE', 2), ('NO', 2), ('QUE', 2), ('PERSONA', 2), ('LA', 2), ('WALANG', 2), ('PALA', 2), ('WAG', 2), ('ABOUT', 2), ('AKO', 2), ('REAPERSZN', 2), ('COVERS', 2), ('KATRINADOMINGO', 2), ('|', 2), ('PANDEMIC', 2), ('GOVERNMENTS', 2), ('WAS', 2), ('CLEAR', 2), ('WHAT', 2), ('RIGHTS', 2), ('HUMAN', 2), ('PRESIDENTS', 2), ('AFTER', 2), ('LAW', 2), ('AGAIN', 2), ('DILIMAN', 2), ('HEALTH', 2), ('LOOK:', 2), ('GMANEWS:', 2), ('TAYONG', 2), ('HOGA', 2), ('HA', 2), ('KACHRA', 2), ('BHAI', 2), ('EXECUTIVE', 2), ('NEW', 2), ('POSTSONA', 2), ('CAN', 2), ('ONLY', 2), ('NATION', 2), ('REACH', 2), ('WONT', 2), ('WERE', 2), ('OUR', 2), ('THROUGH', 2), ('PROVIDED', 2), ('ALSO', 2), ('HE', 2), ('SAID', 2), ('WHICH', 2), ('DRILON', 2), ('FRANKLIN', 2), ('ANCALERTS:', 2), ('YOUR', 2), ('PLEASE', 2), ('PROTEST', 2), ('NADINE', 2), ('SIYA', 2), ('PERO', 2), ('NAKITA', 2), ('TEST', 2), ('MATAPOS', 2), ('ZUBIRI', 2), ('LEADER', 2), ('SENATE', 2), ('REACT', 2), ('HTTPS://TCO/FJLTIQIW82', 1), ('CONFERENCE', 1), ('NEB', 1), ('TULOY', 1), ('NITO', 1), ('KABILA', 1), ('PALASYO', 1), ('BRIEFINGS', 1), ('IDINARAOS', 1), ('MALACAÑANG', 1), ('BUILDING', 1), ('DISINFECTION', 1), ('SIYAM', 1), ('LOOB', 1), ('NILOCKDOWN', 1), ('THREAD', 1), ('19:', 1), ('LABAN', 1), ('TATAY', 1), ('PLANO', 1), ('SUMMARY', 1), ('ITO', 1), ('MAGALALA', 1), ('NAKANOOD', 1), ('AY', 1), ('WATCHMEJAYJAY:', 1), ('DEDO', 1), ('IPHONE', 1), ('INDIA', 1), ('MADE', 1), ('MUJY', 1), ('DUGA', 1), ('KR', 1), ('BOYCOTT', 1), ('USKO', 1), ('PEHLE', 1), ('3SAAL', 1), ('MENE', 1), ('HAI', 1), ('LIYA', 1), ('LE', 1), ('JO', 1), ('KAPILKOLOTYA', 1), ('ILA…', 1), ('PRESIDENTE', 1), ('BABALA', 1), ('SONA;', 1), ('PAGSABIHAN', 1), ('TELCOS', 1), ('UMAYOS', 1), ('USAPINGLACSON:', 1), ('DROP…', 1), ('SB19NIZED:', 1), ('HTTPS://TCO/DX9OESFBW2', 1), ('BERNAL', 1), ('JOYCE', 1), ('DIR', 1), ('KAISIPANGABITAN:', 1), ('HTTPS://TCO/NIEAEXKBCU', 1), ('TELLS', 1), ('CARPIO', 1), ('WITHOUT', 1), ('CHINA', 1), ('STANDING', 1), ('NEIGHBORS', 1), ('PHILIPPINE', 1), ('ABLE', 1), ('SO', 1), ('ACROSS', 1), ('LEADERS', 1), ('W/', 1), ('PRRDS', 1), ('ATTENDING', 1), ('ILL', 1), ('MAINEDCM', 1), ('QUEEN', 1), ('THERE', 1), ('HELLO', 1), ('LEAMAINE2019:', 1), ('嫌いなジャ…', 1), ('さんが本誌に見せてくれた素顔の数々をグラビアで振り返ります。毎年恒例「好きなジャニーズ', 1), ('三浦春馬', 1), ('ソウルでの独占インタビュー＆美麗写真をお見逃しなく', 1), ('さん☆', 1), ('ジェジュン', 1), ('表紙は', 1), ('『週刊女性』8/4/11合併号が好評発売中！', 1), ('SHUJOPRIME:', 1), ('🎁タワレコ特典はアナザージャ…', 1), ('原曲の良さをひきたてるだけでなく、ジェジュンらしさも全開のアルバムです♪', 1), ('Ⅱ』本日入荷しました🙌', 1), ('カバーアルバム『LOVE', 1), ('\\\\ジェジュンの優しく、深い歌声がしみわたる/', 1), ('TAB…', 1), ('657YE', 1), ('BEYEFENDIYE', 1), ('BIRISI', 1), ('OLMALI', 1), ('SANIYOR', 1), ('FALAN', 1), ('OLDUĞUNU', 1), ('LIDER', 1), ('BIR', 1), ('RUHANI', 1), ('GIBI', 1), ('PATRIK', 1), ('DA', 1), ('PAPA', 1), ('KENDISININ', 1), ('ERBAŞ', 1), ('ALI', 1), ('AVCIMUCAHIT:', 1), ('HTTPS://TCO/LAIUKKFKXJ', 1), ('PRES:', 1), ('INSURED', 1), ('NAKALIMANG', 1), ('DR…', 1), ('SB19TRENDSPH:', 1), ('IMPACT', 1), ('RECOVERY', 1), ('FUNDS', 1), ('SUPPLEMENT', 1), ('WILL', 1), ('RECOVER', 1), ('SUPPORT', 1), ('FASTNESS', 1), ('PURPOSE', 1), ('CLARITY', 1), ('TREATMENT', 1), ('OR', 1), ('SOME', 1), ('HOPE', 1), ('HTTPS://TCO/7ACRWA6X6Q', 1), ('FRANKLINDRILON', 1), ('REGARD', 1), ('ESP', 1), ('REACTION', 1), ('LIVESTREAM', 1), ('YOUTUBE', 1), ('REPLAY', 1), ('BOYMEJO:', 1), ('REPUBLIK…', 1), ('ESPECIALLY', 1), ('MOST', 1), ('TWITTER', 1), ('NORMAL', 1), ('BALIK', 1), ('TRENDS', 1), ('JETHROGAMEZ:', 1), ('THISISOURMINDANAO', 1), ('HTTPS://TCO/YDT5A7F6KI', 1), ('NYA', 1), ('MARTIAL', 1), ('VIOLATION', 1), ('NEWS:', 1), ('FAKE', 1), ('MARAWI:', 1), ('FUCKING', 1), ('SHOOT', 1), ('FILMMAKERS', 1), ('DO', 1), ('QUARKHENARES:', 1), ('P…', 1), ('PLAYERS', 1), ('MARKET', 1), ('TODAY', 1), ('TRADING', 1), ('HOUR', 1), ('DOWN', 1), ('ARE', 1), ('PLDT', 1), ('🤭✊', 1), ('ACCOMPLISHMENT', 1), ('HEROANGEL17:', 1), ('HTTPS://TCO/HKJZWDY1X5', 1), ('NEKOSONA', 1), ('HTTPS://TCO/GNUEG7G1LG', 1), ('SONACSO', 1), ('SONANANOTECH', 1), ('SONACA', 1), ('1969ENIGMA:', 1), ('ANYARE', 1), ('PAKIKINIG', 1), ('IBOYCOTT', 1), ('PANAWAGAN', 1), ('AKALA', 1), ('NAINSPIRE', 1), ('RAW', 1), ('WOKES', 1), ('CIRE41:', 1), ('😁', 1), ('NASA', 1), ('VICE', 1), ('MALIBAN', 1), ('MARVSMODEL', 1), ('HTTPS://TCO/HQ14YGO6LU', 1), ('KO🔥GALA', 1), ('KIRUIU', 1), ('ENADA', 1), ('YARU', 1), ('ERKANGA', 1), ('ELAN', 1), ('VARALA', 1), ('KAGA', 1), ('THALA', 1), ('EVANU', 1), ('…', 1), ('ADDRESS', 1), ('ANAKBAYANUST', 1), ('STATEMENT', 1), ('OFFICIAL', 1), ('READ:', 1), ('ANAKBAYANUST:', 1), ('IMEE', 1), ('NAPANOOD', 1), ('ATA', 1), ('IBA', 1), ('VERSION', 1), ('WATCH', 1), ('DID', 1), ('ABSCBNNEWS', 1), ('SURVIVOR', 1), ('DESIGNATED', 1), ('INVITED', 1), ('ISNT', 1), ('VP', 1), ('ABSOLUTALBERT:', 1), ('HTTPS://TCO/ULILMRYGV4', 1), ('OFFICIALS', 1), ('PUBLIC', 1), ('EXCUSES:', 1), ('RANTS', 1), ('FULL', 1), ('USUALLY', 1), ('B', 1), ('IT', 1), ('ROLL', 1), ('DRAWZSONA', 1), ('BIGGER…', 1), ('BEEN', 1), ('ALWAYS', 1), ('FIGHT', 1), ('BATTLES', 1), ('THANK', 1), ('STYLE', 1), ('THOUGHTS', 1), ('JADINETRASH:', 1), ('ROOOOSSSHHIIIII', 1), ('PUBGKADEEWANA', 1), ('NISHACHARR', 1), ('SINGHLICIOUS', 1), ('TREELOCHAN', 1), ('OLDSCHOOLMONK', 1), ('LOYALSACHINFAN', 1), ('VADERAKASH', 1), ('SAGARCASM', 1), ('LADYWITHFLAWS', 1), ('VISHALSAINIVS', 1), ('NICEGIRL09', 1), ('MANISSSH', 1), ('ARYAEDDARDSTARK', 1), ('ZEROHUMOUR', 1), ('CHANDRAGUPT7', 1), ('EXPLORERHOON', 1), ('HITESHM09', 1), ('AADYAMISHRAA', 1), ('HTTPS://TCO/PFOUCUWXIA', 1), ('TRUE', 1), ('SAYING', 1), ('RECALL', 1), ('ATTENTIVELY', 1), ('WATCHED', 1), ('ACTUALLY', 1), ('HTTPS://TCO/6F8GGFL7GU', 1), ('REPORTS', 1), ('CRISIS', 1), ('RESPOND', 1), ('DESIGNED', 1), ('SPECIFICALLY', 1), ('PRESIDENCY', 1), ('REMAINDER', 1), ('PASS', 1), ('ASKS', 1), ('HTTPS://TCO/4MH3XW4KNC', 1), ('LOL', 1), ('BUSY', 1), ('KEEPING', 1), ('ARTFIGHT', 1), ('HARLEY', 1), ('S', 1), ('BRATBIUSH', 1), ('😌', 1), ('ATTEMPT', 1), ('ANTHRO', 1), ('POST', 1), ('LEMME', 1), ('DELZOLLL:', 1), ('VIBE', 1), ('MET', 1), ('🥺', 1), ('SERAHPHYMN', 1), ('🤷\\u200d♀️', 1), ('AUDACITY', 1), ('NEVERENDING', 1), ('STANDS', 1), ('MICHELLEMMANESE:', 1), ('HEINO…', 1), ('INJECTION', 1), ('LETHAL', 1), ('METHOD', 1), ('SPECIFYING', 1), ('PUNISHMENT', 1), ('CAPITAL', 1), ('REIMPOSITION', 1), ('PUSHED', 1), ('THREAD:', 1), ('😊', 1), ('PODUNGA', 1), ('POOJA', 1), ('PIDICHA', 1), ('AVUNGALUKU', 1), ('UKANTHU', 1), ('POVANGA', 1), ('PANITU', 1), ('BEAT', 1), ('RECORD', 1), ('NAMBA', 1), ('SL', 1), ('DANUSH', 1), ('NALAIKU', 1), ('SUTHUNGA', 1), ('SOLTU', 1), ('EPUDIYE', 1), ('MATOM', 1), ('PODA', 1), ('PODUVOM', 1), ('TWEETS', 1), ('HTTPS://TCO/AQRFUUJS0I', 1), ('😂😂', 1), ('AAYA', 1), ('MAZA', 1), ('😂😂😂', 1), ('DEGI', 1), ('SIKHA', 1), ('PE', 1), ('GHAR', 1), ('JAO', 1), ('TUM', 1), ('DIPIKAKAKAR', 1), ('KARANVGROVER', 1), ('KARPIKA', 1), ('RONAKSHI', 1), ('KAHAANHUMKAHAANTUM', 1), ('🙂', 1), ('PASAND', 1), ('LUNGA', 1), ('ROHITME', 1), ('LEGA', 1), ('LIYE', 1), ('MERE', 1), ('DIFFICULT', 1), ('DUTER…', 1), ('LISTENED', 1), ('ZOOM', 1), ('WATCHING', 1), ('ELSE', 1), ('PLENARY', 1), ('ATTENDANCE', 1), ('LIMITED', 1), ('HISTORICAL', 1), ('MIKEDEFENSOR:', 1), ('WOOO', 1), ('PO', 1), ('DILIG', 1), ('BAGONG', 1), ('SHET', 1), ('GIGIESGUERRA:', 1), ('T…', 1), ('ALLOWED', 1), ('WHO', 1), ('QUESTION', 1), ('PRRDMY', 1), ('TAMA', 1), ('ARMS', 1), ('WPS', 1), ('POSSESSION', 1), ('CHINESE', 1), ('SONATHE', 1), ('PARLADEJR:', 1), ('おちつきましｳﾞｵｵｵｵｪｱｱｱ', 1), ('WIL…', 1), ('HURDLES', 1), ('LEGAL', 1), ('CREATIVE', 1), ('CANNOT', 1), ('ABSCBN', 1), ('GO', 1), ('SMART', 1), ('CLEAR:', 1), ('SEEMS', 1), ('NAKIKITA', 1), ('NILA', 1), ('NGA', 1), ('HAYAAN', 1), ('SONA😢😢', 1), ('HASHTAGNIKKO13:', 1), ('HTTPS://TCO/X0AW68YUY5', 1), ('^^', 1), ('HANSSENSANTHONY:', 1), ('HTTPS://TCO/M2BDQVKQRT', 1), ('SOON', 1), ('SOMETIME', 1), ('THESE', 1), ('DOING', 1), ('DRAW', 1), ('NEED', 1), ('MIGHT', 1), ('LATELY', 1), ('FALLING', 1), ('SEEING', 1), ('SEEN', 1), ('IVE', 1), ('OCS', 1), ('FEMALE', 1), ('ATTRACTIVE', 1), ('ALL', 1), ('YO', 1), ('HOURS', 1), ('27', 1), ('JULY', 1), ('MONDAY', 1), ('CITY', 1), ('QUEZON', 1), ('GATHER', 1), ('SECTORS', 1), ('DIFFERENT', 1), ('INQUIRERDOTNET:', 1), ('AVANCE…', 1), ('DE', 1), ('MITING', 1), ('KALABAN', 1), ('NAGPAPARINIG', 1), ('SCHOOL', 1), ('HIGH', 1), ('NAPAKAPETTY', 1), ('UY', 1), ('MACOYDUBS1:', 1), ('REPATRIATED', 1), ('83000', 1), ('ALMOST', 1), ('ABROAD', 1), ('110000', 1), ('SECTOR', 1), ('FORMAL', 1), ('INDIVIDUALS', 1), ('AFFECTED', 1), ('650000', 1), ('OVER', 1), ('ASSISTANCE', 1), ('FINANCIAL', 1), ('EXTENDED', 1), ('PROGRAM', 1), ('MEASURES', 1), ('ADJUSTMENT', 1), ('CAME', 1), ('HIM…', 1), ('CALLS', 1), ('MENTIONING', 1), ('CONSCIOUSNESS', 1), ('SENATOR', 1), ('CLEARLY', 1), ('OKAY', 1), ('IAMKARENDAVILA:', 1), ('HTTPS://TCO/NQ0ZQWKJ2D', 1), ('MINUTES', 1), ('TYPING', 1), ('WHILE', 1), ('LISTENING', 1), ('MORONG', 1), ('JOSEPH', 1), ('ITSYABOIRAFF:', 1), ('HTTPS://TCO/WTFCJZZE1L', 1), ('MORE:', 1), ('READ', 1), ('RIAATAYDE', 1), ('QUOTE', 1), ('ANGRY', 1), ('STRONG', 1), ('SENDS', 1), ('ATAYDE', 1), ('RIA', 1), ('HTTPS://TCO/SJCNU8QTUO', 1), ('BOTH', 1), ('ACTIVISTS', 1), ('PROTESTERS', 1), ('FORCES', 1), ('HARASSMENT', 1), ('ARRESTS', 1), ('RECENT', 1), ('RECOUNTS', 1), ('KABATAANPL', 1), ('SARAHELAGO', 1), ('REP', 1), ('O…', 1), ('POLICIES', 1), ('PROTESTING', 1), ('STOP', 1), ('FAILED', 1), ('RAIN', 1), ('POURING', 1), ('NOR', 1), ('THREAT', 1), ('LINGERING', 1), ('NEITHER', 1), ('DAILYGUARDIANPH:', 1), ('CDがあれば…', 1), ('2日間のみのプレミアムライヴを映像とCDでお楽しみいただける豪華盤', 1), ('COVERS～』本日入荷しました🙌', 1), ('2019～LOVE', 1), ('LIVE', 1), ('ツアー映像『JJUN', 1), ('\\\\カバーアルバムを引っさげたツアー映像🎥/', 1), ('HEAL', 1), ('QUICK', 1), ('CLOSELY', 1), ('WORKED', 1), ('OFFICE', 1), ('LIMITS', 1), ('RESOURCES', 1), ('STRETCHED', 1), ('EMERGENCY', 1), ('😭😭', 1), ('OFF', 1), ('ONLINE', 1), ('FUN', 1), ('RUINING', 1), ('NOMASKERS', 1), ('STUPID', 1), ('FIGHTING', 1), ('VERIVERY', 1), ('YOURSELVES', 1), ('CARE', 1), ('TAKE', 1), ('SURE', 1), ('MAKE', 1), ('HI', 1), ('VERIVERYASC', 1), ('BILLI', 1), ('😯😯', 1), ('CAUSTICKANYA', 1), ('BRAHMAANDKIMAA', 1), ('THEEXWHOGOTHOT', 1), ('INDIANPANDAA', 1), ('PROINDIAN3', 1), ('BTPRA…', 1), ('VIJESHBHEEL', 1), ('BHEELNANDU', 1), ('TRIBALSONA', 1), ('ROSHNIDAMOR5', 1), ('BHAGVATEEBHEEL', 1), ('9अगस्तविश्वआदिवासीदिवस', 1), ('MUST💯💯💯💯', 1), ('JEEVANPARIHAR15:', 1), ('HTTPS://TCO/CSIWT3LZ3O', 1), ('BY', 1), ('PRIORITY', 1), ('LIST:', 1), ('DUHHHH', 1), ('NONSENSE', 1), ('KANYA', 1), ('SENSE', 1), ('YONG', 1), ('LNG', 1), ('SPEECH', 1), ('PARANG', 1), ('SONATOTOO', 1), ('SONAGKAISA2020', 1), ('LANSANGAN', 1), ('BAWAL', 1), ('TAONGBAYAN', 1), ('AMING', 1), ('SALOT', 1), ('PERWISYO', 1), ('AVE', 1), ('COMMONWEALTH', 1), ('KILOSPROTESTA', 1), ('NAGANAP', 1), ('CHRGOVPH', 1), ('UPSYSTEM', 1), ('CAMPUS', 1), ('SONA2…', 1), ('IDINULOT', 1), ('PANDEMYANG', 1), ('DAHIL', 1), ('PAGBABAGO', 1), ('NAGKAROON', 1), ('IKALIMANG', 1), ('ISASAGAWA', 1), ('PLARIDELDLSU:', 1), ('MUCHO', 1), ('QUIERO', 1), ('RECUERDA', 1), ('Y', 1), ('BONITO', 1), ('DECANSASOÑA', 1), ('DECIRTE', 1), ('ANTES', 1), ('SIN', 1), ('DORMIR', 1), ('IR', 1), ('DEJE', 1), ('CON', 1), ('QUÉDATE', 1), ('😜', 1), ('KWENTA', 1), ('KC', 1), ('KASO', 1), ('JOKE', 1), ('KBROSAS:', 1), ('HTTPS://TCO/TM83UYRE5E', 1), ('😅', 1), ('NEVER', 1), ('PROBABLY', 1), ('SOOOO', 1), ('LIVE…', 1), ('II」入荷しました✨CDの2形態には先着ご購入特典で「アナザージャケット（HMV絵柄）」をお付けしています🌹プレミアムライブを収録した映像作品「JJUN', 1), ('【ジェジュン】大ヒットしたカバーアルバムの第2弾「LOVE', 1), ('HMVKAWASAKI:', 1), ('VIA', 1), ('OUT', 1), ('LEAD', 1), ('READINESS', 1), ('LOUD', 1), ('HOWEVER', 1), ('DECLARED', 1), ('PRRD', 1), ('YESTERDAYS', 1), ('PLAN', 1), ('ECONOMIC', 1), ('ALLENCOMPASSING', 1), ('ELABORATE', 1), ('AN', 1), ('LACK', 1), ('DECRY', 1), ('MANY', 1), ('MARCOS:', 1), ('DIOK…', 1), ('CHEL', 1), ('CRITIC', 1), ('ADMIN', 1), ('STAUNCH', 1), ('LAWYER', 1), ('ATIN”', 1), ('BATAS', 1), ('PATAS', 1), ('“HINDI', 1), ('PASSING', 1), ('INTO', 1), ('INVESTED', 1), ('EFFORT', 1), ('WOMEN', 1), ('MEN', 1), ('THANKS', 1), ('REITERATE', 1), ('NANAY', 1), ('TESTIMONYA', 1), ('IKUMPARA', 1), ('BENOKCASTILLO:', 1), ('PRO…', 1), ('MALALA', 1), ('DUMALO', 1), ('AYON', 1), ('UMAGA', 1), ('KANINANG', 1), ('RALLY', 1), ('ANTISONA', 1), ('SUMALI', 1), ('WORKER', 1), ('PATI', 1), ('35', 1), ('PAHINA', 1), ('MAGBASA', 1), ('INUTUSAN', 1), ('4', 1), ('GRADE', 1), ('SIYANG', 1), ('MUKHA', 1), ('ULIT', 1), ('NIYO', 1), ('PANOORIN', 1), ('EH', 1), ('KAHAPON', 1), ('LAHAT', 1), ('GALIT', 1), ('ALTABSCBN:', 1), ('BATAO', 1), ('DUMPKRY', 1), ('KAHAN', 1), ('LOG', 1), ('JAB', 1), ('KRNA', 1), ('DISPOSE', 1), ('OSKO', 1), ('GVT', 1), ('HONA', 1), ('PAIDA', 1), ('KBHI', 1), ('HY', 1), ('NAME', 1), ('DUMPING', 1), ('AJMALJAMI', 1), ('FAHMIRAZA1RAZA', 1), ('HTTPS://TCO/BC4VFGYRPQ', 1), ('GMANEWS', 1), ('HIGHLIGHTS', 1), ('TADAH', 1), ('JOSEPHMORONG:', 1), ('DESPI…', 1), ('BLDG', 1), ('BRIEFING', 1), ('HOLDING', 1), ('PUSHING', 1), ('ROQUE', 1), ('HARRY', 1), ('SPOKESMAN', 1), ('PRESIDENTIAL', 1), ('WAS…', 1), ('NATIONWIDE', 1), ('STATION', 1), ('BECAUSE', 1), ('WHOLE', 1), ('YEARS', 1), ('FACT', 1), ('ITSACSLIFE:', 1), ('HTTPS://TCO/Q9EER67BIZ', 1), ('SCRIPT', 1), ('READING', 1), ('CHARLISCTEX:', 1), ('YEAR', 1), ('CURRENT', 1), ('SEMESTER', 1), ('STIPEND', 1), ('CITIZENS', 1), ('SENIOR', 1), ('INDIGENT', 1), ('PROJECT', 1), ('TUPAD', 1), ('WORKERS', 1), ('MARGINALIZED', 1), ('DISPLACED', 1), ('OPPORTUNITIES', 1), ('EMPLOYMENT', 1), ('WAGE', 1), ('TEMPORARY', 1), ('NYO', 1), ('TAENA', 1), ('PAHIRAPAN', 1), ('PANDEMYA', 1), ('HUMAHARAP', 1), ('KAMING', 1), ('RTPCR', 1), ('MANDATORY', 1), ('PUPUNTA', 1), ('BUTI', 1), ('ITSJAYEMD:', 1), ('HAHAHA', 1), ('AMPOTA', 1), ('YAN', 1), ('ANO', 1), ('INYO', 1), ('KAYO', 1), ('MAG', 1), ('DDS:', 1), ('NOTHING…', 1), ('HAD', 1), ('IRE', 1), ('DREW', 1), ('MINORITY', 1), ('SHOW', 1), ('PURSE', 1), ('OPEN', 1), ('CHAIHARVEST', 1), ('HTTPS://TCO/RXPLFCA9DA', 1), ('YES', 1), ('ART', 1), ('LUSTRE', 1), ('PREENPH:', 1), ('HTTPS://TCO/YVEOXWQ0GT', 1), ('KALAUNAN', 1), ('DIN', 1), ('GUMALING', 1), ('TAMAAN', 1), ('NANG', 1), ('MARSO', 1), ('BAGO', 1), ('NIYANG', 1), ('UNA', 1), ('CORONAVIRUS', 1), ('REMNANTS', 1), ('DAW', 1), ('POSIBLE', 1), ('SWAB', 1), ('SUMAILALIM', 1), ('MIGUEL', 1), ('JUAN', 1), ('MAJORITY', 1), ('NAGNEGATIBO', 1), ('HTTPS://TCO/PVUEZOILCJ', 1), ('CELEBRITIES', 1), ('SUSTANSYA”:', 1), ('“WALANG', 1), ('MARIARESSA:', 1)]\n"
     ]
    }
   ],
   "source": [
    "# CODE CELL\n",
    "\n",
    "# CODE START\n",
    "words_list = sorted(words_list, key = lambda tup:tup[1])\n",
    "words_list = words_list[::-1]\n",
    "print(words_list)\n",
    "# CODE END\n",
    "# The output should look like this."
   ]
  },
  {
   "cell_type": "markdown",
   "metadata": {},
   "source": [
    "### 1.7\n",
    "\n",
    "Print out the top 5 words (based on count).  \n",
    "\n",
    "Take note of the formatting below (i.e. one line per print output).  \n",
    "\n",
    "Sample output shown below.  "
   ]
  },
  {
   "cell_type": "code",
   "execution_count": 12,
   "metadata": {},
   "outputs": [
    {
     "name": "stdout",
     "output_type": "stream",
     "text": [
      "1 ('SONA', 65)\n",
      "2 ('THE', 55)\n",
      "3 ('RT', 53)\n",
      "4 ('TO', 36)\n",
      "5 ('SA', 34)\n"
     ]
    }
   ],
   "source": [
    "# CODE CELL\n",
    "counter = 0\n",
    "\n",
    "# CODE START\n",
    "for tup in words_list:\n",
    "    while counter!= 5:\n",
    "        print(f\"{counter + 1} {words_list[counter]}\")\n",
    "        counter += 1\n",
    "# CODE END\n",
    "\n",
    "# The output should look like this."
   ]
  },
  {
   "cell_type": "markdown",
   "metadata": {},
   "source": [
    "### 1.8\n",
    "\n",
    "Write a new csv file `./output/wordcount.csv` with format like so:  \n",
    "\n",
    "`word,count`  \n",
    "`SONA,65`  \n",
    "`THE,55`  \n",
    "`RT,53`  \n",
    "`TO,36`  \n",
    "`SA,34`  \n",
    "`...`  "
   ]
  },
  {
   "cell_type": "code",
   "execution_count": 13,
   "metadata": {},
   "outputs": [],
   "source": [
    "# CODE CELL\n",
    "import csv\n",
    "import json\n",
    "\n",
    "# CODE START\n",
    "with open('./output/wordcount.csv', 'w') as count:\n",
    "    csv_count = csv.writer(count)\n",
    "    csv_count.writerow(['word,count'])\n",
    "    for pair in words_list:\n",
    "        csv_count.writerow(pair)\n",
    "# CODE END"
   ]
  },
  {
   "cell_type": "markdown",
   "metadata": {},
   "source": [
    "Perform a `diff` or `fc` operation between your output file and the file named `wordcount-test.csv` which should be included in `section1`. Make sure there are no differences.  \n",
    "\n",
    "**IMPORTANT**: Please make sure that you submit wordcount.csv along with the rest of your files."
   ]
  },
  {
   "cell_type": "markdown",
   "metadata": {},
   "source": [
    "## Section 2: Reports for the Registrar (55 points)"
   ]
  },
  {
   "cell_type": "markdown",
   "metadata": {},
   "source": [
    "### Context\n",
    "\n",
    "Data is rarely in the form in which you want it. In this section of the assessment, you are doing consulting work for Ateneo's Office of the Registrar. They managed to collect the enlistment data for 4410 students through a Google Form. The form was not designed in such a way that the collected data is immediately usable, so they hired you to process their raw data into more appropriate forms.  \n",
    "\n",
    "Please run the following cell to load the file."
   ]
  },
  {
   "cell_type": "code",
   "execution_count": 22,
   "metadata": {},
   "outputs": [
    {
     "name": "stdout",
     "output_type": "stream",
     "text": [
      "[{'enlistment': [{'course code': 'UK 60', 'section': 'A'}, {'course code': 'GF 24', 'section': 'B'}, {'course code': 'ME 40', 'section': 'B'}, {'course code': 'VY 44', 'section': 'D'}, {'course code': 'EN 94', 'section': 'B'}], 'id': '201001', 'paid': True, 'school': 'SOSE', 'year level': 2}, {'enlistment': [{'course code': 'EQ 61', 'section': 'D'}, {'course code': 'UZ 22', 'section': 'B'}, {'course code': 'KS 36', 'section': 'B'}, {'course code': 'VH 63', 'section': 'A'}, {'course code': 'IW 81', 'section': 'C'}], 'id': '211002', 'paid': True, 'school': 'JGSOM', 'year level': 1}, {'enlistment': [{'course code': 'WE 15', 'section': 'D'}, {'course code': 'ZP 68', 'section': 'A'}, {'course code': 'GI 78', 'section': 'A'}, {'course code': 'GK 72', 'section': 'C'}, {'course code': 'FA 24', 'section': 'D'}, {'course code': 'UJ 28', 'section': 'A'}], 'id': '201003', 'paid': True, 'school': 'JGSOM', 'year level': 2}]\n"
     ]
    }
   ],
   "source": [
    "# execute this cell to load the file\n",
    "import json\n",
    "\n",
    "file_path = './section2/student-enrollment-data.json'\n",
    "\n",
    "with open(file_path, 'r') as f:\n",
    "    student_data = json.load(f)\n",
    "    \n",
    "# Print the first few items of this file to check that it worked properly\n",
    "# Please infer and understand the schema of this file.\n",
    "print(student_data[:3])"
   ]
  },
  {
   "cell_type": "markdown",
   "metadata": {},
   "source": [
    "### 2.1\n",
    "\n",
    "The first report the Registrar needs is a summary of all courses being offered. They want this report in the form of a **dictionary** whose keys are unique course codes and whose values are dictionaries with a single key-value pair describing the sections available for that course code.  \n",
    "\n",
    "Here is the schema of the desired output:  \n",
    "\n",
    "`{`  \n",
    "&nbsp;&nbsp;&nbsp;&nbsp;`course_code: {`  \n",
    "&nbsp;&nbsp;&nbsp;&nbsp;&nbsp;&nbsp;&nbsp;&nbsp;`\"sections\": [sections]`  \n",
    "&nbsp;&nbsp;&nbsp;&nbsp;`}`  \n",
    "`}`  \n",
    "\n",
    "A dictionary called `courses` is provided to you in the following cell. Using `student_data`, populate `courses` with the data the Registrar needs.  \n",
    "\n",
    "Dump this file as `./output/courses-output.json`.\n",
    "\n",
    "Additional specifications: \n",
    "1. Sort the list of sections alphabetically.\n",
    "\n",
    "Sample output is provided in `./section2/courses-sample-output.json`."
   ]
  },
  {
   "cell_type": "markdown",
   "metadata": {},
   "source": []
  },
  {
   "cell_type": "code",
   "execution_count": 23,
   "metadata": {},
   "outputs": [
    {
     "name": "stdout",
     "output_type": "stream",
     "text": [
      "{'UK 60': {'sections': ['A']}, 'GF 24': {'sections': ['A', 'B', 'C']}, 'ME 40': {'sections': ['A', 'B', 'C']}, 'VY 44': {'sections': ['A', 'B', 'C', 'D', 'E']}, 'EN 94': {'sections': ['A', 'B', 'C', 'D', 'E', 'F']}, 'EQ 61': {'sections': ['A', 'B', 'C', 'D']}, 'UZ 22': {'sections': ['A', 'B', 'C']}, 'KS 36': {'sections': ['A', 'B', 'C']}, 'VH 63': {'sections': ['A', 'B', 'C', 'D', 'E', 'F']}, 'IW 81': {'sections': ['A', 'B', 'C']}, 'WE 15': {'sections': ['A', 'B', 'C', 'D']}, 'ZP 68': {'sections': ['A']}, 'GI 78': {'sections': ['A']}, 'GK 72': {'sections': ['A', 'B', 'C', 'D', 'E', 'F']}, 'FA 24': {'sections': ['A', 'B', 'C', 'D']}, 'UJ 28': {'sections': ['A', 'B', 'C']}, 'ZJ 82': {'sections': ['A', 'B', 'C', 'D', 'E']}, 'SN 88': {'sections': ['A']}, 'TT 59': {'sections': ['A', 'B']}, 'HK 84': {'sections': ['A']}, 'HW 19': {'sections': ['A']}, 'SE 79': {'sections': ['A', 'B', 'C', 'D']}, 'BN 85': {'sections': ['A', 'B', 'C', 'D', 'E', 'F']}, 'LV 41': {'sections': ['A', 'B', 'C', 'D']}, 'OG 37': {'sections': ['A', 'B', 'C', 'D']}, 'QR 51': {'sections': ['A']}, 'TS 66': {'sections': ['A']}, 'YB 54': {'sections': ['A', 'B', 'C', 'D']}, 'YD 55': {'sections': ['A', 'B', 'C', 'D']}, 'VC 62': {'sections': ['A', 'B', 'C']}, 'FX 96': {'sections': ['A']}, 'GM 72': {'sections': ['A']}, 'GV 12': {'sections': ['A']}, 'YS 74': {'sections': ['A', 'B', 'C']}, 'MU 79': {'sections': ['A', 'B']}, 'VS 18': {'sections': ['A']}, 'AI 41': {'sections': ['A', 'B', 'C', 'D', 'E']}, 'MC 25': {'sections': ['A', 'B']}, 'FZ 18': {'sections': ['A']}, 'YQ 49': {'sections': ['A', 'B']}, 'AX 43': {'sections': ['A']}, 'KC 22': {'sections': ['A', 'B', 'C', 'D']}, 'KD 10': {'sections': ['A', 'B', 'C']}, 'RT 81': {'sections': ['A']}, 'UK 70': {'sections': ['A', 'B', 'C', 'D', 'E']}, 'LJ 29': {'sections': ['A', 'B']}, 'PG 71': {'sections': ['A', 'B', 'C']}, 'KD 33': {'sections': ['A']}, 'ZB 82': {'sections': ['A']}}\n",
      "{'UK 60': {'sections': ['A']}, 'GF 24': {'sections': ['A', 'B', 'C']}, 'ME 40': {'sections': ['A', 'B', 'C']}, 'VY 44': {'sections': ['A', 'B', 'C', 'D', 'E']}, 'EN 94': {'sections': ['A', 'B', 'C', 'D', 'E', 'F']}, 'EQ 61': {'sections': ['A', 'B', 'C', 'D']}, 'UZ 22': {'sections': ['A', 'B', 'C']}, 'KS 36': {'sections': ['A', 'B', 'C']}, 'VH 63': {'sections': ['A', 'B', 'C', 'D', 'E', 'F']}, 'IW 81': {'sections': ['A', 'B', 'C']}, 'WE 15': {'sections': ['A', 'B', 'C', 'D']}, 'ZP 68': {'sections': ['A']}, 'GI 78': {'sections': ['A']}, 'GK 72': {'sections': ['A', 'B', 'C', 'D', 'E', 'F']}, 'FA 24': {'sections': ['A', 'B', 'C', 'D']}, 'UJ 28': {'sections': ['A', 'B', 'C']}, 'ZJ 82': {'sections': ['A', 'B', 'C', 'D', 'E']}, 'SN 88': {'sections': ['A']}, 'TT 59': {'sections': ['A', 'B']}, 'HK 84': {'sections': ['A']}, 'HW 19': {'sections': ['A']}, 'SE 79': {'sections': ['A', 'B', 'C', 'D']}, 'BN 85': {'sections': ['A', 'B', 'C', 'D', 'E', 'F']}, 'LV 41': {'sections': ['A', 'B', 'C', 'D']}, 'OG 37': {'sections': ['A', 'B', 'C', 'D']}, 'QR 51': {'sections': ['A']}, 'TS 66': {'sections': ['A']}, 'YB 54': {'sections': ['A', 'B', 'C', 'D']}, 'YD 55': {'sections': ['A', 'B', 'C', 'D']}, 'VC 62': {'sections': ['A', 'B', 'C']}, 'FX 96': {'sections': ['A']}, 'GM 72': {'sections': ['A']}, 'GV 12': {'sections': ['A']}, 'YS 74': {'sections': ['A', 'B', 'C']}, 'MU 79': {'sections': ['A', 'B']}, 'VS 18': {'sections': ['A']}, 'AI 41': {'sections': ['A', 'B', 'C', 'D', 'E']}, 'MC 25': {'sections': ['A', 'B']}, 'FZ 18': {'sections': ['A']}, 'YQ 49': {'sections': ['A', 'B']}, 'AX 43': {'sections': ['A']}, 'KC 22': {'sections': ['A', 'B', 'C', 'D']}, 'KD 10': {'sections': ['A', 'B', 'C']}, 'RT 81': {'sections': ['A']}, 'UK 70': {'sections': ['A', 'B', 'C', 'D', 'E']}, 'LJ 29': {'sections': ['A', 'B']}, 'PG 71': {'sections': ['A', 'B', 'C']}, 'KD 33': {'sections': ['A']}, 'ZB 82': {'sections': ['A']}}\n"
     ]
    }
   ],
   "source": [
    "# CODE CELL\n",
    "import json\n",
    "courses = {}\n",
    "\n",
    "# CODE START\n",
    "for student in student_data:\n",
    "    for grp in range(0, len(student['enlistment'])):\n",
    "        added_section = student['enlistment'][grp]['section']\n",
    "        course = student['enlistment'][grp]['course code']\n",
    "        if course not in courses:\n",
    "            courses[course] = {'sections': added_section}\n",
    "        else:\n",
    "            courses[course]['sections'] = list(courses[course]['sections'])\n",
    "            courses[course]['sections'].extend(added_section)\n",
    "            courses[course]['sections'] = sorted(set(courses[course]['sections']))\n",
    "with open('./output/courses-output.json', 'w') as course:\n",
    "    json.dump(courses, course)\n",
    "print(courses)\n",
    "# CODE END\n",
    "# The output should look like this.\n",
    "print(courses)"
   ]
  },
  {
   "cell_type": "markdown",
   "metadata": {},
   "source": [
    "### 2.2\n",
    "\n",
    "The second report the Registrar needs is a _class list_ of every section. They want this report in the form of a **dictionary** whose keys are the course code and whose values are dictionaries describing the sections of that course code. Each section dictionary has two key-value pairs:  \n",
    "1. Key: \"section\"; Value: Section letter\n",
    "2. Key: \"class list\"; Value: [id numbers]  \n",
    "\n",
    "Here is the schema of the desired output:  \n",
    "`{`  \n",
    "&nbsp;&nbsp;&nbsp;&nbsp;`course_code: [{`  \n",
    "&nbsp;&nbsp;&nbsp;&nbsp;&nbsp;&nbsp;&nbsp;&nbsp;`\"section\": section_letter,`  \n",
    "&nbsp;&nbsp;&nbsp;&nbsp;&nbsp;&nbsp;&nbsp;&nbsp;`\"class list\": [id_numbers]`  \n",
    "&nbsp;&nbsp;&nbsp;&nbsp;`}]`  \n",
    "`}`  \n",
    "\n",
    "A dictionary called `class_lists` is provided to you. Using `student_data`, populate `class_lists` with the data that the Registrar needs.  \n",
    "\n",
    "Dump this file as `./output/class-lists.json`.  \n",
    "\n",
    "Additional specifications:\n",
    "1. Sort the list of ID numbers. No need to convert them to int, just sort them in place with `.sort()`.\n",
    "2. Do not reference the `courses` dictionary from Item 2.1 directly. This cell should be able to run independently of Item 2.1. You may, however, reuse your code by copy-pasting it here if you find that it will help.\n",
    "\n",
    "Sample output is provided in `./section2/class-lists-sample-output.json`."
   ]
  },
  {
   "cell_type": "code",
   "execution_count": 14,
   "metadata": {},
   "outputs": [],
   "source": [
    "# CODE CELL\n",
    "import json\n",
    "class_lists = {}\n",
    "counts = 0\n",
    "course_dict = {}\n",
    "for student in student_data:\n",
    "    for grp in range(0, len(student['enlistment'])):\n",
    "        added_section = student['enlistment'][grp]['section']\n",
    "        course = student['enlistment'][grp]['course code']\n",
    "        if course not in course_dict:\n",
    "            course_dict[course] = {'sections': added_section}\n",
    "        else:\n",
    "            course_dict[course]['sections'] = list(course_dict[course]['sections'])\n",
    "            course_dict[course]['sections'].extend(added_section)\n",
    "            course_dict[course]['sections'] = sorted(set(course_dict[course]['sections']))\n",
    "# CODE START\n",
    "\n",
    "\n",
    "for student in student_data:\n",
    "    for numb in range(len(student['enlistment'])): \n",
    "        for course in course_dict:\n",
    "            class_lists[course] = []\n",
    "            for sect in course_dict[course]['sections']:\n",
    "                class_lists[course].append({'section': sect})\n",
    "                for sect_count in range(0, len(class_lists[course])):\n",
    "                    class_lists[course][sect_count]['class list'] = []\n",
    "for student in student_data:\n",
    "    for numb in range(len(student['enlistment'])): \n",
    "       for course in course_dict:\n",
    "            for sect in course_dict[course]['sections']:\n",
    "                for sect_count in range(0, len(class_lists[course])):\n",
    "                    if (student['enlistment'][numb]['course code'] == course and student['enlistment'][numb]['section'] in class_lists[course][sect_count]['section']):\n",
    "                        class_lists[course][sect_count]['class list'].append(student['id'])\n",
    "                    else:\n",
    "                            continue\n",
    "for student in student_data:\n",
    "    for numb in range(len(student['enlistment'])): \n",
    "       for course in course_dict:\n",
    "            for sect in course_dict[course]['sections']:\n",
    "                for sect_count in range(0, len(class_lists[course])): \n",
    "                    class_lists[course][sect_count]['class list'] = sorted(set(class_lists[course][sect_count]['class list']))\n",
    "with open('./output/class-lists.json', 'w') as class_list:\n",
    "    json.dump(class_lists, class_list)\n",
    "# CODE END"
   ]
  },
  {
   "cell_type": "markdown",
   "metadata": {},
   "source": []
  },
  {
   "cell_type": "markdown",
   "metadata": {},
   "source": [
    "## Section 3: Payroll (65 points)"
   ]
  },
  {
   "cell_type": "markdown",
   "metadata": {},
   "source": [
    "### Context\n",
    "\n",
    "A startup decides to avoid hiring regular employees for now. Instead, they have been engaging consultants and interns to support them in their current operations. There are not a lot of people, but preparation is tedious.\n",
    "\n",
    "All consultants and interns get paid at the end of the month.\n",
    "\n",
    "Interns are expected to render 20 hours of work each month. The actual number of hours worked by each intern is then prorated against the monthly fee stated in their contract. For example, if an intern works 20 hours, then the disbursement will be 100%. If another intern works for only 11, the payout will be 11/20 or 55%.\n",
    "\n",
    "If interns go overtime in the month, they get a premium of 200% on their hourly rate for anything in excess of 20 hours. The hourly rate is computed as follows:\n",
    "\n",
    "*hourly rate = contracted monthly fee / 20*\n",
    "\n",
    "The startup works on an honesty system. In lieu of timesheets, each intern is given a link to Google Forms where they specify their temporary company ID and the number of hours they rendered for the month. All entries are then logged in an associated Google Sheets document. Human Resources then is able to export the spreadsheet into a CSV that looks like so (for the month of July, 2021, as contained in the file **./section3/interns-timelog-july-2021.csv**):\n",
    "\n",
    "```\n",
    "id,hours_rendered\n",
    "2021001,20\n",
    "2021002,17\n",
    "2021003,16\n",
    "2021004,15\n",
    "2021005,16\n",
    "2021006,18\n",
    "2021007,17\n",
    "2021008,17\n",
    "2021009,15\n",
    "2021010,18\n",
    "2021011,16\n",
    "2021012,20\n",
    "2021013,18\n",
    "2021014,22\n",
    "2021015,20\n",
    "2021016,25\n",
    "2021017,20\n",
    "2021018,17\n",
    "2021019,20\n",
    "2021020,18\n",
    "```\n",
    "\n",
    "At the company's discretion, certain employees are given work-from-home (WFH) privileges. If an intern has been tagged to be given a WFH allowance, an additional P300 is given.\n",
    "\n",
    "In addition, the intern gets to designate one of two banks (BPI, BDO) for payroll crediting.\n",
    "\n",
    "The intern masterfile, saved from a central database as csv, is shown below:\n",
    "\n",
    "```\n",
    "id,bank,account_number,monthly_fee,wfh\n",
    "2021001,BPI,1093 5000 5001,4500,Y\n",
    "2021002,BPI,1093 5000 5002,3500,Y\n",
    "2021003,BPI,1093 5000 5003,4500,Y\n",
    "2021004,BPI,1093 5000 5004,4500,Y\n",
    "2021005,BPI,1093 5000 5005,6000,Y\n",
    "2021006,BPI,1093 5000 5006,4500,Y\n",
    "2021007,BPI,1093 5000 5007,5000,Y\n",
    "2021008,BPI,1093 5000 5008,4500,Y\n",
    "2021009,BPI,1093 5000 5009,4500,N\n",
    "2021010,BPI,1093 5000 5010,6000,N\n",
    "2021011,BPI,1093 5000 5011,4500,N\n",
    "2021012,BPI,1093 5000 5012,3500,N\n",
    "2021013,BPI,1093 5000 5013,4500,N\n",
    "2021014,BPI,1093 5000 5014,4500,N\n",
    "2021015,BPI,1093 5000 5015,5000,Y\n",
    "2021016,BPI,1093 5000 5016,4500,Y\n",
    "2021017,BPI,1093 5000 5017,6000,Y\n",
    "2021018,BPI,1093 5000 5018,3500,Y\n",
    "2021019,BPI,1093 5000 5019,4500,Y\n",
    "2021020,BPI,1093 5000 5020,4500,Y\n",
    "```\n",
    "\n",
    "Consultants are paid in full (with no accounting for time); however, their take home pay is their contracted monthly fee less 10%. For example, if one consultant's gross pay is P100,000, the amount to be disbursed is P100,000 less 10% = P90,000. For another consultant that insists on P100,000 as net amount, it will be the company's burden to shoulder the taxes; this arrangement is commonly known as \"grossing up\". In the case of gross-up, if the disbursement needs to preserve P100,000.00, the contracted monthly fee is P111,111.11.\n",
    "\n",
    "Similar to interns, certain consultants are provided WFH allowance.\n",
    "\n",
    "The consultant masterlist is shown below:\n",
    "\n",
    "```\n",
    "tin,bank,account_number,monthly_fee,wfh\n",
    "151-500-200-000,BPI,1093 5000 6001,100000,Y\n",
    "151-500-201-000,BPI,1093 5000 6002,50000,Y\n",
    "151-500-202-000,BDO,0078 0000 0001,111111.11,Y\n",
    "151-500-203-000,BPI,1093 5000 6004,100000,Y\n",
    "151-500-204-000,BPI,1093 5000 6005,65000,Y\n",
    "151-500-205-000,BPI,1093 5000 6006,130000,Y\n",
    "151-500-206-000,BDO,0078 0000 0002,50000,Y\n",
    "151-500-207-000,BDO,0078 0000 0003,45000,Y\n",
    "151-500-208-000,BPI,1093 5000 6007,45000,N\n",
    "151-500-209-000,BPI,1093 5000 6008,60000,N\n",
    "151-500-210-000,BPI,1093 5000 6009,45000,N\n",
    "```"
   ]
  },
  {
   "cell_type": "markdown",
   "metadata": {},
   "source": [
    "### 3.1"
   ]
  },
  {
   "cell_type": "markdown",
   "metadata": {},
   "source": [
    "#### 3.1.1\n",
    "\n",
    "Write a function **get_utilization** with an argument **hours_rendered** and returns utilization (not percentage)."
   ]
  },
  {
   "cell_type": "code",
   "execution_count": 25,
   "metadata": {},
   "outputs": [],
   "source": [
    "# CODE CELL\n",
    "\n",
    "# CODE START\n",
    "def get_utilization(hours_rendered):\n",
    "    ut = hours_rendered/20\n",
    "    return ut\n",
    "# CODE END\n",
    "get_utilization(11)"
   ]
  },
  {
   "cell_type": "markdown",
   "metadata": {},
   "source": [
    "#### 3.1.2\n",
    "\n",
    "Write a function **get_pay** with four arguments: **monthly_fee**, **hours_rendered**, **overtime**, and **wfh_allowance**. It then returns the computed takehome pay as float. \n",
    "\n",
    "This function will presumably call **get_utilization**."
   ]
  },
  {
   "cell_type": "code",
   "execution_count": 2,
   "metadata": {},
   "outputs": [],
   "source": [
    "# CODE CELL\n",
    "\n",
    "# CODE START\n",
    "def get_pay(monthly_fee, hours_rendered, overtime_pay, wfh_allowance):\n",
    "    util = (get_utilization(hours_rendered))\n",
    "    if hours_rendered > 20:\n",
    "        payment = (util*monthly_fee) + overtime_pay + wfh_allowance\n",
    "    else: \n",
    "        payment = (util*monthly_fee) + wfh_allowance\n",
    "        \n",
    "# CODE END"
   ]
  },
  {
   "cell_type": "markdown",
   "metadata": {},
   "source": [
    "#### 3.1.3\n",
    "\n",
    "Write a function **get_overtime_pay** that accepts **hours_rendered** and **monthly_fee** as parameters and then returns the amount of overtime to credit to the intern."
   ]
  },
  {
   "cell_type": "code",
   "execution_count": 27,
   "metadata": {},
   "outputs": [],
   "source": [
    "# CODE CELL\n",
    "\n",
    "# CODE START\n",
    "def get_overtime_pay(monthly_fee,hours_rendered):\n",
    "    if hours_rendered > 20:\n",
    "        ot_hourly_rate = 2*(monthly_fee/20)\n",
    "        pay = ot_hourly_rate*(hours_rendered-20)\n",
    "        return pay\n",
    "    else:\n",
    "        return 0\n",
    "\n",
    "# CODE END"
   ]
  },
  {
   "cell_type": "markdown",
   "metadata": {},
   "source": [
    "You may run the cell below to test your code."
   ]
  },
  {
   "cell_type": "code",
   "execution_count": 28,
   "metadata": {},
   "outputs": [
    {
     "data": {
      "text/plain": [
       "2250.0"
      ]
     },
     "execution_count": 28,
     "metadata": {},
     "output_type": "execute_result"
    }
   ],
   "source": [
    "# NON-EDITABLE CODE CELL\n",
    "# You may run this cell, but do not edit it!\n",
    "\n",
    "# Expected output: 2250.0\n",
    "get_overtime_pay(4500,25)"
   ]
  },
  {
   "cell_type": "markdown",
   "metadata": {},
   "source": [
    "### 3.2: For Interns"
   ]
  },
  {
   "cell_type": "markdown",
   "metadata": {},
   "source": [
    "#### 3.2.1\n",
    "\n",
    "Create a list variable named `raw_log` that contains dictionaries (or ordered dictionaries if you use the DictReader method of the Python csv module) for each entry in the time-and-attendance log file **./section3/interns-timelogs-july2021.csv**."
   ]
  },
  {
   "cell_type": "code",
   "execution_count": 29,
   "metadata": {},
   "outputs": [
    {
     "name": "stdout",
     "output_type": "stream",
     "text": [
      "[{'id': '2021001', 'hours_rendered': '20'}, {'id': '2021002', 'hours_rendered': '17'}, {'id': '2021003', 'hours_rendered': '16'}, {'id': '2021004', 'hours_rendered': '15'}, {'id': '2021005', 'hours_rendered': '16'}, {'id': '2021006', 'hours_rendered': '18'}, {'id': '2021007', 'hours_rendered': '17'}, {'id': '2021008', 'hours_rendered': '17'}, {'id': '2021009', 'hours_rendered': '15'}, {'id': '2021010', 'hours_rendered': '18'}, {'id': '2021011', 'hours_rendered': '16'}, {'id': '2021012', 'hours_rendered': '20'}, {'id': '2021013', 'hours_rendered': '18'}, {'id': '2021014', 'hours_rendered': '22'}, {'id': '2021015', 'hours_rendered': '20'}, {'id': '2021016', 'hours_rendered': '25'}, {'id': '2021017', 'hours_rendered': '20'}, {'id': '2021018', 'hours_rendered': '17'}, {'id': '2021019', 'hours_rendered': '20'}, {'id': '2021020', 'hours_rendered': '18'}]\n"
     ]
    }
   ],
   "source": [
    "# CODE CELL\n",
    "import csv\n",
    "\n",
    "# CODE START\n",
    "with open('./section3/interns-timelogs-july2021.csv', \"r\") as csvlog:\n",
    "    dictio = csv.DictReader(csvlog)\n",
    "    raw_log = list(dictio)\n",
    "print(raw_log)\n",
    "# CODE END  \n",
    "# sample dump of raw_log in interactive mode"
   ]
  },
  {
   "cell_type": "markdown",
   "metadata": {},
   "source": [
    "#### 3.2.2\n",
    "\n",
    "To retrieve details about individual interns quickly, it's best that we store intern data in a dictionary. This way, we simply lookup the details of the intern by key (in this case, the **id**).\n",
    "\n",
    "Create a dictionary variable named **interns_master_dict** that contains dictionaries for each entry in the intern master file file **./section3/interns-masterlist.csv**."
   ]
  },
  {
   "cell_type": "code",
   "execution_count": 30,
   "metadata": {},
   "outputs": [
    {
     "data": {
      "text/plain": [
       "{'2021001': {'bank': 'BPI',\n",
       "  'account_number': '1093 5000 5001',\n",
       "  'monthly_fee': '4500',\n",
       "  'wfh': 'Y'},\n",
       " '2021002': {'bank': 'BPI',\n",
       "  'account_number': '1093 5000 5002',\n",
       "  'monthly_fee': '3500',\n",
       "  'wfh': 'Y'},\n",
       " '2021003': {'bank': 'BPI',\n",
       "  'account_number': '1093 5000 5003',\n",
       "  'monthly_fee': '4500',\n",
       "  'wfh': 'Y'},\n",
       " '2021004': {'bank': 'BPI',\n",
       "  'account_number': '1093 5000 5004',\n",
       "  'monthly_fee': '4500',\n",
       "  'wfh': 'Y'},\n",
       " '2021005': {'bank': 'BPI',\n",
       "  'account_number': '1093 5000 5005',\n",
       "  'monthly_fee': '6000',\n",
       "  'wfh': 'Y'},\n",
       " '2021006': {'bank': 'BPI',\n",
       "  'account_number': '1093 5000 5006',\n",
       "  'monthly_fee': '4500',\n",
       "  'wfh': 'Y'},\n",
       " '2021007': {'bank': 'BPI',\n",
       "  'account_number': '1093 5000 5007',\n",
       "  'monthly_fee': '5000',\n",
       "  'wfh': 'Y'},\n",
       " '2021008': {'bank': 'BPI',\n",
       "  'account_number': '1093 5000 5008',\n",
       "  'monthly_fee': '4500',\n",
       "  'wfh': 'Y'},\n",
       " '2021009': {'bank': 'BPI',\n",
       "  'account_number': '1093 5000 5009',\n",
       "  'monthly_fee': '4500',\n",
       "  'wfh': 'N'},\n",
       " '2021010': {'bank': 'BPI',\n",
       "  'account_number': '1093 5000 5010',\n",
       "  'monthly_fee': '6000',\n",
       "  'wfh': 'N'},\n",
       " '2021011': {'bank': 'BPI',\n",
       "  'account_number': '1093 5000 5011',\n",
       "  'monthly_fee': '4500',\n",
       "  'wfh': 'N'},\n",
       " '2021012': {'bank': 'BPI',\n",
       "  'account_number': '1093 5000 5012',\n",
       "  'monthly_fee': '3500',\n",
       "  'wfh': 'N'},\n",
       " '2021013': {'bank': 'BPI',\n",
       "  'account_number': '1093 5000 5013',\n",
       "  'monthly_fee': '4500',\n",
       "  'wfh': 'N'},\n",
       " '2021014': {'bank': 'BPI',\n",
       "  'account_number': '1093 5000 5014',\n",
       "  'monthly_fee': '4500',\n",
       "  'wfh': 'N'},\n",
       " '2021015': {'bank': 'BPI',\n",
       "  'account_number': '1093 5000 5015',\n",
       "  'monthly_fee': '5000',\n",
       "  'wfh': 'Y'},\n",
       " '2021016': {'bank': 'BPI',\n",
       "  'account_number': '1093 5000 5016',\n",
       "  'monthly_fee': '4500',\n",
       "  'wfh': 'Y'},\n",
       " '2021017': {'bank': 'BPI',\n",
       "  'account_number': '1093 5000 5017',\n",
       "  'monthly_fee': '6000',\n",
       "  'wfh': 'Y'},\n",
       " '2021018': {'bank': 'BPI',\n",
       "  'account_number': '1093 5000 5018',\n",
       "  'monthly_fee': '3500',\n",
       "  'wfh': 'Y'},\n",
       " '2021019': {'bank': 'BPI',\n",
       "  'account_number': '1093 5000 5019',\n",
       "  'monthly_fee': '4500',\n",
       "  'wfh': 'Y'},\n",
       " '2021020': {'bank': 'BPI',\n",
       "  'account_number': '1093 5000 5020',\n",
       "  'monthly_fee': '4500',\n",
       "  'wfh': 'Y'}}"
      ]
     },
     "execution_count": 30,
     "metadata": {},
     "output_type": "execute_result"
    }
   ],
   "source": [
    "# CODE CELL\n",
    "import csv \n",
    "interns_master_dict = {}\n",
    "# CODE START\n",
    "with open('./section3/interns_masterlist.csv', \"r\") as csvlog:\n",
    "    dictio = csv.DictReader(csvlog)\n",
    "    master_list = list(dictio)\n",
    "for interns in master_list:\n",
    "    interns_master_dict[interns['id']] = {'bank': interns['bank'], 'account_number': interns['account_number'], 'monthly_fee': interns['monthly_fee'], 'wfh': interns['wfh']}\n",
    "# CODE END\n",
    "\n",
    "# sample dump of raw_log in interactive mode\n",
    "interns_master_dict"
   ]
  },
  {
   "cell_type": "markdown",
   "metadata": {},
   "source": [
    "#### 3.2.3\n",
    "\n",
    "Create a new list variable **interns_payroll** based on raw_logs but with an additional key takehome_pay for each dictionary entry."
   ]
  },
  {
   "cell_type": "code",
   "execution_count": 31,
   "metadata": {},
   "outputs": [
    {
     "data": {
      "text/plain": [
       "[{'id': '2021001',\n",
       "  'hours_rendered': 20,\n",
       "  'monthly_fee': 4500,\n",
       "  'prorated_pay': 4500.0,\n",
       "  'overtime_pay': 0.0,\n",
       "  'takehome_pay': 4800.0},\n",
       " {'id': '2021002',\n",
       "  'hours_rendered': 17,\n",
       "  'monthly_fee': 3500,\n",
       "  'prorated_pay': 2975.0,\n",
       "  'overtime_pay': 0.0,\n",
       "  'takehome_pay': 3275.0},\n",
       " {'id': '2021003',\n",
       "  'hours_rendered': 16,\n",
       "  'monthly_fee': 4500,\n",
       "  'prorated_pay': 3600.0,\n",
       "  'overtime_pay': 0.0,\n",
       "  'takehome_pay': 3900.0},\n",
       " {'id': '2021004',\n",
       "  'hours_rendered': 15,\n",
       "  'monthly_fee': 4500,\n",
       "  'prorated_pay': 3375.0,\n",
       "  'overtime_pay': 0.0,\n",
       "  'takehome_pay': 3675.0},\n",
       " {'id': '2021005',\n",
       "  'hours_rendered': 16,\n",
       "  'monthly_fee': 6000,\n",
       "  'prorated_pay': 4800.0,\n",
       "  'overtime_pay': 0.0,\n",
       "  'takehome_pay': 5100.0},\n",
       " {'id': '2021006',\n",
       "  'hours_rendered': 18,\n",
       "  'monthly_fee': 4500,\n",
       "  'prorated_pay': 4050.0,\n",
       "  'overtime_pay': 0.0,\n",
       "  'takehome_pay': 4350.0},\n",
       " {'id': '2021007',\n",
       "  'hours_rendered': 17,\n",
       "  'monthly_fee': 5000,\n",
       "  'prorated_pay': 4250.0,\n",
       "  'overtime_pay': 0.0,\n",
       "  'takehome_pay': 4550.0},\n",
       " {'id': '2021008',\n",
       "  'hours_rendered': 17,\n",
       "  'monthly_fee': 4500,\n",
       "  'prorated_pay': 3825.0,\n",
       "  'overtime_pay': 0.0,\n",
       "  'takehome_pay': 4125.0},\n",
       " {'id': '2021009',\n",
       "  'hours_rendered': 15,\n",
       "  'monthly_fee': 4500,\n",
       "  'prorated_pay': 3375.0,\n",
       "  'overtime_pay': 0.0,\n",
       "  'takehome_pay': 3375.0},\n",
       " {'id': '2021010',\n",
       "  'hours_rendered': 18,\n",
       "  'monthly_fee': 6000,\n",
       "  'prorated_pay': 5400.0,\n",
       "  'overtime_pay': 0.0,\n",
       "  'takehome_pay': 5400.0},\n",
       " {'id': '2021011',\n",
       "  'hours_rendered': 16,\n",
       "  'monthly_fee': 4500,\n",
       "  'prorated_pay': 3600.0,\n",
       "  'overtime_pay': 0.0,\n",
       "  'takehome_pay': 3600.0},\n",
       " {'id': '2021012',\n",
       "  'hours_rendered': 20,\n",
       "  'monthly_fee': 3500,\n",
       "  'prorated_pay': 3500.0,\n",
       "  'overtime_pay': 0.0,\n",
       "  'takehome_pay': 3500.0},\n",
       " {'id': '2021013',\n",
       "  'hours_rendered': 18,\n",
       "  'monthly_fee': 4500,\n",
       "  'prorated_pay': 4050.0,\n",
       "  'overtime_pay': 0.0,\n",
       "  'takehome_pay': 4050.0},\n",
       " {'id': '2021014',\n",
       "  'hours_rendered': 22,\n",
       "  'monthly_fee': 4500,\n",
       "  'prorated_pay': 4500.0,\n",
       "  'overtime_pay': 900.0,\n",
       "  'takehome_pay': 5400.0},\n",
       " {'id': '2021015',\n",
       "  'hours_rendered': 20,\n",
       "  'monthly_fee': 5000,\n",
       "  'prorated_pay': 5000.0,\n",
       "  'overtime_pay': 0.0,\n",
       "  'takehome_pay': 5300.0},\n",
       " {'id': '2021016',\n",
       "  'hours_rendered': 25,\n",
       "  'monthly_fee': 4500,\n",
       "  'prorated_pay': 4500.0,\n",
       "  'overtime_pay': 2250.0,\n",
       "  'takehome_pay': 7050.0},\n",
       " {'id': '2021017',\n",
       "  'hours_rendered': 20,\n",
       "  'monthly_fee': 6000,\n",
       "  'prorated_pay': 6000.0,\n",
       "  'overtime_pay': 0.0,\n",
       "  'takehome_pay': 6300.0},\n",
       " {'id': '2021018',\n",
       "  'hours_rendered': 17,\n",
       "  'monthly_fee': 3500,\n",
       "  'prorated_pay': 2975.0,\n",
       "  'overtime_pay': 0.0,\n",
       "  'takehome_pay': 3275.0},\n",
       " {'id': '2021019',\n",
       "  'hours_rendered': 20,\n",
       "  'monthly_fee': 4500,\n",
       "  'prorated_pay': 4500.0,\n",
       "  'overtime_pay': 0.0,\n",
       "  'takehome_pay': 4800.0},\n",
       " {'id': '2021020',\n",
       "  'hours_rendered': 18,\n",
       "  'monthly_fee': 4500,\n",
       "  'prorated_pay': 4050.0,\n",
       "  'overtime_pay': 0.0,\n",
       "  'takehome_pay': 4350.0}]"
      ]
     },
     "execution_count": 31,
     "metadata": {},
     "output_type": "execute_result"
    }
   ],
   "source": [
    "# CODE CELL\n",
    "interns_payroll = []\n",
    "# CODE START\n",
    "\n",
    "for log in raw_log:\n",
    "    ids = log['id']\n",
    "    hrs = int(log['hours_rendered'])\n",
    "    mth_fee = int(interns_master_dict[ids]['monthly_fee'])\n",
    "    if hrs >= 20:\n",
    "        pro_pay = float(mth_fee)\n",
    "    elif hrs <20:\n",
    "        pro_pay = (hrs/20)* mth_fee\n",
    "    otp = float(get_overtime_pay(mth_fee, hrs))\n",
    "    if interns_master_dict[ids]['wfh'] == 'Y':\n",
    "        wfh = 300\n",
    "    else:\n",
    "        wfh = 0\n",
    "    th_pay = pro_pay + otp + wfh\n",
    "    interns_payroll.append({'id': ids, 'hours_rendered': hrs, 'monthly_fee': mth_fee, 'prorated_pay': pro_pay, 'overtime_pay': otp, 'takehome_pay': th_pay})\n",
    "# CODE END\n",
    "                 \n",
    "# sample dump of payroll in interactive mode\n",
    "interns_payroll"
   ]
  },
  {
   "cell_type": "markdown",
   "metadata": {},
   "source": [
    "#### 3.2.4\n",
    "\n",
    "Looping through the new list variable **payroll**, generate an intern payslip print spool file for the month of July. The time logs (as illustrated above) may be found in the file **./section3/interns-timelog-july2021.csv**.\n",
    "\n",
    "The output must be saved in a file named **./output/interns-payslips-july2021.txt**. The output looks like the following:\n",
    "\n",
    "```\n",
    "Payroll Date   : July 31, 2021\n",
    "ID             : 2021001\n",
    "Monthly Fee       : 4500\n",
    "------------------------------\n",
    "Hours Rendered : 20\n",
    "------------------------------\n",
    "Prorated Pay   : 4500.0\n",
    "Overtime Pay   : 0.0\n",
    "WFH Allowance  : 300\n",
    "Takehome Pay   : 4800.0\n",
    "\n",
    "______________________________\n",
    "Payroll Date   : July 31, 2021\n",
    "ID             : 2021002\n",
    "Monthly Fee       : 3500\n",
    "------------------------------\n",
    "Hours Rendered : 17\n",
    "------------------------------\n",
    "Prorated Pay   : 2975.0\n",
    "Overtime Pay   : 0.0\n",
    "WFH Allowance  : 300\n",
    "Takehome Pay   : 3275.0\n",
    "\n",
    "...\n",
    "\n",
    "______________________________\n",
    "Payroll Date   : July 31, 2021\n",
    "ID             : 2021013\n",
    "Monthly Fee       : 4500\n",
    "------------------------------\n",
    "Hours Rendered : 18\n",
    "------------------------------\n",
    "Prorated Pay   : 4050.0\n",
    "Overtime Pay   : 0.0\n",
    "Takehome Pay   : 4050.0\n",
    "\n",
    "______________________________\n",
    "Payroll Date   : July 31, 2021\n",
    "ID             : 2021014\n",
    "Monthly Fee       : 4500\n",
    "------------------------------\n",
    "Hours Rendered : 22\n",
    "------------------------------\n",
    "Prorated Pay   : 4950.0\n",
    "Overtime Pay   : 900.0\n",
    "Takehome Pay   : 5400.0\n",
    "\n",
    "...\n",
    "\n",
    "______________________________\n",
    "Payroll Date   : July 31, 2021\n",
    "ID             : 2021019\n",
    "Monthly Fee       : 4500\n",
    "------------------------------\n",
    "Hours Rendered : 20\n",
    "------------------------------\n",
    "Prorated Pay   : 4500.0\n",
    "Overtime Pay   : 0.0\n",
    "WFH Allowance  : 300\n",
    "Takehome Pay   : 4800.0\n",
    "\n",
    "______________________________\n",
    "Payroll Date   : July 31, 2021\n",
    "ID             : 2021020\n",
    "Monthly Fee       : 4500\n",
    "------------------------------\n",
    "Hours Rendered : 18\n",
    "------------------------------\n",
    "Prorated Pay   : 4050.0\n",
    "Overtime Pay   : 0.0\n",
    "WFH Allowance  : 300\n",
    "Takehome Pay   : 4350.0\n",
    "\n",
    "\n",
    "...\n",
    "\n",
    "______________________________\n",
    "Payroll Date   : July 31, 2020\n",
    "ID             : 2021009\n",
    "Base Pay       : 4,500\n",
    "------------------------------\n",
    "Hours Rendered : 15\n",
    "Takehome Pay   : 3,375.00\n",
    "...\n",
    "\n",
    "```\n",
    "\n",
    "**VERY IMPORTANT:** If the intern does not have a WFH allowance arrangement, **DO NOT** print out the line 'WFH Allowance'!!! The company does not want interns to ask about that if they see that line since it will open a can of worms."
   ]
  },
  {
   "cell_type": "code",
   "execution_count": 32,
   "metadata": {},
   "outputs": [],
   "source": [
    "# CODE CELL\n",
    "import csv\n",
    "\n",
    "filename = \"./output/interns-payslips-july2021.txt\"\n",
    "payroll_run_date = \"July 31, 2021\"\n",
    "# CODE START\n",
    "with open(filename, 'w') as intern_receipt:\n",
    "    count = 0\n",
    "    for log in raw_log:\n",
    "        ids = log['id']\n",
    "        if interns_master_dict[ids]['wfh'] == 'Y':\n",
    "            intern_receipt.write(\n",
    "f'''\n",
    "______________________________\n",
    "Payroll Date   : {payroll_run_date}\n",
    "ID             : {interns_payroll[count]['id']}\n",
    "Monthly Fee    : {interns_payroll[count]['monthly_fee']}\n",
    "------------------------------\n",
    "Hours Rendered : {interns_payroll[count]['hours_rendered']}\n",
    "------------------------------\n",
    "Prorated Pay   : {interns_payroll[count]['prorated_pay']}\n",
    "Overtime Pay   : {interns_payroll[count]['overtime_pay']}\n",
    "WFH Allowance  : 300\n",
    "Takehome Pay   : {interns_payroll[count]['takehome_pay']}\n",
    "\n",
    "''')\n",
    "        else: \n",
    "            intern_receipt.write(\n",
    "                f'''\n",
    "______________________________\n",
    "Payroll Date   : {payroll_run_date}\n",
    "ID             : {interns_payroll[count]['id']}\n",
    "Monthly Fee    : {interns_payroll[count]['monthly_fee']}\n",
    "------------------------------\n",
    "Hours Rendered : {interns_payroll[count]['hours_rendered']}\n",
    "------------------------------\n",
    "Prorated Pay   : {interns_payroll[count]['prorated_pay']}\n",
    "Overtime Pay   : {interns_payroll[count]['overtime_pay']}\n",
    "Takehome Pay   : {interns_payroll[count]['takehome_pay']}\n",
    "\n",
    "'''\n",
    "            )\n",
    "        count += 1\n",
    "# CODE END\n"
   ]
  },
  {
   "cell_type": "code",
   "execution_count": 33,
   "metadata": {},
   "outputs": [
    {
     "name": "stdout",
     "output_type": "stream",
     "text": [
      "\n",
      "______________________________\n",
      "Payroll Date   : July 31, 2021\n",
      "ID             : 2021001\n",
      "Monthly Fee    : 4500\n",
      "------------------------------\n",
      "Hours Rendered : 20\n",
      "------------------------------\n",
      "Prorated Pay   : 4500.0\n",
      "Overtime Pay   : 0.0\n",
      "WFH Allowance  : 300\n",
      "Takehome Pay   : 4800.0\n",
      "\n",
      "\n",
      "______________________________\n",
      "Payroll Date   : July 31, 2021\n",
      "ID             : 2021002\n",
      "Monthly Fee    : 3500\n",
      "------------------------------\n",
      "Hours Rendered : 17\n",
      "------------------------------\n",
      "Prorated Pay   : 2975.0\n",
      "Overtime Pay   : 0.0\n",
      "WFH Allowance  : 300\n",
      "Takehome Pay   : 3275.0\n",
      "\n",
      "\n",
      "______________________________\n",
      "Payroll Date   : July 31, 2021\n",
      "ID             : 2021003\n",
      "Monthly Fee    : 4500\n",
      "------------------------------\n",
      "Hours Rendered : 16\n",
      "------------------------------\n",
      "Prorated Pay   : 3600.0\n",
      "Overtime Pay   : 0.0\n",
      "WFH Allowance  : 300\n",
      "Takehome Pay   : 3900.0\n",
      "\n",
      "\n",
      "______________________________\n",
      "Payroll Date   : July 31, 2021\n",
      "ID             : 2021004\n",
      "Monthly Fee    : 4500\n",
      "------------------------------\n",
      "Hours Rendered : 15\n",
      "------------------------------\n",
      "Prorated Pay   : 3375.0\n",
      "Overtime Pay   : 0.0\n",
      "WFH Allowance  : 300\n",
      "Takehome Pay   : 3675.0\n",
      "\n",
      "\n",
      "______________________________\n",
      "Payroll Date   : July 31, 2021\n",
      "ID             : 2021005\n",
      "Monthly Fee    : 6000\n",
      "------------------------------\n",
      "Hours Rendered : 16\n",
      "------------------------------\n",
      "Prorated Pay   : 4800.0\n",
      "Overtime Pay   : 0.0\n",
      "WFH Allowance  : 300\n",
      "Takehome Pay   : 5100.0\n",
      "\n",
      "\n",
      "______________________________\n",
      "Payroll Date   : July 31, 2021\n",
      "ID             : 2021006\n",
      "Monthly Fee    : 4500\n",
      "------------------------------\n",
      "Hours Rendered : 18\n",
      "------------------------------\n",
      "Prorated Pay   : 4050.0\n",
      "Overtime Pay   : 0.0\n",
      "WFH Allowance  : 300\n",
      "Takehome Pay   : 4350.0\n",
      "\n",
      "\n",
      "______________________________\n",
      "Payroll Date   : July 31, 2021\n",
      "ID             : 2021007\n",
      "Monthly Fee    : 5000\n",
      "------------------------------\n",
      "Hours Rendered : 17\n",
      "------------------------------\n",
      "Prorated Pay   : 4250.0\n",
      "Overtime Pay   : 0.0\n",
      "WFH Allowance  : 300\n",
      "Takehome Pay   : 4550.0\n",
      "\n",
      "\n",
      "______________________________\n",
      "Payroll Date   : July 31, 2021\n",
      "ID             : 2021008\n",
      "Monthly Fee    : 4500\n",
      "------------------------------\n",
      "Hours Rendered : 17\n",
      "------------------------------\n",
      "Prorated Pay   : 3825.0\n",
      "Overtime Pay   : 0.0\n",
      "WFH Allowance  : 300\n",
      "Takehome Pay   : 4125.0\n",
      "\n",
      "\n",
      "______________________________\n",
      "Payroll Date   : July 31, 2021\n",
      "ID             : 2021009\n",
      "Monthly Fee    : 4500\n",
      "------------------------------\n",
      "Hours Rendered : 15\n",
      "------------------------------\n",
      "Prorated Pay   : 3375.0\n",
      "Overtime Pay   : 0.0\n",
      "Takehome Pay   : 3375.0\n",
      "\n",
      "\n",
      "______________________________\n",
      "Payroll Date   : July 31, 2021\n",
      "ID             : 2021010\n",
      "Monthly Fee    : 6000\n",
      "------------------------------\n",
      "Hours Rendered : 18\n",
      "------------------------------\n",
      "Prorated Pay   : 5400.0\n",
      "Overtime Pay   : 0.0\n",
      "Takehome Pay   : 5400.0\n",
      "\n",
      "\n",
      "______________________________\n",
      "Payroll Date   : July 31, 2021\n",
      "ID             : 2021011\n",
      "Monthly Fee    : 4500\n",
      "------------------------------\n",
      "Hours Rendered : 16\n",
      "------------------------------\n",
      "Prorated Pay   : 3600.0\n",
      "Overtime Pay   : 0.0\n",
      "Takehome Pay   : 3600.0\n",
      "\n",
      "\n",
      "______________________________\n",
      "Payroll Date   : July 31, 2021\n",
      "ID             : 2021012\n",
      "Monthly Fee    : 3500\n",
      "------------------------------\n",
      "Hours Rendered : 20\n",
      "------------------------------\n",
      "Prorated Pay   : 3500.0\n",
      "Overtime Pay   : 0.0\n",
      "Takehome Pay   : 3500.0\n",
      "\n",
      "\n",
      "______________________________\n",
      "Payroll Date   : July 31, 2021\n",
      "ID             : 2021013\n",
      "Monthly Fee    : 4500\n",
      "------------------------------\n",
      "Hours Rendered : 18\n",
      "------------------------------\n",
      "Prorated Pay   : 4050.0\n",
      "Overtime Pay   : 0.0\n",
      "Takehome Pay   : 4050.0\n",
      "\n",
      "\n",
      "______________________________\n",
      "Payroll Date   : July 31, 2021\n",
      "ID             : 2021014\n",
      "Monthly Fee    : 4500\n",
      "------------------------------\n",
      "Hours Rendered : 22\n",
      "------------------------------\n",
      "Prorated Pay   : 4500.0\n",
      "Overtime Pay   : 900.0\n",
      "Takehome Pay   : 5400.0\n",
      "\n",
      "\n",
      "______________________________\n",
      "Payroll Date   : July 31, 2021\n",
      "ID             : 2021015\n",
      "Monthly Fee    : 5000\n",
      "------------------------------\n",
      "Hours Rendered : 20\n",
      "------------------------------\n",
      "Prorated Pay   : 5000.0\n",
      "Overtime Pay   : 0.0\n",
      "WFH Allowance  : 300\n",
      "Takehome Pay   : 5300.0\n",
      "\n",
      "\n",
      "______________________________\n",
      "Payroll Date   : July 31, 2021\n",
      "ID             : 2021016\n",
      "Monthly Fee    : 4500\n",
      "------------------------------\n",
      "Hours Rendered : 25\n",
      "------------------------------\n",
      "Prorated Pay   : 4500.0\n",
      "Overtime Pay   : 2250.0\n",
      "WFH Allowance  : 300\n",
      "Takehome Pay   : 7050.0\n",
      "\n",
      "\n",
      "______________________________\n",
      "Payroll Date   : July 31, 2021\n",
      "ID             : 2021017\n",
      "Monthly Fee    : 6000\n",
      "------------------------------\n",
      "Hours Rendered : 20\n",
      "------------------------------\n",
      "Prorated Pay   : 6000.0\n",
      "Overtime Pay   : 0.0\n",
      "WFH Allowance  : 300\n",
      "Takehome Pay   : 6300.0\n",
      "\n",
      "\n",
      "______________________________\n",
      "Payroll Date   : July 31, 2021\n",
      "ID             : 2021018\n",
      "Monthly Fee    : 3500\n",
      "------------------------------\n",
      "Hours Rendered : 17\n",
      "------------------------------\n",
      "Prorated Pay   : 2975.0\n",
      "Overtime Pay   : 0.0\n",
      "WFH Allowance  : 300\n",
      "Takehome Pay   : 3275.0\n",
      "\n",
      "\n",
      "______________________________\n",
      "Payroll Date   : July 31, 2021\n",
      "ID             : 2021019\n",
      "Monthly Fee    : 4500\n",
      "------------------------------\n",
      "Hours Rendered : 20\n",
      "------------------------------\n",
      "Prorated Pay   : 4500.0\n",
      "Overtime Pay   : 0.0\n",
      "WFH Allowance  : 300\n",
      "Takehome Pay   : 4800.0\n",
      "\n",
      "\n",
      "______________________________\n",
      "Payroll Date   : July 31, 2021\n",
      "ID             : 2021020\n",
      "Monthly Fee    : 4500\n",
      "------------------------------\n",
      "Hours Rendered : 18\n",
      "------------------------------\n",
      "Prorated Pay   : 4050.0\n",
      "Overtime Pay   : 0.0\n",
      "WFH Allowance  : 300\n",
      "Takehome Pay   : 4350.0\n",
      "\n"
     ]
    }
   ],
   "source": [
    "# NON-EDITABLE CODE CELL\n",
    "# You may run this cell, but do not edit it.\n",
    "\n",
    "# See the output of your file\n",
    "!cat ./output/interns-payslips-july2021.txt"
   ]
  },
  {
   "cell_type": "markdown",
   "metadata": {},
   "source": [
    "### 3.3: For Consultants"
   ]
  },
  {
   "cell_type": "markdown",
   "metadata": {},
   "source": [
    "Create a regular CSV named **./output/consultants_payouts_july2021.csv** containing consultant payout amounts. Use **./section3/consultants_masterlist.csv** as basis for the amounts, then don't forget to deduct 10% withholding tax.\n",
    "\n",
    "```\n",
    "tin,net_pay\n",
    "151-500-200-000,90000.00\n",
    "...\n",
    "151-500-202-000,100000.00\n",
    "...\n",
    "\n",
    "```"
   ]
  },
  {
   "cell_type": "markdown",
   "metadata": {},
   "source": [
    "Create a dictionary **consultants_master_dict** containing lookups for consultants."
   ]
  },
  {
   "cell_type": "code",
   "execution_count": 34,
   "metadata": {},
   "outputs": [
    {
     "data": {
      "text/plain": [
       "{'151-500-200-000': {'bank': 'BPI', 'account_number': '1093 5000 6001'},\n",
       " '151-500-201-000': {'bank': 'BPI', 'account_number': '1093 5000 6002'},\n",
       " '151-500-202-000': {'bank': 'BDO', 'account_number': '0078 0000 0001'},\n",
       " '151-500-203-000': {'bank': 'BPI', 'account_number': '1093 5000 6004'},\n",
       " '151-500-204-000': {'bank': 'BPI', 'account_number': '1093 5000 6005'},\n",
       " '151-500-205-000': {'bank': 'BPI', 'account_number': '1093 5000 6006'},\n",
       " '151-500-206-000': {'bank': 'BDO', 'account_number': '0078 0000 0002'},\n",
       " '151-500-207-000': {'bank': 'BDO', 'account_number': '0078 0000 0003'},\n",
       " '151-500-208-000': {'bank': 'BPI', 'account_number': '1093 5000 6007'},\n",
       " '151-500-209-000': {'bank': 'BPI', 'account_number': '1093 5000 6008'},\n",
       " '151-500-210-000': {'bank': 'BPI', 'account_number': '1093 5000 6009'}}"
      ]
     },
     "execution_count": 34,
     "metadata": {},
     "output_type": "execute_result"
    }
   ],
   "source": [
    "# CODE CELL\n",
    "\n",
    "consultants_master_dict = {}\n",
    "import csv\n",
    "with open('./section3/consultants_masterlist.csv', \"r\") as cons:\n",
    "    consdictio = csv.DictReader(cons)\n",
    "    cons_list = list(consdictio)\n",
    "# CODE START\n",
    "for consultant in cons_list:\n",
    "    tin = consultant['tin']\n",
    "    bank = consultant['bank']\n",
    "    acc_number = consultant['account_number']\n",
    "    consultants_master_dict[tin] = {'bank': bank, 'account_number': acc_number}\n",
    "# CODE END\n",
    "consultants_master_dict\n"
   ]
  },
  {
   "cell_type": "markdown",
   "metadata": {},
   "source": [
    "Unlike the interns, we don't need to give consultants payslips. However, it would be easier to run \"payroll\" for consultants and store the results in a staging file. Run the consultants' \"payroll\" by keeping the results in a list variable called **consultants_payroll**. Each element of this list is based on a corresponding role in **./section3/consultants_masterlist.csv**. To make it easier, create a **consultants_fees** list variable by reading from this file. \n",
    "\n",
    "Then, generate a consultant payout file named **./output/consultants_payouts_july2021.csv**."
   ]
  },
  {
   "cell_type": "code",
   "execution_count": 35,
   "metadata": {},
   "outputs": [
    {
     "data": {
      "text/plain": [
       "[{'tin': '151-500-200-000',\n",
       "  'bank': 'BPI',\n",
       "  'account_number': '1093 5000 6001',\n",
       "  'monthly_fee': '100000',\n",
       "  'wfh': 'Y'},\n",
       " {'tin': '151-500-201-000',\n",
       "  'bank': 'BPI',\n",
       "  'account_number': '1093 5000 6002',\n",
       "  'monthly_fee': '50000',\n",
       "  'wfh': 'Y'},\n",
       " {'tin': '151-500-202-000',\n",
       "  'bank': 'BDO',\n",
       "  'account_number': '0078 0000 0001',\n",
       "  'monthly_fee': '111111.11',\n",
       "  'wfh': 'Y'},\n",
       " {'tin': '151-500-203-000',\n",
       "  'bank': 'BPI',\n",
       "  'account_number': '1093 5000 6004',\n",
       "  'monthly_fee': '100000',\n",
       "  'wfh': 'Y'},\n",
       " {'tin': '151-500-204-000',\n",
       "  'bank': 'BPI',\n",
       "  'account_number': '1093 5000 6005',\n",
       "  'monthly_fee': '65000',\n",
       "  'wfh': 'Y'},\n",
       " {'tin': '151-500-205-000',\n",
       "  'bank': 'BPI',\n",
       "  'account_number': '1093 5000 6006',\n",
       "  'monthly_fee': '130000',\n",
       "  'wfh': 'Y'},\n",
       " {'tin': '151-500-206-000',\n",
       "  'bank': 'BDO',\n",
       "  'account_number': '0078 0000 0002',\n",
       "  'monthly_fee': '50000',\n",
       "  'wfh': 'Y'},\n",
       " {'tin': '151-500-207-000',\n",
       "  'bank': 'BDO',\n",
       "  'account_number': '0078 0000 0003',\n",
       "  'monthly_fee': '45000',\n",
       "  'wfh': 'Y'},\n",
       " {'tin': '151-500-208-000',\n",
       "  'bank': 'BPI',\n",
       "  'account_number': '1093 5000 6007',\n",
       "  'monthly_fee': '45000',\n",
       "  'wfh': 'N'},\n",
       " {'tin': '151-500-209-000',\n",
       "  'bank': 'BPI',\n",
       "  'account_number': '1093 5000 6008',\n",
       "  'monthly_fee': '60000',\n",
       "  'wfh': 'N'},\n",
       " {'tin': '151-500-210-000',\n",
       "  'bank': 'BPI',\n",
       "  'account_number': '1093 5000 6009',\n",
       "  'monthly_fee': '45000',\n",
       "  'wfh': 'N'}]"
      ]
     },
     "execution_count": 35,
     "metadata": {},
     "output_type": "execute_result"
    }
   ],
   "source": [
    "# CODE CELL\n",
    "consultants_fees = []\n",
    "\n",
    "input_file = \"./section3/consultants_masterlist.csv\"\n",
    "# CODE START\n",
    "with open(input_file, \"r\") as consult:\n",
    "    consultdictio = csv.DictReader(consult)\n",
    "    consultants_fees = list(consultdictio)\n",
    "# CODE END\n",
    "\n",
    "# dump output\n",
    "consultants_fees"
   ]
  },
  {
   "cell_type": "code",
   "execution_count": 36,
   "metadata": {},
   "outputs": [
    {
     "data": {
      "text/plain": [
       "[{'tin': '151-500-200-000', 'net_pay': 90000.0},\n",
       " {'tin': '151-500-201-000', 'net_pay': 45000.0},\n",
       " {'tin': '151-500-202-000', 'net_pay': 99999.999},\n",
       " {'tin': '151-500-203-000', 'net_pay': 90000.0},\n",
       " {'tin': '151-500-204-000', 'net_pay': 58500.0},\n",
       " {'tin': '151-500-205-000', 'net_pay': 117000.0},\n",
       " {'tin': '151-500-206-000', 'net_pay': 45000.0},\n",
       " {'tin': '151-500-207-000', 'net_pay': 40500.0},\n",
       " {'tin': '151-500-208-000', 'net_pay': 40500.0},\n",
       " {'tin': '151-500-209-000', 'net_pay': 54000.0},\n",
       " {'tin': '151-500-210-000', 'net_pay': 40500.0}]"
      ]
     },
     "execution_count": 36,
     "metadata": {},
     "output_type": "execute_result"
    }
   ],
   "source": [
    "# CODE CELL\n",
    "consultants_payroll = []\n",
    "import csv\n",
    "# CODE START\n",
    "for consultants in consultants_fees:\n",
    "    netp = (float(consultants['monthly_fee'])*0.9)\n",
    "    consultants_payroll.append({'tin': consultants['tin'], 'net_pay': netp})\n",
    "    \n",
    "with open('./output/consultants_payouts_july2021.csv', 'w') as payout:\n",
    "    conspay = csv.writer(payout)\n",
    "    conspay.writerow(consultants_payroll[0].keys())\n",
    "    for value in consultants_payroll:\n",
    "        conspay.writerow((value['tin'], value['net_pay']))\n",
    "# CODE END\n",
    "\n",
    "# sample dump of raw_log in interactive mode\n",
    "consultants_payroll\n"
   ]
  },
  {
   "cell_type": "markdown",
   "metadata": {},
   "source": [
    "To check if your payout file contents are correct, run `cat` (if using MacOS) or `type` (if using Windows). Don't forget the \"!\" character before the command. Replace `cat` with `type` if you are on Windows."
   ]
  },
  {
   "cell_type": "code",
   "execution_count": 18,
   "metadata": {},
   "outputs": [
    {
     "name": "stdout",
     "output_type": "stream",
     "text": [
      "\n",
      "\n",
      "\n",
      "\n",
      "\n",
      "\n",
      "\n",
      "\n",
      "\n",
      "\n",
      "\n",
      "\n"
     ]
    }
   ],
   "source": [
    "!cat ./output/consultants_payouts_july2021.csv"
   ]
  },
  {
   "cell_type": "markdown",
   "metadata": {},
   "source": [
    "### 3.4: Bank Credit Advise"
   ]
  },
  {
   "cell_type": "markdown",
   "metadata": {},
   "source": [
    "\n",
    "\n",
    "**B. Bank Credit Advise**\n",
    "\n",
    "Generate a credit advise file each for BPI and BDO covering interns and consultants. The files must be named **./output/su-bpi-payment-advise.csv** and **./output/su-bdo-payment-advise.csv** respectively and should look like the following:\n",
    "\n",
    "```\n",
    "account_number,amount\n",
    "109350005001,4800.0\n",
    "109350005002,3275.0\n",
    "...\n",
    "109350005003,3375.0\n",
    "...\n",
    "109350006001,9000\n",
    "```\n",
    "\n"
   ]
  },
  {
   "cell_type": "code",
   "execution_count": 37,
   "metadata": {},
   "outputs": [],
   "source": [
    "# CODE CELL\n",
    "bpi_advise = []\n",
    "bdo_advise = []\n",
    "cons_counter = 0\n",
    "intern_counter = 0\n",
    "# CODE START\n",
    "for internss in interns_master_dict:\n",
    "    if interns_master_dict[internss]['bank'] == 'BPI':\n",
    "        bpi_advise.append({'account_number': interns_master_dict[internss]['account_number'], 'amount': interns_payroll[intern_counter]['takehome_pay']})\n",
    "    elif interns_master_dict[internss]['bank'] == 'BDO':\n",
    "        bdo_advise.append({'account_number': interns_master_dict[internss]['account_number'], 'amount': interns_payroll[intern_counter]['takehome_pay']})\n",
    "    intern_counter += 1\n",
    "for consultant in consultants_fees:\n",
    "    if consultant['bank'] == 'BPI':\n",
    "        bpi_advise.append({'account_number': consultant['account_number'], 'amount': consultants_payroll[cons_counter]['net_pay']})\n",
    "    elif consultant['bank'] == 'BDO':\n",
    "        bdo_advise.append({'account_number': consultant['account_number'], 'amount': consultants_payroll[cons_counter]['net_pay']})\n",
    "    cons_counter += 1\n",
    "with open('./output/su-bpi-payment-advise.csv', 'w') as bpipay:\n",
    "    bpiadv = csv.writer(bpipay)\n",
    "    bpiadv.writerow(['account_number,amount'])\n",
    "    for bpiacc in bpi_advise:\n",
    "        bpiadv.writerow((bpiacc['account_number'], bpiacc['amount']))\n",
    "with open('./output/su-bdo-payment-advise.csv', 'w') as bdopay:\n",
    "    bdoadv = csv.writer(bdopay)\n",
    "    bdoadv.writerow(['account_number,amount'])\n",
    "    for bdoacc in bdo_advise:\n",
    "        bdoadv.writerow((bdoacc['account_number'], bdoacc['amount']))\n",
    "# CODE END"
   ]
  },
  {
   "cell_type": "code",
   "execution_count": 46,
   "metadata": {},
   "outputs": [
    {
     "data": {
      "text/plain": [
       "[{'account_number': '1093 5000 5001', 'amount': 4800.0},\n",
       " {'account_number': '1093 5000 5002', 'amount': 3275.0},\n",
       " {'account_number': '1093 5000 5003', 'amount': 3900.0},\n",
       " {'account_number': '1093 5000 5004', 'amount': 3675.0},\n",
       " {'account_number': '1093 5000 5005', 'amount': 5100.0},\n",
       " {'account_number': '1093 5000 5006', 'amount': 4350.0},\n",
       " {'account_number': '1093 5000 5007', 'amount': 4550.0},\n",
       " {'account_number': '1093 5000 5008', 'amount': 4125.0},\n",
       " {'account_number': '1093 5000 5009', 'amount': 3375.0},\n",
       " {'account_number': '1093 5000 5010', 'amount': 5400.0},\n",
       " {'account_number': '1093 5000 5011', 'amount': 3600.0},\n",
       " {'account_number': '1093 5000 5012', 'amount': 3500.0},\n",
       " {'account_number': '1093 5000 5013', 'amount': 4050.0},\n",
       " {'account_number': '1093 5000 5014', 'amount': 5400.0},\n",
       " {'account_number': '1093 5000 5015', 'amount': 5300.0},\n",
       " {'account_number': '1093 5000 5016', 'amount': 7050.0},\n",
       " {'account_number': '1093 5000 5017', 'amount': 6300.0},\n",
       " {'account_number': '1093 5000 5018', 'amount': 3275.0},\n",
       " {'account_number': '1093 5000 5019', 'amount': 4800.0},\n",
       " {'account_number': '1093 5000 5020', 'amount': 4350.0},\n",
       " {'account_number': '1093 5000 6001', 'amount': 90000.0},\n",
       " {'account_number': '1093 5000 6002', 'amount': 45000.0},\n",
       " {'account_number': '1093 5000 6004', 'amount': 90000.0},\n",
       " {'account_number': '1093 5000 6005', 'amount': 58500.0},\n",
       " {'account_number': '1093 5000 6006', 'amount': 117000.0},\n",
       " {'account_number': '1093 5000 6007', 'amount': 40500.0},\n",
       " {'account_number': '1093 5000 6008', 'amount': 54000.0},\n",
       " {'account_number': '1093 5000 6009', 'amount': 40500.0}]"
      ]
     },
     "execution_count": 46,
     "metadata": {},
     "output_type": "execute_result"
    }
   ],
   "source": [
    "bpi_advise"
   ]
  },
  {
   "cell_type": "code",
   "execution_count": 47,
   "metadata": {},
   "outputs": [
    {
     "data": {
      "text/plain": [
       "[{'account_number': '0078 0000 0001', 'amount': 40500.0},\n",
       " {'account_number': '0078 0000 0002', 'amount': 54000.0},\n",
       " {'account_number': '0078 0000 0003', 'amount': 40500.0}]"
      ]
     },
     "execution_count": 47,
     "metadata": {},
     "output_type": "execute_result"
    }
   ],
   "source": [
    "bdo_advise"
   ]
  },
  {
   "cell_type": "markdown",
   "metadata": {},
   "source": [
    "To check if your file outputs are correct, run either cat (on MacOS) or type (on Windows) below. Just replace `cat` with `type` if you're using Windows."
   ]
  },
  {
   "cell_type": "code",
   "execution_count": 43,
   "metadata": {},
   "outputs": [
    {
     "name": "stdout",
     "output_type": "stream",
     "text": [
      "\n",
      "\n",
      "\n",
      "\n",
      "\n",
      "\n",
      "\n",
      "\n",
      "\n",
      "\n",
      "\n",
      "\n",
      "\n",
      "\n",
      "\n",
      "\n",
      "\n",
      "\n",
      "\n",
      "\n",
      "\n",
      "\n",
      "\n",
      "\n",
      "\n",
      "\n",
      "\n",
      "\n",
      "\n"
     ]
    }
   ],
   "source": [
    "!cat ./output/su-bpi-payment-advise.csv"
   ]
  },
  {
   "cell_type": "code",
   "execution_count": 44,
   "metadata": {},
   "outputs": [
    {
     "name": "stdout",
     "output_type": "stream",
     "text": [
      "\n",
      "\n",
      "\n",
      "\n"
     ]
    }
   ],
   "source": [
    "!cat ./output/su-bdo-payment-advise.csv"
   ]
  },
  {
   "cell_type": "code",
   "execution_count": null,
   "metadata": {},
   "outputs": [],
   "source": []
  }
 ],
 "metadata": {
  "interpreter": {
   "hash": "c3c50d956b9aece01b6759b2e1923edc032f760b2da42fc75801605919fb51d1"
  },
  "kernelspec": {
   "display_name": "Python 3.8.8 64-bit ('base': conda)",
   "name": "python3"
  },
  "language_info": {
   "codemirror_mode": {
    "name": "ipython",
    "version": 3
   },
   "file_extension": ".py",
   "mimetype": "text/x-python",
   "name": "python",
   "nbconvert_exporter": "python",
   "pygments_lexer": "ipython3",
   "version": "3.8.8"
  }
 },
 "nbformat": 4,
 "nbformat_minor": 5
}